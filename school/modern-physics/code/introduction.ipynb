{
 "cells": [
  {
   "cell_type": "code",
   "execution_count": 14,
   "metadata": {},
   "outputs": [
    {
     "name": "stdout",
     "output_type": "stream",
     "text": [
      "Table 1:\n",
      "| Header 1 | Header 2 |\n",
      "|----------|----------|\n",
      "| Row 1, Col 1 | Row 1, Col 2 |\n",
      "| Row 2, Col 1 | Row 2, Col 2 |\n",
      "\n",
      "Table 2:\n",
      "| Another Table |\n",
      "|---------------|\n",
      "| Single column |\n",
      "| Another row   |\n",
      "\n"
     ]
    }
   ],
   "source": [
    "import re\n",
    "\n",
    "def find_markdown_tables(text):\n",
    "    # Simplified regular expression pattern to match Markdown tables\n",
    "    pattern = r'\\|(.+\\|)+\\n\\|(\\s*:?-+:?\\s*\\|)+\\n(\\|(.+\\|)+\\n)+'\n",
    "    \n",
    "    # Find all matches in the text\n",
    "    tables = re.findall(pattern, text, re.MULTILINE)\n",
    "    \n",
    "    # Extract full table strings from matches\n",
    "    full_tables = [table[0] for table in re.finditer(pattern, text, re.MULTILINE)]\n",
    "    \n",
    "    return full_tables\n",
    "\n",
    "# Example usage\n",
    "sample_text = \"\"\"\n",
    "Some text before the table.\n",
    "\n",
    "| Header 1 | Header 2 |\n",
    "|----------|----------|\n",
    "| Row 1, Col 1 | Row 1, Col 2 |\n",
    "| Row 2, Col 1 | Row 2, Col 2 |\n",
    "\n",
    "Some text between tables.\n",
    "\n",
    "| Another Table |\n",
    "|---------------|\n",
    "| Single column |\n",
    "| Another row   |\n",
    "\n",
    "Text after the tables.\n",
    "\"\"\"\n",
    "\n",
    "found_tables = find_markdown_tables(sample_text)\n",
    "for i, table in enumerate(found_tables, 1):\n",
    "    print(f\"Table {i}:\\n{table}\")"
   ]
  },
  {
   "cell_type": "code",
   "execution_count": null,
   "metadata": {},
   "outputs": [],
   "source": []
  }
 ],
 "metadata": {
  "kernelspec": {
   "display_name": "Python 3",
   "language": "python",
   "name": "python3"
  },
  "language_info": {
   "codemirror_mode": {
    "name": "ipython",
    "version": 3
   },
   "file_extension": ".py",
   "mimetype": "text/x-python",
   "name": "python",
   "nbconvert_exporter": "python",
   "pygments_lexer": "ipython3",
   "version": "3.10.0"
  }
 },
 "nbformat": 4,
 "nbformat_minor": 2
}
