{
 "cells": [
  {
   "cell_type": "code",
   "execution_count": 55,
   "metadata": {},
   "outputs": [
    {
     "name": "stdout",
     "output_type": "stream",
     "text": [
      "\n",
      "Final state in LaTeX:\n",
      "$\\frac{\\sqrt{2}}{4} \\bigg(\\ket {+++} + \\ket {++-} + \\ket {+-+} + \\ket {+--} + \\ket {-++} + \\ket {-+-} + \\ket {--+} + \\ket {---}\\bigg)$\n"
     ]
    },
    {
     "data": {
      "text/latex": [
       "$\\displaystyle \\frac{\\sqrt{2}}{4} \\bigg(\\ket {+++} + \\ket {++-} + \\ket {+-+} + \\ket {+--} + \\ket {-++} + \\ket {-+-} + \\ket {--+} + \\ket {---}\\bigg)$"
      ],
      "text/plain": [
       "<IPython.core.display.Math object>"
      ]
     },
     "metadata": {},
     "output_type": "display_data"
    }
   ],
   "source": [
    "import sympy as sp\n",
    "from itertools import product\n",
    "H = sp.Matrix([[1, 1], [1, -1]]) \n",
    "def computational_basis(bit):\n",
    "    return sp.Matrix([1, 0]) if bit == '0' else sp.Matrix([0, 1])\n",
    "\n",
    "def tensor_product(states):\n",
    "    result = states[0]\n",
    "    for state in states[1:]:\n",
    "        result = sp.tensorproduct(result, state)\n",
    "    return result\n",
    "\n",
    "def flatten_array(arr):\n",
    "    if isinstance(arr, sp.ImmutableDenseNDimArray):\n",
    "        return flatten_array(arr.tolist())\n",
    "    elif isinstance(arr, list):\n",
    "        return [item for sublist in arr for item in flatten_array(sublist)]\n",
    "    else:\n",
    "        return [arr]\n",
    "\n",
    "def state_to_dirac(state):\n",
    "    n_qubits = int(sp.log(len(state), 2))\n",
    "    terms = []\n",
    "    for i, coeff in enumerate(state):\n",
    "        if coeff != 0:\n",
    "            basis = ''.join('+' if b == '0' else '-' for b in f\"{i:0{n_qubits}b}\")\n",
    "            simplified_coeff = sp.simplify(coeff)\n",
    "            if simplified_coeff == 1:\n",
    "                terms.append(f\"\\|{basis}⟩\")\n",
    "            elif simplified_coeff == -1:\n",
    "                terms.append(f\"-\\|{basis}⟩\")\n",
    "            else:\n",
    "                terms.append(f\"{simplified_coeff}|{basis}⟩\")\n",
    "    return \" + \".join(terms)\n",
    "\n",
    "def state_to_latex(state):\n",
    "    n_qubits = int(sp.log(len(state), 2))\n",
    "    terms = []\n",
    "    for i, coeff in enumerate(state):\n",
    "        if coeff != 0:\n",
    "            basis = ''.join('+' if b == '0' else '-' for b in f\"{i:0{n_qubits}b}\")\n",
    "            simplified_coeff = sp.simplify(coeff)\n",
    "            if simplified_coeff == 1:\n",
    "                terms.append(str(\"\\ket {\"+ basis +\"}\"))\n",
    "            elif simplified_coeff == -1:\n",
    "                terms.append(str(\"-\\ket {\"+ basis +\"}\"))\n",
    "            else:\n",
    "                terms.append(f\"{sp.latex(simplified_coeff)}|{basis}\\\\rangle\")\n",
    "    return \" + \".join(terms)\n",
    "\n",
    "qubit_string = input(\"Enter the qubit string (e.g., '000'): \")\n",
    "\n",
    "# Step 1: Represent in computational basis\n",
    "comp_states = [computational_basis(bit) for bit in qubit_string]\n",
    "\n",
    "\n",
    "\n",
    "# Step 2: Apply Hadamard transform\n",
    "had_states = [H*state for state in comp_states]\n",
    "\n",
    "\n",
    "\n",
    "# Step 3: Compute tensor product\n",
    "final_state = tensor_product(had_states)\n",
    "\n",
    "final_state_flat = sp.Matrix(flatten_array(final_state))\n",
    "\n",
    "# Step 4: Express in Dirac notation\n",
    "dirac_notation = state_to_dirac(final_state_flat)\n",
    "\n",
    "\n",
    "\n",
    "# Step 5: Express in LaTeX\n",
    "latex_notation = state_to_latex(final_state_flat)\n",
    "latex_notation = \"$\\\\frac{\\\\sqrt{2}}{4} \\\\bigg(\"+latex_notation +\"\\\\bigg)$\"\n",
    "print(\"\\nFinal state in LaTeX:\")\n",
    "print(latex_notation)\n",
    "from IPython.display import display, Math, Latex\n",
    "display(Math(latex_notation))"
   ]
  }
 ],
 "metadata": {
  "kernelspec": {
   "display_name": "Python 3",
   "language": "python",
   "name": "python3"
  },
  "language_info": {
   "codemirror_mode": {
    "name": "ipython",
    "version": 3
   },
   "file_extension": ".py",
   "mimetype": "text/x-python",
   "name": "python",
   "nbconvert_exporter": "python",
   "pygments_lexer": "ipython3",
   "version": "3.10.0"
  }
 },
 "nbformat": 4,
 "nbformat_minor": 2
}
