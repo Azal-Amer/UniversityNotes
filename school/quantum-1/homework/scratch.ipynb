{
 "cells": [
  {
   "cell_type": "code",
   "execution_count": 42,
   "metadata": {},
   "outputs": [],
   "source": [
    "import sympy as sp\n",
    "import numpy as np\n",
    "\n",
    "H_11, H_12, H_21, H_22 = sp.symbols('H_11 H_12 H_21 H_22', real=True)\n",
    "ket1 = sp.Matrix([[1],[ 0]])\n",
    "ket2 = sp.Matrix([[0] ,[1]])\n",
    "H = H_11*ket1*ket1.H+ H_22*ket2*ket2.H+ H_12*(ket1*ket2.H+ket2*ket1.H)\n",
    "sp.init_printing()\n",
    "val1 = H.eigenvects()[1][0]\n",
    "val2 = H.eigenvects()[0][0]"
   ]
  },
  {
   "cell_type": "code",
   "execution_count": 54,
   "metadata": {},
   "outputs": [
    {
     "name": "stdout",
     "output_type": "stream",
     "text": [
      "\\frac{H_{11}}{2} + \\frac{H_{22}}{2} + \\frac{\\sqrt{H_{11}^{2} - 2 H_{11} H_{22} + H_{22}^{2}}}{2}\n"
     ]
    }
   ],
   "source": [
    "lam1 = sp.symbols('lambda_1', real=True)\n",
    "lam1\n",
    "\n",
    "print(sp.latex(sp.simplify(val1.subs(H_12, 0))))"
   ]
  },
  {
   "cell_type": "code",
   "execution_count": 55,
   "metadata": {},
   "outputs": [
    {
     "data": {
      "image/png": "[encoded data removed]",
      "text/latex": [
       "$\\displaystyle \\left[ \\left( -1, \\  1, \\  \\left[ \\left[\\begin{matrix}-1\\\\1\\end{matrix}\\right]\\right]\\right), \\  \\left( 1, \\  1, \\  \\left[ \\left[\\begin{matrix}1\\\\1\\end{matrix}\\right]\\right]\\right)\\right]$"
      ],
      "text/plain": [
       "⎡⎛       ⎡⎡-1⎤⎤⎞  ⎛      ⎡⎡1⎤⎤⎞⎤\n",
       "⎢⎜-1, 1, ⎢⎢  ⎥⎥⎟, ⎜1, 1, ⎢⎢ ⎥⎥⎟⎥\n",
       "⎣⎝       ⎣⎣1 ⎦⎦⎠  ⎝      ⎣⎣1⎦⎦⎠⎦"
      ]
     },
     "execution_count": 55,
     "metadata": {},
     "output_type": "execute_result"
    }
   ],
   "source": [
    "sp.Matrix([\n",
    "    [0,1],\n",
    "    [1,0]\n",
    "]).eigenvects()"
   ]
  },
  {
   "cell_type": "code",
   "execution_count": null,
   "metadata": {},
   "outputs": [],
   "source": []
  }
 ],
 "metadata": {
  "kernelspec": {
   "display_name": "Python 3",
   "language": "python",
   "name": "python3"
  },
  "language_info": {
   "codemirror_mode": {
    "name": "ipython",
    "version": 3
   },
   "file_extension": ".py",
   "mimetype": "text/x-python",
   "name": "python",
   "nbconvert_exporter": "python",
   "pygments_lexer": "ipython3",
   "version": "3.10.0"
  }
 },
 "nbformat": 4,
 "nbformat_minor": 2
}
