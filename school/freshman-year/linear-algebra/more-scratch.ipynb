{
 "cells": [
  {
   "cell_type": "code",
   "execution_count": 2,
   "metadata": {},
   "outputs": [
    {
     "data": {
      "text/plain": [
       "(Matrix([\n",
       " [ 3/2],\n",
       " [   4],\n",
       " [11/2]]),\n",
       " Matrix([\n",
       " [-13/2],\n",
       " [   -1],\n",
       " [  5/2]]))"
      ]
     },
     "execution_count": 2,
     "metadata": {},
     "output_type": "execute_result"
    }
   ],
   "source": [
    "import sympy as sp\n",
    "import numpy as np\n",
    "from sympy import Matrix\n",
    "import matplotlib.pyplot as plt\n",
    "def proj(v,u = Matrix([1,0])):\n",
    "    # check if there's only one column in u\n",
    "    # v is the vector, u is the subspace\n",
    "    if u.shape[1] == 1:\n",
    "\n",
    "        return (v.dot(u)/u.dot(u))*u\n",
    "    # if not, we want to project v onto each column of u\n",
    "    else:\n",
    "        # create a matrix to store the projections\n",
    "        projections = sp.zeros(v.shape[0],v.shape[1])\n",
    "        # # loop through each column of u\n",
    "        for i in range(u.shape[1]):\n",
    "            # store the projection of v onto the ith column of u\n",
    "            projections += (v.dot(u[:,i])/u[:,i].dot(u[:,i]))*u[:,i]\n",
    "        return projections\n",
    "\n",
    "y = Matrix([\n",
    "    -5,\n",
    "    3,\n",
    "    8\n",
    "])\n",
    "u = Matrix([\n",
    "    [1,-1],\n",
    "    [1,4],\n",
    "    [3,-1]\n",
    "])\n",
    "proj(y,u),y-proj(y,u)\n",
    "# takes vector y, and\n",
    "\n"
   ]
  },
  {
   "cell_type": "code",
   "execution_count": 3,
   "metadata": {},
   "outputs": [
    {
     "data": {
      "text/plain": [
       "(Matrix([\n",
       " [-1],\n",
       " [ 2],\n",
       " [-9]]),\n",
       " Matrix([\n",
       " [0],\n",
       " [0],\n",
       " [0]]))"
      ]
     },
     "execution_count": 3,
     "metadata": {},
     "output_type": "execute_result"
    }
   ],
   "source": [
    "y = Matrix([-1,2,-9])\n",
    "u = Matrix([\n",
    "    [7,1],\n",
    "    [-1,-1],\n",
    "    [-2,4]\n",
    "])\n",
    "proj(y,u),y-proj(y,u)"
   ]
  },
  {
   "cell_type": "code",
   "execution_count": 4,
   "metadata": {},
   "outputs": [
    {
     "data": {
      "text/plain": [
       "(Matrix([\n",
       " [11],\n",
       " [ 2],\n",
       " [-3]]),\n",
       " Matrix([\n",
       " [ 1],\n",
       " [-4],\n",
       " [ 1]]))"
      ]
     },
     "execution_count": 4,
     "metadata": {},
     "output_type": "execute_result"
    }
   ],
   "source": [
    "y = Matrix([\n",
    "    12,\n",
    "    -2,\n",
    "    -2\n",
    "])\n",
    "u = Matrix([\n",
    "    [1,2],\n",
    "    [0,1],\n",
    "    [-1,2]\n",
    "])\n",
    "proj(y,u),y-proj(y,u)\n"
   ]
  },
  {
   "cell_type": "code",
   "execution_count": 5,
   "metadata": {},
   "outputs": [
    {
     "data": {
      "text/plain": [
       "(Matrix([\n",
       " [ 1],\n",
       " [-3],\n",
       " [ 4],\n",
       " [ 3]]),\n",
       " Matrix([\n",
       " [ 1],\n",
       " [-2],\n",
       " [-1],\n",
       " [-1]]))"
      ]
     },
     "execution_count": 5,
     "metadata": {},
     "output_type": "execute_result"
    }
   ],
   "source": [
    "z = Matrix([\n",
    "    2,\n",
    "    -5,\n",
    "    3,\n",
    "    2\n",
    "])\n",
    "u = Matrix([\n",
    "    [2,1],\n",
    "    [-1,1],\n",
    "    [3,0],\n",
    "    [1,-1]\n",
    "])\n",
    "proj(z,u),z-proj(z,u)"
   ]
  },
  {
   "cell_type": "code",
   "execution_count": 6,
   "metadata": {},
   "outputs": [
    {
     "data": {
      "text/latex": [
       "$\\displaystyle \\frac{121 \\sqrt{210}}{210}$"
      ],
      "text/plain": [
       "121*sqrt(210)/210"
      ]
     },
     "execution_count": 6,
     "metadata": {},
     "output_type": "execute_result"
    }
   ],
   "source": [
    "y = Matrix([3,-8,6])\n",
    "u = Matrix([\n",
    "    [-3,-2],\n",
    "    [-5,2],\n",
    "    [1,4]\n",
    "])\n",
    "sp.sqrt((y-proj(y,u)).dot(y-proj(y,u)))"
   ]
  },
  {
   "cell_type": "code",
   "execution_count": 7,
   "metadata": {},
   "outputs": [
    {
     "data": {
      "text/latex": [
       "$\\displaystyle \\left[\\begin{matrix}3 & 0\\\\6 & 0\\\\0 & 2\\end{matrix}\\right]$"
      ],
      "text/plain": [
       "Matrix([\n",
       "[3, 0],\n",
       "[6, 0],\n",
       "[0, 2]])"
      ]
     },
     "execution_count": 7,
     "metadata": {},
     "output_type": "execute_result"
    }
   ],
   "source": [
    "def gs(x):\n",
    "    # we define x as the matrix where vectors constructing the subspace are stored. x[:,0] is the first vector, x[:,1] is the second, etc.\n",
    "    # for the gs process, we need to populate a new matrix which will contain our orthogonal basis\n",
    "    w = sp.zeros(x.shape[0],x.shape[1])\n",
    "    # the subspace w will be where we dump each subsequent projection\n",
    "    for i in range(x.shape[1]):\n",
    "        # if i == 0, we just want to dump the first vector into w, it is the trivial case\n",
    "        if i == 0:\n",
    "            w = x[:,i]\n",
    "        else:\n",
    "            # we want to project the ith vector of x onto the span of the previous vectors\n",
    "            # add the projection as a new column to w, append it\n",
    "            z = x[:,i]-proj(x[:,i],w)\n",
    "            # Syntax of proj is vector to project, subspace to project onto\n",
    "\n",
    "            # our goal is to add whatever is perpendicular to the previous vectors, so we subtract the projection and\n",
    "            # insert it\n",
    "            w=w.col_insert(i,z)\n",
    "    return w\n",
    "newBasis = gs(Matrix([\n",
    "    [3,1],\n",
    "    [6,2],\n",
    "    [0,2]\n",
    "]))\n",
    "newBasis\n"
   ]
  },
  {
   "cell_type": "code",
   "execution_count": 8,
   "metadata": {},
   "outputs": [
    {
     "data": {
      "text/latex": [
       "$\\displaystyle \\left[\\begin{matrix}0 & 3 & 14\\\\1 & 2 & 2\\\\-1 & -2 & 9\\\\1 & -4 & 7\\end{matrix}\\right]$"
      ],
      "text/plain": [
       "Matrix([\n",
       "[ 0,  3, 14],\n",
       "[ 1,  2,  2],\n",
       "[-1, -2,  9],\n",
       "[ 1, -4,  7]])"
      ]
     },
     "execution_count": 8,
     "metadata": {},
     "output_type": "execute_result"
    }
   ],
   "source": [
    "newMat = gs(Matrix([\n",
    "    [0,1,1],\n",
    "    [1,1,0],\n",
    "    [-1,-1,1],\n",
    "    [1,-1,1]\n",
    "]))\n",
    "newMat[:,1] = newMat[:,1]*3\n",
    "newMat[:,2] = newMat[:,2]*11\n",
    "newMat\n"
   ]
  },
  {
   "cell_type": "code",
   "execution_count": 9,
   "metadata": {},
   "outputs": [
    {
     "data": {
      "text/latex": [
       "$\\displaystyle \\left[\\begin{matrix}3 & -1\\\\-9 & 1\\\\6 & 2\\end{matrix}\\right]$"
      ],
      "text/plain": [
       "Matrix([\n",
       "[ 3, -1],\n",
       "[-9,  1],\n",
       "[ 6,  2]])"
      ]
     },
     "execution_count": 9,
     "metadata": {},
     "output_type": "execute_result"
    }
   ],
   "source": [
    "gs(Matrix([\n",
    "    [3,-4],\n",
    "    [-9,10],\n",
    "    [6,-4]\n",
    "]))\n"
   ]
  },
  {
   "cell_type": "code",
   "execution_count": 10,
   "metadata": {},
   "outputs": [
    {
     "data": {
      "text/latex": [
       "$\\displaystyle \\left[\\begin{matrix}-1 & 2 & 4\\\\1 & -2 & 4\\\\1 & 2 & 5\\\\1 & 2 & -5\\end{matrix}\\right]$"
      ],
      "text/plain": [
       "Matrix([\n",
       "[-1,  2,  4],\n",
       "[ 1, -2,  4],\n",
       "[ 1,  2,  5],\n",
       "[ 1,  2, -5]])"
      ]
     },
     "execution_count": 10,
     "metadata": {},
     "output_type": "execute_result"
    }
   ],
   "source": [
    "A = Matrix([\n",
    "    [-1,7,5],\n",
    "    [1,-7,3],\n",
    "    [1,-3,7],\n",
    "    [1,-3,-3]\n",
    "])\n",
    "gs(A)"
   ]
  },
  {
   "cell_type": "code",
   "execution_count": 11,
   "metadata": {},
   "outputs": [
    {
     "data": {
      "text/latex": [
       "$\\displaystyle \\left[\\begin{matrix}\\frac{1}{2} & - \\frac{\\sqrt{11}}{11} & \\frac{2 \\sqrt{47}}{47}\\\\- \\frac{1}{2} & 0 & \\frac{5 \\sqrt{47}}{47}\\\\0 & \\frac{3 \\sqrt{11}}{11} & \\frac{\\sqrt{47}}{47}\\\\\\frac{1}{2} & \\frac{\\sqrt{11}}{11} & - \\frac{\\sqrt{47}}{47}\\\\\\frac{1}{2} & 0 & \\frac{4 \\sqrt{47}}{47}\\end{matrix}\\right]$"
      ],
      "text/plain": [
       "Matrix([\n",
       "[ 1/2,  -sqrt(11)/11, 2*sqrt(47)/47],\n",
       "[-1/2,             0, 5*sqrt(47)/47],\n",
       "[   0, 3*sqrt(11)/11,   sqrt(47)/47],\n",
       "[ 1/2,   sqrt(11)/11,  -sqrt(47)/47],\n",
       "[ 1/2,             0, 4*sqrt(47)/47]])"
      ]
     },
     "execution_count": 11,
     "metadata": {},
     "output_type": "execute_result"
    }
   ],
   "source": [
    "A = Matrix([\n",
    "    [1,3,5],\n",
    "    [-1,-4,1],\n",
    "    [0,3,4],\n",
    "    [1,5,4],\n",
    "    [1,4,8]\n",
    "])\n",
    "\n",
    "V = Matrix([\n",
    "    [1,-1,2],\n",
    "    [-1,0,5],\n",
    "    [0,3,1],\n",
    "    [1,1,-1],\n",
    "    [1,0,4]\n",
    "])\n",
    "# go through each vector in v and normalize them\n",
    "for i in range(V.shape[1]):\n",
    "    V[:,i] = V[:,i]/sp.sqrt(V[:,i].dot(V[:,i]))\n",
    "\n",
    "\n",
    "# get hte latex for V\n",
    "V"
   ]
  },
  {
   "cell_type": "code",
   "execution_count": 12,
   "metadata": {},
   "outputs": [
    {
     "name": "stdout",
     "output_type": "stream",
     "text": [
      "@MATX{{1/2 & - @RT{11/11 & 2 @RT{47/47;{;{- 1/2 & 0 & 5 @RT{47/47;{;{0 & 3 @RT{11/11 & @RT{47/47;{;{1/2 & @RT{11/11 & - @RT{47/47;{;{1/2 & 0 & 4 @RT{47/47\n"
     ]
    }
   ],
   "source": [
    "def convert_latex_to_custom(latex):\n",
    "    # Replace matrix notations\n",
    "    latex = latex.replace(\"\\\\left[\\\\begin{matrix}\", \"@MATX{{\")\n",
    "    latex = latex.replace(\"\\\\end{matrix}\\\\right]\", \"}}\")\n",
    "    latex = latex.replace(\"\\\\\\\\\", \"};{\")\n",
    "    \n",
    "    # Replace fraction and square root notations\n",
    "    latex = latex.replace(\"\\\\frac{\", \"\")\n",
    "    latex = latex.replace(\"}{\", \"/\")\n",
    "    latex = latex.replace(\"}\", \"\")\n",
    "    latex = latex.replace(\"\\\\sqrt{\", \"@RT{\")\n",
    "    \n",
    "    return latex\n",
    "\n",
    "latex_input = r'\\left[\\begin{matrix}\\frac{1}{2} & - \\frac{\\sqrt{11}}{11} & \\frac{2 \\sqrt{47}}{47}\\\\\\\\- \\frac{1}{2} & 0 & \\frac{5 \\sqrt{47}}{47}\\\\\\\\0 & \\frac{3 \\sqrt{11}}{11} & \\frac{\\sqrt{47}}{47}\\\\\\\\\\frac{1}{2} & \\frac{\\sqrt{11}}{11} & - \\frac{\\sqrt{47}}{47}\\\\\\\\\\frac{1}{2} & 0 & \\frac{4 \\sqrt{47}}{47}\\end{matrix}\\right]'\n",
    "custom_notation = convert_latex_to_custom(latex_input)\n",
    "\n",
    "print(custom_notation)\n"
   ]
  },
  {
   "cell_type": "code",
   "execution_count": 15,
   "metadata": {},
   "outputs": [
    {
     "data": {
      "text/latex": [
       "$\\displaystyle \\left[\\begin{matrix}0\\\\1\\\\-1\\end{matrix}\\right]$"
      ],
      "text/plain": [
       "Matrix([\n",
       "[ 0],\n",
       "[ 1],\n",
       "[-1]])"
      ]
     },
     "execution_count": 15,
     "metadata": {},
     "output_type": "execute_result"
    }
   ],
   "source": [
    "A = Matrix([\n",
    "    [-1,2],\n",
    "    [2,-3],\n",
    "    [-1,1]\n",
    "])\n",
    "b = Matrix([\n",
    "    3,\n",
    "    4,\n",
    "    2\n",
    "])\n",
    "A.T*A,A.T*b\n",
    "A*((A.T*A)**-1*A.T*b)"
   ]
  },
  {
   "cell_type": "code",
   "execution_count": 16,
   "metadata": {},
   "outputs": [
    {
     "data": {
      "text/plain": [
       "(Matrix([\n",
       " [3,  3],\n",
       " [3, 11]]),\n",
       " Matrix([\n",
       " [12],\n",
       " [20]]),\n",
       " Matrix([\n",
       " [3],\n",
       " [1]]))"
      ]
     },
     "execution_count": 16,
     "metadata": {},
     "output_type": "execute_result"
    }
   ],
   "source": [
    "A = Matrix([\n",
    "    [1,3],\n",
    "    [1,-1],\n",
    "    [1,1]\n",
    "    ])\n",
    "b = Matrix([\n",
    "    8,\n",
    "    4,\n",
    "    0\n",
    "])\n",
    "A.T*A,A.T*b,((A.T*A)**-1*A.T*b)"
   ]
  },
  {
   "cell_type": "code",
   "execution_count": 28,
   "metadata": {},
   "outputs": [
    {
     "data": {
      "text/latex": [
       "$\\displaystyle \\left[\\begin{matrix}4 & 2 & 2\\\\2 & 2 & 0\\\\2 & 0 & 2\\end{matrix}\\right]$"
      ],
      "text/plain": [
       "Matrix([\n",
       "[4, 2, 2],\n",
       "[2, 2, 0],\n",
       "[2, 0, 2]])"
      ]
     },
     "execution_count": 28,
     "metadata": {},
     "output_type": "execute_result"
    }
   ],
   "source": [
    "A = Matrix([\n",
    "    [1,0,1],\n",
    "    [1,1,0],\n",
    "    [1,0,1],\n",
    "    [1,1,0]\n",
    "])\n",
    "b = Matrix([\n",
    "    8,\n",
    "    3,\n",
    "    6,\n",
    "    1])\n",
    "A.T*A"
   ]
  },
  {
   "cell_type": "code",
   "execution_count": 29,
   "metadata": {},
   "outputs": [
    {
     "data": {
      "text/latex": [
       "$\\displaystyle \\left[\\begin{matrix}1 & 0 & 1 & 7\\\\0 & 1 & -1 & -5\\\\0 & 0 & 0 & 0\\end{matrix}\\right]$"
      ],
      "text/plain": [
       "Matrix([\n",
       "[1, 0,  1,  7],\n",
       "[0, 1, -1, -5],\n",
       "[0, 0,  0,  0]])"
      ]
     },
     "execution_count": 29,
     "metadata": {},
     "output_type": "execute_result"
    }
   ],
   "source": [
    "# Put A.T*b as the last column vector to A.T*A in a new matrix, then rref\n",
    "c = Matrix.hstack(A.T*A,A.T*b)\n",
    "c.rref()[0]\n"
   ]
  },
  {
   "cell_type": "code",
   "execution_count": 35,
   "metadata": {},
   "outputs": [
    {
     "data": {
      "text/latex": [
       "$\\displaystyle \\left[\\begin{matrix}\\frac{1}{3}\\\\\\frac{1}{3}\\\\- \\frac{2}{3}\\end{matrix}\\right]$"
      ],
      "text/plain": [
       "Matrix([\n",
       "[ 1/3],\n",
       "[ 1/3],\n",
       "[-2/3]])"
      ]
     },
     "execution_count": 35,
     "metadata": {},
     "output_type": "execute_result"
    }
   ],
   "source": [
    "A = Matrix([\n",
    "    [4,3],\n",
    "    [2,1],\n",
    "    [3,2]\n",
    "])\n",
    "b = Matrix([\n",
    "    4,\n",
    "    0,\n",
    "    1\n",
    "])\n",
    "(b-A*((A.T*A)**-1*A.T*b))"
   ]
  },
  {
   "cell_type": "code",
   "execution_count": 38,
   "metadata": {},
   "outputs": [
    {
     "data": {
      "text/latex": [
       "$\\displaystyle \\left[\\begin{matrix}6\\end{matrix}\\right]$"
      ],
      "text/plain": [
       "Matrix([[6]])"
      ]
     },
     "execution_count": 38,
     "metadata": {},
     "output_type": "execute_result"
    }
   ],
   "source": [
    "A = Matrix([\n",
    "    [1,3],\n",
    "    [1,-1],\n",
    "    [1,1]\n",
    "])\n",
    "b = Matrix([\n",
    "    5,\n",
    "    1,\n",
    "    0\n",
    "])\n",
    "(b-A*Matrix([1,1])).T*(b-A*Matrix([1,1]))"
   ]
  },
  {
   "cell_type": "code",
   "execution_count": 46,
   "metadata": {},
   "outputs": [
    {
     "data": {
      "text/latex": [
       "$\\displaystyle \\left[\\begin{matrix}1 & 0 & 6.0\\\\0 & 1 & -1.0\\\\0 & 0 & 0\\end{matrix}\\right]$"
      ],
      "text/plain": [
       "Matrix([\n",
       "[1, 0,  6.0],\n",
       "[0, 1, -1.0],\n",
       "[0, 0,    0]])"
      ]
     },
     "execution_count": 46,
     "metadata": {},
     "output_type": "execute_result"
    }
   ],
   "source": [
    "Q = Matrix([\n",
    "    [2/3,-1/3],\n",
    "    [2/3,2/3],\n",
    "    [1/3,-2/3]\n",
    "])\n",
    "b = Matrix([\n",
    "    9,\n",
    "    8,\n",
    "    5\n",
    "])\n",
    "A = Matrix([\n",
    "    [2,3],\n",
    "    [2,4],\n",
    "    [1,1]\n",
    "])\n",
    "\n",
    "Matrix.hstack(A,(Q*Q.T*b)).rref()[0]\n"
   ]
  },
  {
   "cell_type": "code",
   "execution_count": 49,
   "metadata": {},
   "outputs": [
    {
     "data": {
      "text/latex": [
       "$\\displaystyle \\left[\\begin{matrix}\\frac{3}{2}\\\\\\frac{9}{7}\\end{matrix}\\right]$"
      ],
      "text/plain": [
       "Matrix([\n",
       "[3/2],\n",
       "[9/7]])"
      ]
     },
     "execution_count": 49,
     "metadata": {},
     "output_type": "execute_result"
    }
   ],
   "source": [
    "X = Matrix([\n",
    "    [1,-3],\n",
    "    [1,0],\n",
    "    [1,1],\n",
    "    [1,2]\n",
    "])\n",
    "y = Matrix([\n",
    "    -2,\n",
    "    1,\n",
    "    2,\n",
    "    5\n",
    "])\n",
    "(X.T*X)**-1*X.T*y"
   ]
  },
  {
   "cell_type": "code",
   "execution_count": 50,
   "metadata": {},
   "outputs": [
    {
     "data": {
      "text/latex": [
       "$\\displaystyle \\left[\\begin{matrix}\\frac{7}{2}\\\\\\frac{2}{5}\\end{matrix}\\right]$"
      ],
      "text/plain": [
       "Matrix([\n",
       "[7/2],\n",
       "[2/5]])"
      ]
     },
     "execution_count": 50,
     "metadata": {},
     "output_type": "execute_result"
    }
   ],
   "source": [
    "X = Matrix([\n",
    "    [1,1],\n",
    "    [1,2],\n",
    "    [1,3],\n",
    "    [1,4]\n",
    "])\n",
    "y = Matrix([\n",
    "    4,\n",
    "    4,\n",
    "    5,\n",
    "    5\n",
    "])\n",
    "(X.T*X)**-1*X.T*y"
   ]
  },
  {
   "cell_type": "code",
   "execution_count": 51,
   "metadata": {},
   "outputs": [
    {
     "data": {
      "text/latex": [
       "$\\displaystyle \\left[\\begin{matrix}\\frac{96}{5}\\\\- \\frac{21}{10}\\end{matrix}\\right]$"
      ],
      "text/plain": [
       "Matrix([\n",
       "[  96/5],\n",
       "[-21/10]])"
      ]
     },
     "execution_count": 51,
     "metadata": {},
     "output_type": "execute_result"
    }
   ],
   "source": [
    "X = Matrix([\n",
    "    [1,5],\n",
    "    [1,6],\n",
    "    [1,8],\n",
    "    [1,9]\n",
    "])\n",
    "y = Matrix([\n",
    "    9,\n",
    "    6,\n",
    "    3,\n",
    "    0\n",
    "])\n",
    "(X.T*X)**-1*X.T*y"
   ]
  },
  {
   "cell_type": "code",
   "execution_count": null,
   "metadata": {},
   "outputs": [],
   "source": []
  }
 ],
 "metadata": {
  "kernelspec": {
   "display_name": "Python 3",
   "language": "python",
   "name": "python3"
  },
  "language_info": {
   "codemirror_mode": {
    "name": "ipython",
    "version": 3
   },
   "file_extension": ".py",
   "mimetype": "text/x-python",
   "name": "python",
   "nbconvert_exporter": "python",
   "pygments_lexer": "ipython3",
   "version": "3.10.0"
  }
 },
 "nbformat": 4,
 "nbformat_minor": 2
}
