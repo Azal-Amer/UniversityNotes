{
 "cells": [
  {
   "cell_type": "code",
   "execution_count": 14,
   "metadata": {},
   "outputs": [
    {
     "data": {
      "text/latex": [
       "$\\displaystyle \\left[\\begin{matrix}4 & 2 & -5 & 2\\\\8 & 2 & -7 & 4\\\\12 & 2 & -7 & 8\\\\8 & -2 & 1 & 7\\end{matrix}\\right]$"
      ],
      "text/plain": [
       "Matrix([\n",
       "[ 4,  2, -5, 2],\n",
       "[ 8,  2, -7, 4],\n",
       "[12,  2, -7, 8],\n",
       "[ 8, -2,  1, 7]])"
      ]
     },
     "execution_count": 14,
     "metadata": {},
     "output_type": "execute_result"
    }
   ],
   "source": [
    "import sympy as sp\n",
    "import numpy as np\n",
    "from sympy import Matrix\n",
    "A = Matrix([[4,2,-5,2],[8,2,-7,4],[12,2,-7,8],[8,-2,1,7]])\n",
    "A"
   ]
  },
  {
   "cell_type": "code",
   "execution_count": 15,
   "metadata": {},
   "outputs": [
    {
     "data": {
      "text/latex": [
       "$\\displaystyle \\left[\\begin{matrix}4 & 2 & -5 & 2\\\\0 & -2 & 3 & 0\\\\0 & 0 & 2 & 2\\\\0 & 0 & 0 & 1\\end{matrix}\\right]$"
      ],
      "text/plain": [
       "Matrix([\n",
       "[4,  2, -5, 2],\n",
       "[0, -2,  3, 0],\n",
       "[0,  0,  2, 2],\n",
       "[0,  0,  0, 1]])"
      ]
     },
     "execution_count": 15,
     "metadata": {},
     "output_type": "execute_result"
    }
   ],
   "source": [
    "def row_shuffle(A):\n",
    "    newRow = A.row(1) - 2*A.row(0)\n",
    "    A.row_del(1)\n",
    "    A = A.row_insert(1,newRow)\n",
    "\n",
    "    newRow = A.row(2) - 3*A.row(0)\n",
    "    A.row_del(2)\n",
    "    A = A.row_insert(2,newRow)\n",
    "\n",
    "    newRow = A.row(3) - 2*A.row(0)\n",
    "    A.row_del(3)\n",
    "    A = A.row_insert(3,newRow)\n",
    "\n",
    "\n",
    "    \n",
    "\n",
    "    newRow = A.row(2) - 2*A.row(1)\n",
    "    A.row_del(2)\n",
    "    A = A.row_insert(2,newRow)\n",
    "    \n",
    "    newRow = A.row(3)-3*A.row(1)\n",
    "    A.row_del(3)\n",
    "    A = A.row_insert(3,newRow)\n",
    "\n",
    "    newRow = A.row(3) - A.row(2)\n",
    "    A.row_del(3)\n",
    "    A = A.row_insert(3,newRow)\n",
    "    return A\n",
    "row_shuffle(A)"
   ]
  },
  {
   "cell_type": "code",
   "execution_count": 16,
   "metadata": {},
   "outputs": [
    {
     "data": {
      "text/latex": [
       "$\\displaystyle \\left[\\begin{matrix}1 & 0 & 0 & 0\\\\2 & 1 & 0 & 0\\\\3 & 2 & 1 & 0\\\\2 & 3 & 1 & 1\\end{matrix}\\right]$"
      ],
      "text/plain": [
       "Matrix([\n",
       "[1, 0, 0, 0],\n",
       "[2, 1, 0, 0],\n",
       "[3, 2, 1, 0],\n",
       "[2, 3, 1, 1]])"
      ]
     },
     "execution_count": 16,
     "metadata": {},
     "output_type": "execute_result"
    }
   ],
   "source": [
    "def oppositeShuffle(B):\n",
    "    newRow = B.row(3)+B.row(2)\n",
    "    B.row_del(3)\n",
    "    B = B.row_insert(3,newRow)\n",
    "    newRow = B.row(3)+3*B.row(1)\n",
    "    B.row_del(3)\n",
    "    B = B.row_insert(3,newRow)\n",
    "\n",
    "    newRow = B.row(2)+2*B.row(1)\n",
    "    B.row_del(2)\n",
    "    B = B.row_insert(2,newRow)\n",
    "\n",
    "    newRow = B.row(3)+2*B.row(0)\n",
    "    B.row_del(3)\n",
    "    B = B.row_insert(3,newRow)\n",
    "\n",
    "    newRow = B.row(2)+3*B.row(0)\n",
    "    B.row_del(2)\n",
    "    B = B.row_insert(2,newRow)\n",
    "\n",
    "    newRow = B.row(1)+2*B.row(0)\n",
    "    B.row_del(1)\n",
    "    B = B.row_insert(1,newRow)\n",
    "    return B\n",
    "\n",
    "oppositeShuffle(sp.Matrix([[1,0,0,0],[0,1,0,0],[0,0,1,0],[0,0,0,1]]))"
   ]
  },
  {
   "cell_type": "code",
   "execution_count": 17,
   "metadata": {},
   "outputs": [
    {
     "data": {
      "text/latex": [
       "$\\displaystyle \\left[\\begin{matrix}2 & -2 & 6\\\\-2 & -2 & -2\\\\7 & 1 & 13\\\\-6 & -2 & -10\\\\10 & 6 & 14\\end{matrix}\\right]$"
      ],
      "text/plain": [
       "Matrix([\n",
       "[ 2, -2,   6],\n",
       "[-2, -2,  -2],\n",
       "[ 7,  1,  13],\n",
       "[-6, -2, -10],\n",
       "[10,  6,  14]])"
      ]
     },
     "execution_count": 17,
     "metadata": {},
     "output_type": "execute_result"
    }
   ],
   "source": [
    "A = Matrix([[2,-2,6],[-2,-2,-2],[7,1,13],[-6,-2,-10],[10,6,14]])\n",
    "A"
   ]
  },
  {
   "cell_type": "code",
   "execution_count": 18,
   "metadata": {},
   "outputs": [
    {
     "data": {
      "text/latex": [
       "$\\displaystyle \\left[\\begin{matrix}2 & -2 & 6\\\\0 & -4 & 4\\\\0 & 0 & 0\\\\0 & 0 & 0\\\\0 & 0 & 0\\end{matrix}\\right]$"
      ],
      "text/plain": [
       "Matrix([\n",
       "[2, -2, 6],\n",
       "[0, -4, 4],\n",
       "[0,  0, 0],\n",
       "[0,  0, 0],\n",
       "[0,  0, 0]])"
      ]
     },
     "execution_count": 18,
     "metadata": {},
     "output_type": "execute_result"
    }
   ],
   "source": [
    "def omega(B,operationsList):\n",
    "    B = B.copy()\n",
    "    operationLocal = operationsList.copy()\n",
    "    for operation in operationLocal:\n",
    "        newRow = B.row(operation[0]-1) + operation[1]*B.row(operation[2]-1)\n",
    "        B.row_del(operation[0]-1)\n",
    "        B = B.row_insert(operation[0]-1,newRow)\n",
    "    return B\n",
    "operations = [[2,1,1],[3,-sp.Rational(7,2),1],[3,2,2],[4,3,1],[4,-2,2],[5,-5,1],[5,4,2]]\n",
    "Z =omega(A,operations)\n",
    "\n",
    "# now if we want to perform the operations backwards, we reverse the operatiosn list, and multiply the second element by negative 1\n",
    "Z"
   ]
  },
  {
   "cell_type": "code",
   "execution_count": 19,
   "metadata": {},
   "outputs": [
    {
     "data": {
      "text/latex": [
       "$\\displaystyle \\left[\\begin{matrix}1 & 0 & 0 & 0 & 0\\\\-1 & 1 & 0 & 0 & 0\\\\\\frac{7}{2} & -2 & 1 & 0 & 0\\\\-3 & 2 & 0 & 1 & 0\\\\5 & -4 & 0 & 0 & 1\\end{matrix}\\right]$"
      ],
      "text/plain": [
       "Matrix([\n",
       "[  1,  0, 0, 0, 0],\n",
       "[ -1,  1, 0, 0, 0],\n",
       "[7/2, -2, 1, 0, 0],\n",
       "[ -3,  2, 0, 1, 0],\n",
       "[  5, -4, 0, 0, 1]])"
      ]
     },
     "execution_count": 19,
     "metadata": {},
     "output_type": "execute_result"
    }
   ],
   "source": [
    "# 5x5 identity matrix\n",
    "inverseOperations = operations[::-1]\n",
    "for operation in inverseOperations:\n",
    "\n",
    "    operation[1] = operation[1]*-1\n",
    "inverseOperations\n",
    "omega(sp.eye(5),inverseOperations)"
   ]
  },
  {
   "cell_type": "code",
   "execution_count": 20,
   "metadata": {},
   "outputs": [
    {
     "data": {
      "text/latex": [
       "$\\displaystyle \\left[\\begin{matrix}0.333333333333333 & -0.666666666666667 & 0.666666666666667\\\\0.666666666666667 & 0.666666666666667 & 0.333333333333333\\\\-0.666666666666667 & 0.333333333333333 & 0.666666666666667\\end{matrix}\\right]$"
      ],
      "text/plain": [
       "Matrix([\n",
       "[ 0.333333333333333, -0.666666666666667, 0.666666666666667],\n",
       "[ 0.666666666666667,  0.666666666666667, 0.333333333333333],\n",
       "[-0.666666666666667,  0.333333333333333, 0.666666666666667]])"
      ]
     },
     "execution_count": 20,
     "metadata": {},
     "output_type": "execute_result"
    }
   ],
   "source": [
    "A =Matrix([\n",
    "    [1/3,2/3,-2/3],\n",
    "    [-2/3,2/3,1/3],\n",
    "    [2/3,1/3,2/3]\n",
    "])\n",
    "A.inv()\n"
   ]
  },
  {
   "cell_type": "code",
   "execution_count": 21,
   "metadata": {},
   "outputs": [
    {
     "data": {
      "text/plain": [
       "[(3,\n",
       "  1,\n",
       "  [Matrix([\n",
       "   [-2],\n",
       "   [ 1]])]),\n",
       " (13,\n",
       "  1,\n",
       "  [Matrix([\n",
       "   [1/2],\n",
       "   [  1]])])]"
      ]
     },
     "execution_count": 21,
     "metadata": {},
     "output_type": "execute_result"
    }
   ],
   "source": [
    "A = Matrix([\n",
    "    [5,4],\n",
    "    [4,11]\n",
    "])\n",
    "A.eigenvects()"
   ]
  },
  {
   "cell_type": "code",
   "execution_count": 22,
   "metadata": {},
   "outputs": [
    {
     "data": {
      "text/plain": [
       "[(4,\n",
       "  2,\n",
       "  [Matrix([\n",
       "   [-1],\n",
       "   [ 1],\n",
       "   [ 0]]),\n",
       "   Matrix([\n",
       "   [-1],\n",
       "   [ 0],\n",
       "   [ 1]])]),\n",
       " (25,\n",
       "  1,\n",
       "  [Matrix([\n",
       "   [1],\n",
       "   [1],\n",
       "   [1]])])]"
      ]
     },
     "execution_count": 22,
     "metadata": {},
     "output_type": "execute_result"
    }
   ],
   "source": [
    "A = Matrix([\n",
    "    [11,7,7],\n",
    "    [7,11,7],\n",
    "    [7,7,11]\n",
    "])\n",
    "A.eigenvects()"
   ]
  },
  {
   "cell_type": "code",
   "execution_count": 23,
   "metadata": {},
   "outputs": [
    {
     "data": {
      "text/latex": [
       "$\\displaystyle 31$"
      ],
      "text/plain": [
       "31"
      ]
     },
     "execution_count": 23,
     "metadata": {},
     "output_type": "execute_result"
    }
   ],
   "source": [
    "A = Matrix([\n",
    "    [4,sp.Rational(1,5)],\n",
    "    [sp.Rational(1,5),1]\n",
    "])\n",
    "x_1 = sp.symbols('x_1')\n",
    "x_2 = sp.symbols('x_2')\n",
    "x = Matrix([1,5])\n",
    "(x.T*A*x)[0].expand()"
   ]
  },
  {
   "cell_type": "code",
   "execution_count": 24,
   "metadata": {},
   "outputs": [
    {
     "data": {
      "text/plain": [
       "[(-3,\n",
       "  1,\n",
       "  [Matrix([\n",
       "   [-1],\n",
       "   [ 1]])]),\n",
       " (9,\n",
       "  1,\n",
       "  [Matrix([\n",
       "   [1],\n",
       "   [1]])])]"
      ]
     },
     "execution_count": 24,
     "metadata": {},
     "output_type": "execute_result"
    }
   ],
   "source": [
    "A = Matrix([\n",
    "    [3,6],\n",
    "    [6,3]\n",
    "])\n",
    "A.eigenvects()"
   ]
  },
  {
   "cell_type": "code",
   "execution_count": 25,
   "metadata": {},
   "outputs": [
    {
     "data": {
      "text/plain": [
       "[(2,\n",
       "  1,\n",
       "  [Matrix([\n",
       "   [-2],\n",
       "   [ 1]])]),\n",
       " (7,\n",
       "  1,\n",
       "  [Matrix([\n",
       "   [1/2],\n",
       "   [  1]])])]"
      ]
     },
     "execution_count": 25,
     "metadata": {},
     "output_type": "execute_result"
    }
   ],
   "source": [
    "A = Matrix([\n",
    "    [3,2],\n",
    "    [2,6]\n",
    "])\n",
    "A.eigenvects()"
   ]
  },
  {
   "cell_type": "code",
   "execution_count": 26,
   "metadata": {},
   "outputs": [
    {
     "name": "stdout",
     "output_type": "stream",
     "text": [
      "Normal equations:\n",
      "⎡3  1⎤\n",
      "⎢    ⎥\n",
      "⎣1  3⎦\n",
      "=\n",
      "⎡11⎤\n",
      "⎢  ⎥\n",
      "⎣1 ⎦\n",
      "\n",
      "Solution x:\n",
      "⎡4 ⎤\n",
      "⎢  ⎥\n",
      "⎣-1⎦\n"
     ]
    }
   ],
   "source": [
    "from sympy import Matrix, symbols, pprint\n",
    "\n",
    "# Define matrices A and b\n",
    "A = Matrix([[1, 1], [1, -1], [1, 1]])\n",
    "b = Matrix([6, 5, 0])\n",
    "\n",
    "# Construct normal equations\n",
    "AT = A.transpose()\n",
    "normal_eq_left = AT * A\n",
    "normal_eq_right = AT * b\n",
    "\n",
    "# Solve for x\n",
    "x = normal_eq_left.LUsolve(normal_eq_right)\n",
    "\n",
    "# Print results\n",
    "print(\"Normal equations:\")\n",
    "pprint(normal_eq_left)\n",
    "print(\"=\")\n",
    "pprint(normal_eq_right)\n",
    "\n",
    "print(\"\\nSolution x:\")\n",
    "pprint(x)"
   ]
  },
  {
   "cell_type": "code",
   "execution_count": 27,
   "metadata": {},
   "outputs": [
    {
     "name": "stdout",
     "output_type": "stream",
     "text": [
      "⎡  √38  ⎤\n",
      "⎢  ───  ⎥\n",
      "⎢   38  ⎥\n",
      "⎢       ⎥\n",
      "⎢-3⋅√38 ⎥\n",
      "⎢───────⎥\n",
      "⎢   19  ⎥\n",
      "⎢       ⎥\n",
      "⎢ -√38  ⎥\n",
      "⎢ ───── ⎥\n",
      "⎣   38  ⎦\n"
     ]
    },
    {
     "ename": "AttributeError",
     "evalue": "'NoneType' object has no attribute 'evalf'",
     "output_type": "error",
     "traceback": [
      "\u001b[0;31m---------------------------------------------------------------------------\u001b[0m",
      "\u001b[0;31mAttributeError\u001b[0m                            Traceback (most recent call last)",
      "Cell \u001b[0;32mIn[27], line 8\u001b[0m\n\u001b[1;32m      5\u001b[0m unit_vector \u001b[38;5;241m=\u001b[39m v \u001b[38;5;241m/\u001b[39m magnitude\n\u001b[1;32m      7\u001b[0m pprint(unit_vector)\n\u001b[0;32m----> 8\u001b[0m pprint(\u001b[43munit_vector\u001b[49m\u001b[38;5;241;43m.\u001b[39;49m\u001b[43msimplify\u001b[49m\u001b[43m(\u001b[49m\u001b[43m)\u001b[49m\u001b[38;5;241;43m.\u001b[39;49m\u001b[43mevalf\u001b[49m())\n",
      "\u001b[0;31mAttributeError\u001b[0m: 'NoneType' object has no attribute 'evalf'"
     ]
    }
   ],
   "source": [
    "from sympy import Matrix, sqrt, pprint\n",
    "\n",
    "v = Matrix([2, -12, -2])\n",
    "magnitude = sqrt(v.dot(v))\n",
    "unit_vector = v / magnitude\n",
    "\n",
    "pprint(unit_vector)\n",
    "pprint(unit_vector.simplify().evalf())"
   ]
  },
  {
   "cell_type": "code",
   "execution_count": null,
   "metadata": {},
   "outputs": [
    {
     "name": "stdout",
     "output_type": "stream",
     "text": [
      "Dot product matrix:\n",
      "Matrix([[0, 0, 1156], [0, 0, 0], [0, 0, 0]])\n",
      "\n",
      "The set of vectors is not orthogonal.\n"
     ]
    }
   ],
   "source": [
    "from sympy import Matrix, zeros\n",
    "\n",
    "vectors = [Matrix([17, 34, 17]), Matrix([-17, 0, 17]), Matrix([17, 17, 17])]\n",
    "n = len(vectors)\n",
    "dot_products = zeros(n, n)\n",
    "\n",
    "for i in range(n):\n",
    "   for j in range(i+1, n):\n",
    "       dot_products[i,j] = vectors[i].dot(vectors[j])\n",
    "\n",
    "is_orthogonal = dot_products.is_zero_matrix\n",
    "\n",
    "print(f\"Dot product matrix:\\n{dot_products}\\n\")\n",
    "print(f\"The set of vectors is {'orthogonal' if is_orthogonal else 'not orthogonal'}.\")"
   ]
  },
  {
   "cell_type": "code",
   "execution_count": null,
   "metadata": {},
   "outputs": [
    {
     "name": "stdout",
     "output_type": "stream",
     "text": [
      "57   7⋅x\n",
      "── - ───\n",
      "10    10\n"
     ]
    }
   ],
   "source": [
    "from sympy import symbols, Matrix, pprint\n",
    "\n",
    "x = [4, 5, 7, 8]\n",
    "y = [3, 2, 1, 0]\n",
    "n = len(x)\n",
    "\n",
    "X = Matrix([[1, xi] for xi in x])\n",
    "Y = Matrix(y)\n",
    "\n",
    "beta = (X.T * X).inv() * X.T * Y\n",
    "\n",
    "b0, b1 = symbols('β₀ β₁')\n",
    "equation = b0 + b1 * symbols('x')\n",
    "\n",
    "pprint(equation.subs({b0: beta[0], b1: beta[1]}))"
   ]
  },
  {
   "cell_type": "code",
   "execution_count": null,
   "metadata": {},
   "outputs": [
    {
     "name": "stdout",
     "output_type": "stream",
     "text": [
      "P =\n",
      "⎡√2   √2 ⎤\n",
      "⎢──   ── ⎥\n",
      "⎢2    2  ⎥\n",
      "⎢        ⎥\n",
      "⎢√2  -√2 ⎥\n",
      "⎢──  ────⎥\n",
      "⎣2    2  ⎦\n",
      "\n",
      "New quadratic form:\n",
      "     2       2\n",
      "10⋅y₁  - 8⋅y₂ \n"
     ]
    }
   ],
   "source": [
    "from sympy import Matrix, sqrt, symbols, expand, simplify\n",
    "\n",
    "# Define P (option A from the image)\n",
    "P = Matrix([\n",
    "   [1/sqrt(2), 1/sqrt(2)],\n",
    "   [1/sqrt(2), -1/sqrt(2)]\n",
    "])\n",
    "\n",
    "# Define original quadratic form\n",
    "x1, x2 = symbols('x1 x2')\n",
    "original_form = x1**2 + 18*x1*x2 + x2**2\n",
    "\n",
    "# Define new variables\n",
    "y1, y2 = symbols('y1 y2')\n",
    "Y = Matrix([y1, y2])\n",
    "\n",
    "# Transform\n",
    "X = P * Y\n",
    "\n",
    "# Substitute and simplify\n",
    "new_form = original_form.subs({x1: X[0], x2: X[1]})\n",
    "new_form_simplified = simplify(expand(new_form))\n",
    "\n",
    "print(\"P =\")\n",
    "pprint(P)\n",
    "print(\"\\nNew quadratic form:\")\n",
    "pprint(new_form_simplified)"
   ]
  },
  {
   "cell_type": "code",
   "execution_count": 29,
   "metadata": {},
   "outputs": [
    {
     "data": {
      "text/plain": [
       "[(-8,\n",
       "  1,\n",
       "  [Matrix([\n",
       "   [-1],\n",
       "   [ 1]])]),\n",
       " (10,\n",
       "  1,\n",
       "  [Matrix([\n",
       "   [1],\n",
       "   [1]])])]"
      ]
     },
     "execution_count": 29,
     "metadata": {},
     "output_type": "execute_result"
    }
   ],
   "source": [
    "A = Matrix([\n",
    "    [1,9],\n",
    "    [9,1]\n",
    "])\n",
    "A.eigenvects()"
   ]
  },
  {
   "cell_type": "code",
   "execution_count": 40,
   "metadata": {},
   "outputs": [
    {
     "name": "stdout",
     "output_type": "stream",
     "text": [
      "Is orthogonal: True\n",
      "\n",
      "Inverse:\n"
     ]
    },
    {
     "data": {
      "text/latex": [
       "$\\displaystyle \\left[\\begin{matrix}- \\frac{2}{3} & - \\frac{2}{3} & - \\frac{1}{3}\\\\- \\frac{1}{3} & \\frac{2}{3} & - \\frac{2}{3}\\\\\\frac{2}{3} & - \\frac{1}{3} & - \\frac{2}{3}\\end{matrix}\\right]$"
      ],
      "text/plain": [
       "Matrix([\n",
       "[-2/3, -2/3, -1/3],\n",
       "[-1/3,  2/3, -2/3],\n",
       "[ 2/3, -1/3, -2/3]])"
      ]
     },
     "execution_count": 40,
     "metadata": {},
     "output_type": "execute_result"
    }
   ],
   "source": [
    "import sympy as sp\n",
    "\n",
    "A = sp.Matrix([\n",
    "    [sp.Rational(-2, 3), sp.Rational(-1, 3), sp.Rational(2, 3)],\n",
    "    [sp.Rational(-2, 3), sp.Rational(2, 3), sp.Rational(-1, 3)],\n",
    "    [sp.Rational(-1, 3), sp.Rational(-2, 3), sp.Rational(-2, 3)]\n",
    "])\n",
    "\n",
    "# Check if orthogonal\n",
    "is_orthogonal = sp.simplify(A * A.transpose()) == sp.eye(3)\n",
    "\n",
    "print(\"Is orthogonal:\", is_orthogonal)\n",
    "\n",
    "if is_orthogonal:\n",
    "    # For orthogonal matrices, inverse is equal to transpose\n",
    "    inverse = A.transpose()\n",
    "    print(\"\\nInverse:\")\n",
    "inverse"
   ]
  },
  {
   "cell_type": "code",
   "execution_count": 53,
   "metadata": {},
   "outputs": [],
   "source": [
    "from sympy import init_printing\n",
    "init_printing() "
   ]
  },
  {
   "cell_type": "code",
   "execution_count": 55,
   "metadata": {},
   "outputs": [
    {
     "data": {
      "image/png": "[encoded data removed]",
      "text/latex": [
       "$\\displaystyle \\left( \\left[\\begin{matrix}\\frac{\\sqrt{10}}{6}\\\\- \\frac{4 \\sqrt{10}}{15}\\\\\\frac{\\sqrt{10}}{30}\\end{matrix}\\right], \\  \\left[\\begin{matrix}\\frac{4 \\sqrt{65}}{39}\\\\\\frac{\\sqrt{65}}{15}\\\\\\frac{4 \\sqrt{65}}{195}\\end{matrix}\\right]\\right)$"
      ],
      "text/plain": [
       "⎛⎡  √10  ⎤  ⎡4⋅√65⎤⎞\n",
       "⎜⎢  ───  ⎥  ⎢─────⎥⎟\n",
       "⎜⎢   6   ⎥  ⎢  39 ⎥⎟\n",
       "⎜⎢       ⎥  ⎢     ⎥⎟\n",
       "⎜⎢-4⋅√10 ⎥  ⎢ √65 ⎥⎟\n",
       "⎜⎢───────⎥, ⎢ ─── ⎥⎟\n",
       "⎜⎢   15  ⎥  ⎢  15 ⎥⎟\n",
       "⎜⎢       ⎥  ⎢     ⎥⎟\n",
       "⎜⎢  √10  ⎥  ⎢4⋅√65⎥⎟\n",
       "⎜⎢  ───  ⎥  ⎢─────⎥⎟\n",
       "⎝⎣   30  ⎦  ⎣ 195 ⎦⎠"
      ]
     },
     "execution_count": 55,
     "metadata": {},
     "output_type": "execute_result"
    }
   ],
   "source": [
    "import sympy as sp\n",
    "\n",
    "# Define the vectors\n",
    "x1 = sp.Matrix([5, -8, 1])\n",
    "x2 = sp.Matrix([10, -7, 2])\n",
    "\n",
    "# Gram-Schmidt process\n",
    "u1 = x1\n",
    "e1 = u1 / u1.norm()\n",
    "\n",
    "u2 = x2 - x2.project(u1)\n",
    "e2 = u2 / u2.norm()\n",
    "\n",
    "# Orthogonal basis\n",
    "\n",
    "# make a matrix with the vectors\n",
    "e1,e2"
   ]
  },
  {
   "cell_type": "code",
   "execution_count": 59,
   "metadata": {},
   "outputs": [
    {
     "data": {
      "image/png": "[encoded data removed]",
      "text/latex": [
       "$\\displaystyle 1$"
      ],
      "text/plain": [
       "1"
      ]
     },
     "execution_count": 59,
     "metadata": {},
     "output_type": "execute_result"
    }
   ],
   "source": [
    "\n",
    "e2.dot(e2)**.5"
   ]
  },
  {
   "cell_type": "code",
   "execution_count": 62,
   "metadata": {},
   "outputs": [
    {
     "name": "stdout",
     "output_type": "stream",
     "text": [
      "y as sum of vector in W and vector orthogonal to W:\n",
      "y = Matrix([[13], [2], [-5]]) + Matrix([[1], [-4], [1]])\n",
      "\n",
      "Verification:\n",
      "Original y:\n",
      "Sum of components:\n"
     ]
    },
    {
     "data": {
      "image/png": "[encoded data removed]",
      "text/latex": [
       "$\\displaystyle \\left[\\begin{matrix}14\\\\-2\\\\-4\\end{matrix}\\right]$"
      ],
      "text/plain": [
       "⎡14⎤\n",
       "⎢  ⎥\n",
       "⎢-2⎥\n",
       "⎢  ⎥\n",
       "⎣-4⎦"
      ]
     },
     "execution_count": 62,
     "metadata": {},
     "output_type": "execute_result"
    }
   ],
   "source": [
    "import sympy as sp\n",
    "\n",
    "# Define vectors\n",
    "y = sp.Matrix([14, -2, -4])\n",
    "u1 = sp.Matrix([1, 0, -1])\n",
    "u2 = sp.Matrix([2, 1, 2])\n",
    "\n",
    "# Create matrix U with u1 and u2 as columns\n",
    "U = sp.Matrix.hstack(u1, u2)\n",
    "\n",
    "# Calculate the projection matrix onto W\n",
    "P = U * (U.T * U).inv() * U.T\n",
    "\n",
    "# Calculate the projection of y onto W\n",
    "y_w = P * y\n",
    "\n",
    "# Calculate the orthogonal component\n",
    "y_ortho = y - y_w\n",
    "\n",
    "print(\"y as sum of vector in W and vector orthogonal to W:\")\n",
    "print(\"y =\", y_w, \"+\", y_ortho)\n",
    "\n",
    "# Verify the result\n",
    "print(\"\\nVerification:\")\n",
    "print(\"Original y:\" )\n",
    "y\n",
    "print(\"Sum of components:\")\n",
    "y_w + y_ortho"
   ]
  },
  {
   "cell_type": "code",
   "execution_count": 63,
   "metadata": {},
   "outputs": [
    {
     "name": "stdout",
     "output_type": "stream",
     "text": [
      "y = Matrix([[12/5], [4/5]]) + Matrix([[-7/5], [21/5]])\n"
     ]
    }
   ],
   "source": [
    "y = Matrix([1, 5])\n",
    "u = Matrix([6, 2])\n",
    "\n",
    "# Calculate the projection of y onto u\n",
    "proj_u = (y.dot(u) / u.dot(u)) * u\n",
    "\n",
    "# Calculate the orthogonal component\n",
    "orthogonal = y - proj_u\n",
    "\n",
    "# Print the result\n",
    "print(f\"y = {proj_u} + {orthogonal}\")"
   ]
  },
  {
   "cell_type": "code",
   "execution_count": 66,
   "metadata": {},
   "outputs": [
    {
     "data": {
      "image/png": "[encoded data removed]",
      "text/latex": [
       "$\\displaystyle \\left[\\begin{matrix}4\\\\-3\\end{matrix}\\right]$"
      ],
      "text/plain": [
       "⎡4 ⎤\n",
       "⎢  ⎥\n",
       "⎣-3⎦"
      ]
     },
     "execution_count": 66,
     "metadata": {},
     "output_type": "execute_result"
    }
   ],
   "source": [
    "A = Matrix([\n",
    "    [1,1],\n",
    "    [1,-1],\n",
    "    [1,1]\n",
    "])\n",
    "\n",
    "b = Matrix([\n",
    "    2,\n",
    "    7,\n",
    "    0\n",
    "])\n",
    "((A.T*A)**-1)*A.T*b"
   ]
  },
  {
   "cell_type": "code",
   "execution_count": 67,
   "metadata": {},
   "outputs": [
    {
     "data": {
      "image/png": "[encoded data removed]",
      "text/latex": [
       "$\\displaystyle \\left[\\begin{matrix}2166 & 0 & 1444\\\\0 & 722 & 0\\\\1444 & 0 & 1083\\end{matrix}\\right]$"
      ],
      "text/plain": [
       "⎡2166   0   1444⎤\n",
       "⎢               ⎥\n",
       "⎢ 0    722   0  ⎥\n",
       "⎢               ⎥\n",
       "⎣1444   0   1083⎦"
      ]
     },
     "execution_count": 67,
     "metadata": {},
     "output_type": "execute_result"
    }
   ],
   "source": [
    "A = Matrix([\n",
    "    [-19,19,-19],\n",
    "    [-38,0,-19],\n",
    "    [-19,-19,-19]\n",
    "])\n",
    "A.T*A"
   ]
  },
  {
   "cell_type": "code",
   "execution_count": 69,
   "metadata": {},
   "outputs": [
    {
     "data": {
      "image/png": "[encoded data removed]",
      "text/latex": [
       "$\\displaystyle \\left( \\left[\\begin{matrix}- \\frac{1}{2}\\\\\\frac{7}{2}\\end{matrix}\\right], \\  \\left[\\begin{matrix}\\frac{7}{2}\\\\\\frac{1}{2}\\end{matrix}\\right]\\right)$"
      ],
      "text/plain": [
       "⎛⎡-1/2⎤  ⎡7/2⎤⎞\n",
       "⎜⎢    ⎥, ⎢   ⎥⎟\n",
       "⎝⎣7/2 ⎦  ⎣1/2⎦⎠"
      ]
     },
     "execution_count": 69,
     "metadata": {},
     "output_type": "execute_result"
    }
   ],
   "source": [
    "y = Matrix([3, 4])\n",
    "u = Matrix([1, -7])\n",
    "\n",
    "# Calculate the projection of y onto u (component in Span{u})\n",
    "proj_u = (y.dot(u) / u.dot(u)) * u\n",
    "\n",
    "# Calculate the orthogonal component\n",
    "orthogonal = y - proj_u\n",
    "\n",
    "# Print the result\n",
    "proj_u,orthogonal"
   ]
  },
  {
   "cell_type": "code",
   "execution_count": 70,
   "metadata": {},
   "outputs": [
    {
     "name": "stdout",
     "output_type": "stream",
     "text": [
      "Is the matrix orthogonal? True\n",
      "Inverse of the matrix:\n",
      "⎡1/3  2/3   2/3 ⎤\n",
      "⎢               ⎥\n",
      "⎢2/3  -2/3  1/3 ⎥\n",
      "⎢               ⎥\n",
      "⎣2/3  1/3   -2/3⎦\n"
     ]
    }
   ],
   "source": [
    "\n",
    "\n",
    "A = Matrix([\n",
    "    [sp.Rational(1, 3), sp.Rational(2, 3), sp.Rational(2, 3)],\n",
    "    [sp.Rational(2, 3), sp.Rational(-2, 3), sp.Rational(1, 3)],\n",
    "    [sp.Rational(2, 3), sp.Rational(1, 3), sp.Rational(-2, 3)]\n",
    "])\n",
    "\n",
    "# Check if the matrix is orthogonal\n",
    "is_orthogonal = A * A.transpose() == eye(3)\n",
    "\n",
    "print(f\"Is the matrix orthogonal? {is_orthogonal}\")\n",
    "\n",
    "if is_orthogonal:\n",
    "    # If orthogonal, find the inverse\n",
    "    inverse = A.inv()\n",
    "    print(\"Inverse of the matrix:\")\n",
    "    pprint(inverse)\n",
    "else:\n",
    "    print(\"The matrix is not orthogonal, so the inverse is not calculated.\")"
   ]
  },
  {
   "cell_type": "code",
   "execution_count": 73,
   "metadata": {},
   "outputs": [
    {
     "name": "stdout",
     "output_type": "stream",
     "text": [
      "Quadratic form for a:\n",
      "\n",
      "Quadratic form for b: 293.000000000000\n",
      "\n",
      "Quadratic form for c: 40.0000000000000\n"
     ]
    }
   ],
   "source": [
    "A = Matrix([\n",
    "   [2, sp.Rational(1,6)],\n",
    "   [sp.Rational(1,6), 1]\n",
    "])\n",
    "\n",
    "# Define the vectors\n",
    "x_a = Matrix(symbols('x1 x2'))\n",
    "x_b = Matrix([12, 1])\n",
    "x_c = Matrix([1, 6])\n",
    "\n",
    "# Function to compute quadratic form\n",
    "def quadratic_form(x):\n",
    "   return (x.T * A * x)[0]\n",
    "\n",
    "# Compute for vector a (symbolic)\n",
    "result_a = quadratic_form(x_a)\n",
    "\n",
    "# Compute for vector b\n",
    "result_b = quadratic_form(x_b)\n",
    "\n",
    "# Compute for vector c\n",
    "result_c = quadratic_form(x_c)\n",
    "\n",
    "print(\"Quadratic form for a:\")\n",
    "print(\"\\nQuadratic form for b:\", result_b.evalf())\n",
    "print(\"\\nQuadratic form for c:\", result_c.evalf())"
   ]
  },
  {
   "cell_type": "code",
   "execution_count": 75,
   "metadata": {},
   "outputs": [
    {
     "data": {
      "image/png": "[encoded data removed]",
      "text/latex": [
       "$\\displaystyle 2 x_{1}^{2} + \\frac{x_{1} x_{2}}{3} + x_{2}^{2}$"
      ],
      "text/plain": [
       "    2   x₁⋅x₂     2\n",
       "2⋅x₁  + ───── + x₂ \n",
       "          3        "
      ]
     },
     "execution_count": 75,
     "metadata": {},
     "output_type": "execute_result"
    }
   ],
   "source": [
    "result_a.expand()\n"
   ]
  },
  {
   "cell_type": "code",
   "execution_count": 81,
   "metadata": {},
   "outputs": [
    {
     "name": "stdout",
     "output_type": "stream",
     "text": [
      "Orthogonal basis:\n"
     ]
    },
    {
     "data": {
      "image/png": "[encoded data removed]",
      "text/latex": [
       "$\\displaystyle \\left( \\left[\\begin{matrix}3\\\\-5\\\\6\\end{matrix}\\right], \\  \\left[\\begin{matrix}\\frac{3}{2}\\\\\\frac{9}{2}\\\\3\\end{matrix}\\right]\\right)$"
      ],
      "text/plain": [
       "⎛⎡3 ⎤  ⎡3/2⎤⎞\n",
       "⎜⎢  ⎥  ⎢   ⎥⎟\n",
       "⎜⎢-5⎥, ⎢9/2⎥⎟\n",
       "⎜⎢  ⎥  ⎢   ⎥⎟\n",
       "⎝⎣6 ⎦  ⎣ 3 ⎦⎠"
      ]
     },
     "execution_count": 81,
     "metadata": {},
     "output_type": "execute_result"
    }
   ],
   "source": [
    "# Define the vectors\n",
    "x1 = Matrix([3, -5, 6])\n",
    "x2 = Matrix([6, -3, 12])\n",
    "\n",
    "# Gram-Schmidt process\n",
    "u1 = x1\n",
    "e1 = x1\n",
    "\n",
    "u2 = x2 - (x2.dot(e1)/(e1.dot(e1)) * e1)\n",
    "e2 = u2 \n",
    "\n",
    "# Print the orthogonal basis\n",
    "print(\"Orthogonal basis:\")\n",
    "\n",
    "e1,e2"
   ]
  },
  {
   "cell_type": "code",
   "execution_count": 85,
   "metadata": {},
   "outputs": [
    {
     "data": {
      "image/png": "[encoded data removed]",
      "text/latex": [
       "$\\displaystyle \\left[\\begin{matrix}12 & 3\\\\3 & 4\\end{matrix}\\right]$"
      ],
      "text/plain": [
       "⎡12  3⎤\n",
       "⎢     ⎥\n",
       "⎣3   4⎦"
      ]
     },
     "execution_count": 85,
     "metadata": {},
     "output_type": "execute_result"
    }
   ],
   "source": [
    "A = sp.Matrix([[12, 3],\n",
    "               [3, 4]])\n",
    "\n",
    "P, D = A.diagonalize()\n",
    "\n",
    "# Normalize columns of P\n",
    "P_normalized = P.columnspace()\n",
    "P_normalized = sp.Matrix.hstack(*[col.normalized() for col in P_normalized])\n",
    "\n",
    "P_normalized* D*P_normalized.inv()"
   ]
  },
  {
   "cell_type": "code",
   "execution_count": 88,
   "metadata": {},
   "outputs": [
    {
     "name": "stdout",
     "output_type": "stream",
     "text": [
      "Least-squares line equation:\n"
     ]
    },
    {
     "data": {
      "image/png": "[encoded data removed]",
      "text/latex": [
       "$\\displaystyle y = \\frac{2 x}{5} + \\frac{1}{2}$"
      ],
      "text/plain": [
       "    2⋅x   1\n",
       "y = ─── + ─\n",
       "     5    2"
      ]
     },
     "execution_count": 88,
     "metadata": {},
     "output_type": "execute_result"
    }
   ],
   "source": [
    "x_data = sp.Matrix([1, 2, 3, 4])\n",
    "y_data = sp.Matrix([1, 1, 2, 2])\n",
    "\n",
    "# Create matrix A (add column of 1's for intercept)\n",
    "A = sp.Matrix.hstack(sp.ones(4, 1), x_data.reshape(4, 1))\n",
    "\n",
    "# Create vector b\n",
    "b = y_data\n",
    "\n",
    "# Calculate x* = (A^T A)^-1 A^T b\n",
    "x_star = (A.T * A).inv() * A.T * b\n",
    "\n",
    "beta_0, beta_1 = x_star\n",
    "\n",
    "print(\"Least-squares line equation:\")\n",
    "sp.Eq(sp.symbols('y'), beta_0 + beta_1 * sp.symbols('x'))"
   ]
  },
  {
   "cell_type": "code",
   "execution_count": 90,
   "metadata": {},
   "outputs": [
    {
     "name": "stdout",
     "output_type": "stream",
     "text": [
      "Distance between u and z:\n",
      "2⋅√14\n"
     ]
    }
   ],
   "source": [
    "u = sp.Matrix([0, -3, 3])\n",
    "z = sp.Matrix([-4, -1, 9])\n",
    "\n",
    "distance = (u - z).norm()\n",
    "\n",
    "print(\"Distance between u and z:\")\n",
    "sp.pprint(distance)"
   ]
  },
  {
   "cell_type": "code",
   "execution_count": 91,
   "metadata": {},
   "outputs": [
    {
     "name": "stdout",
     "output_type": "stream",
     "text": [
      "Change of variable matrix P:\n",
      "⎡√2  -√2 ⎤\n",
      "⎢──  ────⎥\n",
      "⎢2    2  ⎥\n",
      "⎢        ⎥\n",
      "⎢√2   √2 ⎥\n",
      "⎢──   ── ⎥\n",
      "⎣2    2  ⎦\n",
      "\n",
      "New quadratic form:\n",
      "     2       2\n",
      "12⋅y₁  - 4⋅y₂ \n"
     ]
    }
   ],
   "source": [
    "x1, x2 = sp.symbols('x1 x2')\n",
    "y1, y2 = sp.symbols('y1 y2')\n",
    "\n",
    "# Original quadratic form\n",
    "Q = 4*x1**2 + 16*x1*x2 + 4*x2**2\n",
    "\n",
    "# Define the change of variable matrix P\n",
    "P = sp.Matrix([[sp.sqrt(2)/2, -sp.sqrt(2)/2],\n",
    "               [sp.sqrt(2)/2, sp.sqrt(2)/2]])\n",
    "\n",
    "# Perform the change of variable\n",
    "x = P * sp.Matrix([y1, y2])\n",
    "\n",
    "# Substitute the change of variable into the original quadratic form\n",
    "Q_new = Q.subs([(x1, x[0]), (x2, x[1])]).expand()\n",
    "\n",
    "# Extract coefficients of the new quadratic form\n",
    "coeff_y1_sq = Q_new.coeff(y1**2)\n",
    "coeff_y2_sq = Q_new.coeff(y2**2)\n",
    "\n",
    "# New quadratic form without cross-product term\n",
    "Q_final = coeff_y1_sq * y1**2 + coeff_y2_sq * y2**2\n",
    "\n",
    "print(\"Change of variable matrix P:\")\n",
    "sp.pprint(P)\n",
    "print(\"\\nNew quadratic form:\")\n",
    "sp.pprint(Q_final)"
   ]
  },
  {
   "cell_type": "code",
   "execution_count": 95,
   "metadata": {},
   "outputs": [
    {
     "data": {
      "image/png": "[encoded data removed]",
      "text/latex": [
       "$\\displaystyle \\left[\\begin{matrix}\\frac{\\sqrt{51}}{51}\\\\- \\frac{7 \\sqrt{51}}{51}\\\\- \\frac{\\sqrt{51}}{51}\\end{matrix}\\right]$"
      ],
      "text/plain": [
       "⎡  √51  ⎤\n",
       "⎢  ───  ⎥\n",
       "⎢   51  ⎥\n",
       "⎢       ⎥\n",
       "⎢-7⋅√51 ⎥\n",
       "⎢───────⎥\n",
       "⎢   51  ⎥\n",
       "⎢       ⎥\n",
       "⎢ -√51  ⎥\n",
       "⎢ ───── ⎥\n",
       "⎣   51  ⎦"
      ]
     },
     "execution_count": 95,
     "metadata": {},
     "output_type": "execute_result"
    }
   ],
   "source": [
    "Matrix([4,-28,-4])/(Matrix([4,-28,-4]).norm())"
   ]
  },
  {
   "cell_type": "code",
   "execution_count": 97,
   "metadata": {},
   "outputs": [
    {
     "data": {
      "image/png": "[encoded data removed]",
      "text/latex": [
       "$\\displaystyle \\left[\\begin{matrix}8 & 1\\\\3 & -4\\\\4 & 1\\end{matrix}\\right]$"
      ],
      "text/plain": [
       "⎡8  1 ⎤\n",
       "⎢     ⎥\n",
       "⎢3  -4⎥\n",
       "⎢     ⎥\n",
       "⎣4  1 ⎦"
      ]
     },
     "execution_count": 97,
     "metadata": {},
     "output_type": "execute_result"
    }
   ],
   "source": [
    "u1 = sp.Matrix([1, 0, -1])\n",
    "u2 = sp.Matrix([2, 1, 2])\n",
    "y = sp.Matrix([9, -1, 5])\n",
    "W = sp.Matrix.hstack(u1, u2)\n",
    "proj = W * (W.T * W).inv() * W.T * y\n",
    "orthogonal = y - proj\n",
    "result = sp.Matrix.hstack(proj, orthogonal)\n",
    "result"
   ]
  },
  {
   "cell_type": "code",
   "execution_count": 100,
   "metadata": {},
   "outputs": [
    {
     "data": {
      "image/png": "[encoded data removed]",
      "text/latex": [
       "$\\displaystyle \\left[\\begin{matrix}7 & 7\\\\0 & \\sqrt{29}\\end{matrix}\\right]$"
      ],
      "text/plain": [
       "⎡7   7 ⎤\n",
       "⎢      ⎥\n",
       "⎣0  √29⎦"
      ]
     },
     "execution_count": 100,
     "metadata": {},
     "output_type": "execute_result"
    }
   ],
   "source": [
    "A = sp.Matrix([\n",
    "[2, -3],\n",
    "[5, 7],\n",
    "[-2, -2],\n",
    "[-4, -4]\n",
    "])\n",
    "Q = sp.Matrix([\n",
    "[sp.Rational(2, 7), -sp.Rational(5)/sp.sqrt(29)],\n",
    "[sp.Rational(5, 7), sp.Rational(2)/ sp.sqrt(29)],\n",
    "[sp.Rational(-2, 7), 0],\n",
    "[sp.Rational(-4, 7), 0]\n",
    "])\n",
    "R = Q.T * A\n",
    "R"
   ]
  },
  {
   "cell_type": "code",
   "execution_count": 101,
   "metadata": {},
   "outputs": [
    {
     "data": {
      "image/png": "[encoded data removed]",
      "text/latex": [
       "$\\displaystyle \\left[\\begin{matrix}2 & -3\\\\5 & 7\\\\-2 & -2\\\\-4 & -4\\end{matrix}\\right]$"
      ],
      "text/plain": [
       "⎡2   -3⎤\n",
       "⎢      ⎥\n",
       "⎢5   7 ⎥\n",
       "⎢      ⎥\n",
       "⎢-2  -2⎥\n",
       "⎢      ⎥\n",
       "⎣-4  -4⎦"
      ]
     },
     "execution_count": 101,
     "metadata": {},
     "output_type": "execute_result"
    }
   ],
   "source": [
    "A"
   ]
  },
  {
   "cell_type": "code",
   "execution_count": 102,
   "metadata": {},
   "outputs": [
    {
     "data": {
      "image/png": "[encoded data removed]",
      "text/latex": [
       "$\\displaystyle \\left[\\begin{matrix}\\frac{2}{7} & - \\frac{5 \\sqrt{29}}{29}\\\\\\frac{5}{7} & \\frac{2 \\sqrt{29}}{29}\\\\- \\frac{2}{7} & 0\\\\- \\frac{4}{7} & 0\\end{matrix}\\right]$"
      ],
      "text/plain": [
       "⎡      -5⋅√29 ⎤\n",
       "⎢2/7   ───────⎥\n",
       "⎢         29  ⎥\n",
       "⎢             ⎥\n",
       "⎢       2⋅√29 ⎥\n",
       "⎢5/7    ───── ⎥\n",
       "⎢         29  ⎥\n",
       "⎢             ⎥\n",
       "⎢-2/7     0   ⎥\n",
       "⎢             ⎥\n",
       "⎣-4/7     0   ⎦"
      ]
     },
     "execution_count": 102,
     "metadata": {},
     "output_type": "execute_result"
    }
   ],
   "source": [
    "Q"
   ]
  },
  {
   "cell_type": "code",
   "execution_count": 103,
   "metadata": {},
   "outputs": [
    {
     "data": {
      "image/png": "[encoded data removed]",
      "text/latex": [
       "$\\displaystyle \\left[ \\left( -19, \\  1, \\  \\left[ \\left[\\begin{matrix}-2\\\\1\\end{matrix}\\right]\\right]\\right), \\  \\left( 0, \\  1, \\  \\left[ \\left[\\begin{matrix}\\frac{1}{9}\\\\1\\end{matrix}\\right]\\right]\\right)\\right]$"
      ],
      "text/plain": [
       "⎡⎛        ⎡⎡-2⎤⎤⎞  ⎛      ⎡⎡1/9⎤⎤⎞⎤\n",
       "⎢⎜-19, 1, ⎢⎢  ⎥⎥⎟, ⎜0, 1, ⎢⎢   ⎥⎥⎟⎥\n",
       "⎣⎝        ⎣⎣1 ⎦⎦⎠  ⎝      ⎣⎣ 1 ⎦⎦⎠⎦"
      ]
     },
     "execution_count": 103,
     "metadata": {},
     "output_type": "execute_result"
    }
   ],
   "source": [
    "Matrix([\n",
    "    [-18,2],\n",
    "    [9,-1]\n",
    "]).eigenvects()\n"
   ]
  },
  {
   "cell_type": "code",
   "execution_count": 104,
   "metadata": {},
   "outputs": [
    {
     "name": "stdout",
     "output_type": "stream",
     "text": [
      "Matrix([[1], [1], [3]])\n"
     ]
    }
   ],
   "source": [
    "B = sp.Matrix([[1, 5, 1],\n",
    "                [0, 1, -1],\n",
    "                [2, 6, 5]])\n",
    "\n",
    "x = sp.Matrix([9, -2, 23])\n",
    "\n",
    "coordinate_vector = B.inv() * x\n",
    "\n",
    "print(coordinate_vector)"
   ]
  },
  {
   "cell_type": "code",
   "execution_count": 107,
   "metadata": {},
   "outputs": [
    {
     "name": "stdout",
     "output_type": "stream",
     "text": [
      "Matrix([[5, 2, 2]])\n"
     ]
    }
   ],
   "source": [
    "A = sp.Matrix([\n",
    "[1, 3, 5, -3, 0, 3, 6],\n",
    "[0, 1, 4, -4, 0, 4, 6]\n",
    "])\n",
    "null_dim = len(A.nullspace())\n",
    "col_dim = A.rank()\n",
    "row_dim = A.shape[0]\n",
    "result = sp.Matrix([[null_dim, col_dim, row_dim]])\n",
    "print(result)"
   ]
  },
  {
   "cell_type": "code",
   "execution_count": 110,
   "metadata": {},
   "outputs": [
    {
     "data": {
      "image/png": "[encoded data removed]",
      "text/latex": [
       "$\\displaystyle \\left[ \\left( -4, \\  1, \\  \\left[ \\left[\\begin{matrix}\\frac{1}{2}\\\\1\\end{matrix}\\right]\\right]\\right), \\  \\left( 8, \\  1, \\  \\left[ \\left[\\begin{matrix}1\\\\0\\end{matrix}\\right]\\right]\\right)\\right]$"
      ],
      "text/plain": [
       "⎡⎛       ⎡⎡1/2⎤⎤⎞  ⎛      ⎡⎡1⎤⎤⎞⎤\n",
       "⎢⎜-4, 1, ⎢⎢   ⎥⎥⎟, ⎜8, 1, ⎢⎢ ⎥⎥⎟⎥\n",
       "⎣⎝       ⎣⎣ 1 ⎦⎦⎠  ⎝      ⎣⎣0⎦⎦⎠⎦"
      ]
     },
     "execution_count": 110,
     "metadata": {},
     "output_type": "execute_result"
    }
   ],
   "source": [
    "Matrix([\n",
    "    [8,-6],[0,-4]\n",
    "]).eigenvects()"
   ]
  },
  {
   "cell_type": "code",
   "execution_count": 111,
   "metadata": {},
   "outputs": [
    {
     "data": {
      "image/png": "[encoded data removed]",
      "text/latex": [
       "$\\displaystyle \\left[ \\left( 1, \\  1, \\  \\left[ \\left[\\begin{matrix}1\\\\0\\end{matrix}\\right]\\right]\\right), \\  \\left( 4, \\  1, \\  \\left[ \\left[\\begin{matrix}1\\\\1\\end{matrix}\\right]\\right]\\right)\\right]$"
      ],
      "text/plain": [
       "⎡⎛      ⎡⎡1⎤⎤⎞  ⎛      ⎡⎡1⎤⎤⎞⎤\n",
       "⎢⎜1, 1, ⎢⎢ ⎥⎥⎟, ⎜4, 1, ⎢⎢ ⎥⎥⎟⎥\n",
       "⎣⎝      ⎣⎣0⎦⎦⎠  ⎝      ⎣⎣1⎦⎦⎠⎦"
      ]
     },
     "execution_count": 111,
     "metadata": {},
     "output_type": "execute_result"
    }
   ],
   "source": [
    "Matrix([\n",
    "    [1,3]\n",
    "    ,[0,4]\n",
    "]).eigenvects()"
   ]
  },
  {
   "cell_type": "code",
   "execution_count": 120,
   "metadata": {},
   "outputs": [
    {
     "data": {
      "image/png": "[encoded data removed]",
      "text/latex": [
       "$\\displaystyle \\left[\\begin{matrix}-2\\\\-1\\\\1\\end{matrix}\\right]$"
      ],
      "text/plain": [
       "⎡-2⎤\n",
       "⎢  ⎥\n",
       "⎢-1⎥\n",
       "⎢  ⎥\n",
       "⎣1 ⎦"
      ]
     },
     "execution_count": 120,
     "metadata": {},
     "output_type": "execute_result"
    }
   ],
   "source": [
    "A = sp.Matrix([\n",
    "   [3, 0, 2],\n",
    "   [-2, 0, -6],\n",
    "   [-3, -1, -5]\n",
    "])\n",
    "\n",
    "lambda_val = 2\n",
    "\n",
    "B = A - lambda_val * sp.eye(3)\n",
    "eigenspace = B.nullspace()\n",
    "\n",
    "sp.Matrix(eigenspace)"
   ]
  },
  {
   "cell_type": "code",
   "execution_count": 116,
   "metadata": {},
   "outputs": [
    {
     "data": {
      "image/png": "[encoded data removed]",
      "text/latex": [
       "$\\displaystyle \\left( \\left[\\begin{matrix}1 & 0 & 7 & -3\\\\0 & 1 & -16 & 7\\end{matrix}\\right], \\  \\left( 0, \\  1\\right)\\right)$"
      ],
      "text/plain": [
       "⎛⎡1  0   7   -3⎤        ⎞\n",
       "⎜⎢             ⎥, (0, 1)⎟\n",
       "⎝⎣0  1  -16  7 ⎦        ⎠"
      ]
     },
     "execution_count": 116,
     "metadata": {},
     "output_type": "execute_result"
    }
   ],
   "source": [
    "b = Matrix([\n",
    "    [-9,4],\n",
    "    [-20,9]\n",
    "])\n",
    "c = Matrix([\n",
    "    [1,1],\n",
    "    [4,3]\n",
    "])\n",
    "# put them side by side, then rref\n",
    "Matrix.hstack(c,b).rref()\n"
   ]
  },
  {
   "cell_type": "code",
   "execution_count": 128,
   "metadata": {},
   "outputs": [],
   "source": [
    "import sympy as sp\n",
    "\n",
    "A = sp.Matrix([\n",
    "   [6, -2],\n",
    "   [2, 7]\n",
    "])\n",
    "\n",
    "a = A.nullspace().di\n",
    "b = A.columnspace"
   ]
  },
  {
   "cell_type": "code",
   "execution_count": 131,
   "metadata": {},
   "outputs": [
    {
     "data": {
      "image/png": "[encoded data removed]",
      "text/latex": [
       "$\\displaystyle \\left[ x{\\left(t \\right)} = \\frac{2 C_{1} e^{- 20 t}}{5} + \\frac{5 C_{2} e^{t}}{2}, \\  y{\\left(t \\right)} = C_{1} e^{- 20 t} + C_{2} e^{t}\\right]$"
      ],
      "text/plain": [
       "⎡             -20⋅t         t                          ⎤\n",
       "⎢       2⋅C₁⋅ℯ        5⋅C₂⋅ℯ              -20⋅t       t⎥\n",
       "⎢x(t) = ─────────── + ───────, y(t) = C₁⋅ℯ      + C₂⋅ℯ ⎥\n",
       "⎣            5           2                             ⎦"
      ]
     },
     "execution_count": 131,
     "metadata": {},
     "output_type": "execute_result"
    }
   ],
   "source": [
    "import sympy as sp\n",
    "\n",
    "x, y = sp.symbols('x y', cls=sp.Function)\n",
    "t = sp.Symbol('t')\n",
    "\n",
    "A = sp.Matrix([[5, -10], \n",
    "               [10, -24]])\n",
    "\n",
    "x_vec = sp.Matrix([x(t), y(t)])\n",
    "\n",
    "x_vec_prime = A * x_vec\n",
    "\n",
    "eq1 = sp.Eq(x(t).diff(t), x_vec_prime[0])\n",
    "eq2 = sp.Eq(y(t).diff(t), x_vec_prime[1])\n",
    "\n",
    "sol = sp.dsolve((eq1, eq2))\n",
    "sol"
   ]
  },
  {
   "cell_type": "code",
   "execution_count": 132,
   "metadata": {},
   "outputs": [
    {
     "data": {
      "image/png": "[encoded data removed]",
      "text/latex": [
       "$\\displaystyle \\left( \\left[\\begin{matrix}-1 & -1 & 1\\\\1 & 0 & 1\\\\0 & 1 & 1\\end{matrix}\\right], \\  \\left[\\begin{matrix}-1 & 0 & 0\\\\0 & -1 & 0\\\\0 & 0 & 14\\end{matrix}\\right]\\right)$"
      ],
      "text/plain": [
       "⎛⎡-1  -1  1⎤  ⎡-1  0   0 ⎤⎞\n",
       "⎜⎢         ⎥  ⎢          ⎥⎟\n",
       "⎜⎢1   0   1⎥, ⎢0   -1  0 ⎥⎟\n",
       "⎜⎢         ⎥  ⎢          ⎥⎟\n",
       "⎝⎣0   1   1⎦  ⎣0   0   14⎦⎠"
      ]
     },
     "execution_count": 132,
     "metadata": {},
     "output_type": "execute_result"
    }
   ],
   "source": [
    "Matrix([\n",
    "    [4,5,5],\n",
    "    [5,4,5],\n",
    "    [5,5,4]\n",
    "]).diagonalize()"
   ]
  },
  {
   "cell_type": "code",
   "execution_count": 133,
   "metadata": {},
   "outputs": [
    {
     "data": {
      "image/png": "[encoded data removed]",
      "text/latex": [
       "$\\displaystyle \\left\\{ -3 : 1, \\  -2 : 1\\right\\}$"
      ],
      "text/plain": [
       "{-3: 1, -2: 1}"
      ]
     },
     "execution_count": 133,
     "metadata": {},
     "output_type": "execute_result"
    }
   ],
   "source": [
    "Matrix([\n",
    "    [23,5],\n",
    "    [-130,-28]\n",
    "]).eigenvals()"
   ]
  },
  {
   "cell_type": "code",
   "execution_count": 134,
   "metadata": {},
   "outputs": [
    {
     "data": {
      "image/png": "[encoded data removed]",
      "text/latex": [
       "$\\displaystyle \\left[ \\left[\\begin{matrix}5\\\\2\\\\1\\\\0\\end{matrix}\\right], \\  \\left[\\begin{matrix}-2\\\\-3\\\\0\\\\1\\end{matrix}\\right]\\right]$"
      ],
      "text/plain": [
       "⎡⎡5⎤  ⎡-2⎤⎤\n",
       "⎢⎢ ⎥  ⎢  ⎥⎥\n",
       "⎢⎢2⎥  ⎢-3⎥⎥\n",
       "⎢⎢ ⎥, ⎢  ⎥⎥\n",
       "⎢⎢1⎥  ⎢0 ⎥⎥\n",
       "⎢⎢ ⎥  ⎢  ⎥⎥\n",
       "⎣⎣0⎦  ⎣1 ⎦⎦"
      ]
     },
     "execution_count": 134,
     "metadata": {},
     "output_type": "execute_result"
    }
   ],
   "source": [
    "Matrix([\n",
    "    [1,0,-5,2],\n",
    "    [0,1,-2,3],\n",
    "    [5,-13,1,-29]\n",
    "]).nullspace()"
   ]
  },
  {
   "cell_type": "code",
   "execution_count": 136,
   "metadata": {},
   "outputs": [
    {
     "data": {
      "image/png": "[encoded data removed]",
      "text/latex": [
       "$\\displaystyle \\left[ \\left[\\begin{matrix}-1\\\\1\\\\2\\\\3\\end{matrix}\\right], \\  \\left[\\begin{matrix}3\\\\-2\\\\-4\\\\-6\\end{matrix}\\right], \\  \\left[\\begin{matrix}7\\\\-7\\\\-9\\\\-11\\end{matrix}\\right]\\right]$"
      ],
      "text/plain": [
       "⎡⎡-1⎤  ⎡3 ⎤  ⎡ 7 ⎤⎤\n",
       "⎢⎢  ⎥  ⎢  ⎥  ⎢   ⎥⎥\n",
       "⎢⎢1 ⎥  ⎢-2⎥  ⎢-7 ⎥⎥\n",
       "⎢⎢  ⎥, ⎢  ⎥, ⎢   ⎥⎥\n",
       "⎢⎢2 ⎥  ⎢-4⎥  ⎢-9 ⎥⎥\n",
       "⎢⎢  ⎥  ⎢  ⎥  ⎢   ⎥⎥\n",
       "⎣⎣3 ⎦  ⎣-6⎦  ⎣-11⎦⎦"
      ]
     },
     "execution_count": 136,
     "metadata": {},
     "output_type": "execute_result"
    }
   ],
   "source": [
    "Matrix([\n",
    "    [-1,3,7,2,0],\n",
    "    [1,-2,-7,-1,3],\n",
    "    [2,-4,-9,-5,1],\n",
    "    [3,-6,-11,-9,-1]\n",
    "]).columnspace()\n"
   ]
  },
  {
   "cell_type": "code",
   "execution_count": 137,
   "metadata": {},
   "outputs": [
    {
     "data": {
      "image/png": "[encoded data removed]",
      "text/latex": [
       "$\\displaystyle \\left[\\begin{matrix}-74 & 30\\\\-225 & 91\\end{matrix}\\right]$"
      ],
      "text/plain": [
       "⎡-74   30⎤\n",
       "⎢        ⎥\n",
       "⎣-225  91⎦"
      ]
     },
     "execution_count": 137,
     "metadata": {},
     "output_type": "execute_result"
    }
   ],
   "source": [
    "P = Matrix([\n",
    "    [1,2],\n",
    "    [3,5]\n",
    "])\n",
    "D = Matrix([\n",
    "    [2,0],\n",
    "    [0,1]\n",
    "])\n",
    "P*(D**4)*P.inv()"
   ]
  },
  {
   "cell_type": "code",
   "execution_count": 138,
   "metadata": {},
   "outputs": [
    {
     "data": {
      "image/png": "[encoded data removed]",
      "text/latex": [
       "$\\displaystyle \\left[ \\left( -3, \\  1, \\  \\left[ \\left[\\begin{matrix}- \\frac{1}{2}\\\\-1\\\\1\\end{matrix}\\right]\\right]\\right), \\  \\left( -1, \\  2, \\  \\left[ \\left[\\begin{matrix}\\frac{1}{4}\\\\1\\\\1\\end{matrix}\\right]\\right]\\right)\\right]$"
      ],
      "text/plain": [
       "⎡⎛       ⎡⎡-1/2⎤⎤⎞  ⎛       ⎡⎡1/4⎤⎤⎞⎤\n",
       "⎢⎜       ⎢⎢    ⎥⎥⎟  ⎜       ⎢⎢   ⎥⎥⎟⎥\n",
       "⎢⎜-3, 1, ⎢⎢ -1 ⎥⎥⎟, ⎜-1, 2, ⎢⎢ 1 ⎥⎥⎟⎥\n",
       "⎢⎜       ⎢⎢    ⎥⎥⎟  ⎜       ⎢⎢   ⎥⎥⎟⎥\n",
       "⎣⎝       ⎣⎣ 1  ⎦⎦⎠  ⎝       ⎣⎣ 1 ⎦⎦⎠⎦"
      ]
     },
     "execution_count": 138,
     "metadata": {},
     "output_type": "execute_result"
    }
   ],
   "source": [
    "Matrix([\n",
    "    [-5,1,0],\n",
    "    [0,-2,1],\n",
    "    [32,-11,2]\n",
    "]).eigenvects()\n"
   ]
  },
  {
   "cell_type": "code",
   "execution_count": 139,
   "metadata": {},
   "outputs": [
    {
     "ename": "MatrixError",
     "evalue": "Matrix is not diagonalizable",
     "output_type": "error",
     "traceback": [
      "\u001b[0;31m---------------------------------------------------------------------------\u001b[0m",
      "\u001b[0;31mMatrixError\u001b[0m                               Traceback (most recent call last)",
      "Cell \u001b[0;32mIn[139], line 4\u001b[0m\n\u001b[1;32m      1\u001b[0m \u001b[43mMatrix\u001b[49m\u001b[43m(\u001b[49m\u001b[43m[\u001b[49m\n\u001b[1;32m      2\u001b[0m \u001b[43m    \u001b[49m\u001b[43m[\u001b[49m\u001b[38;5;241;43m8\u001b[39;49m\u001b[43m,\u001b[49m\u001b[38;5;241;43m1\u001b[39;49m\u001b[43m]\u001b[49m\u001b[43m,\u001b[49m\n\u001b[1;32m      3\u001b[0m \u001b[43m    \u001b[49m\u001b[43m[\u001b[49m\u001b[38;5;241;43m-\u001b[39;49m\u001b[38;5;241;43m1\u001b[39;49m\u001b[43m,\u001b[49m\u001b[38;5;241;43m6\u001b[39;49m\u001b[43m]\u001b[49m\n\u001b[0;32m----> 4\u001b[0m \u001b[43m]\u001b[49m\u001b[43m)\u001b[49m\u001b[38;5;241;43m.\u001b[39;49m\u001b[43mdiagonalize\u001b[49m\u001b[43m(\u001b[49m\u001b[43m)\u001b[49m\n",
      "File \u001b[0;32m/Library/Frameworks/Python.framework/Versions/3.10/lib/python3.10/site-packages/sympy/matrices/matrices.py:386\u001b[0m, in \u001b[0;36mMatrixEigen.diagonalize\u001b[0;34m(self, reals_only, sort, normalize)\u001b[0m\n\u001b[1;32m    385\u001b[0m \u001b[38;5;28;01mdef\u001b[39;00m \u001b[38;5;21mdiagonalize\u001b[39m(\u001b[38;5;28mself\u001b[39m, reals_only\u001b[38;5;241m=\u001b[39m\u001b[38;5;28;01mFalse\u001b[39;00m, sort\u001b[38;5;241m=\u001b[39m\u001b[38;5;28;01mFalse\u001b[39;00m, normalize\u001b[38;5;241m=\u001b[39m\u001b[38;5;28;01mFalse\u001b[39;00m):\n\u001b[0;32m--> 386\u001b[0m     \u001b[38;5;28;01mreturn\u001b[39;00m \u001b[43m_diagonalize\u001b[49m\u001b[43m(\u001b[49m\u001b[38;5;28;43mself\u001b[39;49m\u001b[43m,\u001b[49m\u001b[43m \u001b[49m\u001b[43mreals_only\u001b[49m\u001b[38;5;241;43m=\u001b[39;49m\u001b[43mreals_only\u001b[49m\u001b[43m,\u001b[49m\u001b[43m \u001b[49m\u001b[43msort\u001b[49m\u001b[38;5;241;43m=\u001b[39;49m\u001b[43msort\u001b[49m\u001b[43m,\u001b[49m\n\u001b[1;32m    387\u001b[0m \u001b[43m            \u001b[49m\u001b[43mnormalize\u001b[49m\u001b[38;5;241;43m=\u001b[39;49m\u001b[43mnormalize\u001b[49m\u001b[43m)\u001b[49m\n",
      "File \u001b[0;32m/Library/Frameworks/Python.framework/Versions/3.10/lib/python3.10/site-packages/sympy/matrices/eigen.py:697\u001b[0m, in \u001b[0;36m_diagonalize\u001b[0;34m(M, reals_only, sort, normalize)\u001b[0m\n\u001b[1;32m    693\u001b[0m is_diagonalizable, eigenvecs \u001b[38;5;241m=\u001b[39m _is_diagonalizable_with_eigen(M,\n\u001b[1;32m    694\u001b[0m             reals_only\u001b[38;5;241m=\u001b[39mreals_only)\n\u001b[1;32m    696\u001b[0m \u001b[38;5;28;01mif\u001b[39;00m \u001b[38;5;129;01mnot\u001b[39;00m is_diagonalizable:\n\u001b[0;32m--> 697\u001b[0m     \u001b[38;5;28;01mraise\u001b[39;00m MatrixError(\u001b[38;5;124m\"\u001b[39m\u001b[38;5;124mMatrix is not diagonalizable\u001b[39m\u001b[38;5;124m\"\u001b[39m)\n\u001b[1;32m    699\u001b[0m \u001b[38;5;28;01mif\u001b[39;00m sort:\n\u001b[1;32m    700\u001b[0m     eigenvecs \u001b[38;5;241m=\u001b[39m \u001b[38;5;28msorted\u001b[39m(eigenvecs, key\u001b[38;5;241m=\u001b[39mdefault_sort_key)\n",
      "\u001b[0;31mMatrixError\u001b[0m: Matrix is not diagonalizable"
     ]
    }
   ],
   "source": [
    "Matrix([\n",
    "    [8,1],\n",
    "    [-1,6]\n",
    "]).diagonalize()"
   ]
  },
  {
   "cell_type": "code",
   "execution_count": null,
   "metadata": {},
   "outputs": [],
   "source": []
  }
 ],
 "metadata": {
  "kernelspec": {
   "display_name": "Python 3",
   "language": "python",
   "name": "python3"
  },
  "language_info": {
   "codemirror_mode": {
    "name": "ipython",
    "version": 3
   },
   "file_extension": ".py",
   "mimetype": "text/x-python",
   "name": "python",
   "nbconvert_exporter": "python",
   "pygments_lexer": "ipython3",
   "version": "3.10.0"
  }
 },
 "nbformat": 4,
 "nbformat_minor": 2
}
