{
 "cells": [
  {
   "cell_type": "code",
   "execution_count": 3,
   "metadata": {},
   "outputs": [],
   "source": [
    "import sympy as sp\n",
    "import numpy as np\n",
    "from sympy import init_printing\n",
    "from sympy import Matrix\n",
    "init_printing() \n",
    "A = sp.Matrix([[1,-2,3],[0,1,-3],[4,-9,12]])\n",
    "b = sp.Matrix([-5,-14,-3])"
   ]
  },
  {
   "cell_type": "code",
   "execution_count": 4,
   "metadata": {},
   "outputs": [],
   "source": [
    "x=A.inv()*b"
   ]
  },
  {
   "cell_type": "code",
   "execution_count": 5,
   "metadata": {},
   "outputs": [
    {
     "data": {
      "image/png": "[encoded data removed]",
      "text/latex": [
       "$\\displaystyle \\left[\\begin{matrix}-5\\\\-14\\\\-3\\end{matrix}\\right]$"
      ],
      "text/plain": [
       "⎡-5 ⎤\n",
       "⎢   ⎥\n",
       "⎢-14⎥\n",
       "⎢   ⎥\n",
       "⎣-3 ⎦"
      ]
     },
     "execution_count": 5,
     "metadata": {},
     "output_type": "execute_result"
    }
   ],
   "source": [
    "A*x"
   ]
  },
  {
   "cell_type": "code",
   "execution_count": 6,
   "metadata": {},
   "outputs": [
    {
     "data": {
      "image/png": "[encoded data removed]",
      "text/latex": [
       "$\\displaystyle \\left( \\left[\\begin{matrix}1 & 0 & 4 & 3\\\\0 & 1 & 3 & 1\\end{matrix}\\right], \\  \\left( 0, \\  1\\right)\\right)$"
      ],
      "text/plain": [
       "⎛⎡1  0  4  3⎤        ⎞\n",
       "⎜⎢          ⎥, (0, 1)⎟\n",
       "⎝⎣0  1  3  1⎦        ⎠"
      ]
     },
     "execution_count": 6,
     "metadata": {},
     "output_type": "execute_result"
    }
   ],
   "source": [
    "A = sp.Matrix([[1,-5,-11,-2],[-3,8,12,-1]])\n",
    "b = sp.Matrix([-2,-1])\n",
    "A.rref()"
   ]
  },
  {
   "cell_type": "code",
   "execution_count": 7,
   "metadata": {},
   "outputs": [
    {
     "data": {
      "image/png": "[encoded data removed]",
      "text/latex": [
       "$\\displaystyle \\left[\\begin{matrix}-2\\\\-1\\end{matrix}\\right]$"
      ],
      "text/plain": [
       "⎡-2⎤\n",
       "⎢  ⎥\n",
       "⎣-1⎦"
      ]
     },
     "execution_count": 7,
     "metadata": {},
     "output_type": "execute_result"
    }
   ],
   "source": [
    "x_3=9\n",
    "A = sp.Matrix([[1,-5,-11],[-3,8,12]])\n",
    "\n",
    "x= sp.Matrix([3,1,0])+x_3*sp.Matrix([-4,-3,1])\n",
    "A*x"
   ]
  },
  {
   "cell_type": "code",
   "execution_count": 8,
   "metadata": {},
   "outputs": [
    {
     "data": {
      "image/png": "[encoded data removed]",
      "text/latex": [
       "$\\displaystyle \\left( \\left[\\begin{matrix}1 & 0 & 0 & - \\frac{3}{2} & 5\\\\0 & 1 & 0 & - \\frac{1}{2} & 8\\\\0 & 0 & 1 & 0 & 1\\\\0 & 0 & 0 & 0 & 0\\end{matrix}\\right], \\  \\left( 0, \\  1, \\  2\\right)\\right)$"
      ],
      "text/plain": [
       "⎛⎡1  0  0  -3/2  5⎤           ⎞\n",
       "⎜⎢                ⎥           ⎟\n",
       "⎜⎢0  1  0  -1/2  8⎥           ⎟\n",
       "⎜⎢                ⎥, (0, 1, 2)⎟\n",
       "⎜⎢0  0  1   0    1⎥           ⎟\n",
       "⎜⎢                ⎥           ⎟\n",
       "⎝⎣0  0  0   0    0⎦           ⎠"
      ]
     },
     "execution_count": 8,
     "metadata": {},
     "output_type": "execute_result"
    }
   ],
   "source": [
    "A = Matrix([[5,-3,3,-6],[-1,3,-9,0],[-5,7,3,4],[4,-2,9,-5]])\n",
    "b = Matrix([4,10,34,13])\n",
    "aug = A.col_insert(4,b)\n",
    "aug.rref()"
   ]
  },
  {
   "cell_type": "code",
   "execution_count": 9,
   "metadata": {},
   "outputs": [
    {
     "data": {
      "image/png": "[encoded data removed]",
      "text/latex": [
       "$\\displaystyle \\left[\\begin{matrix}7\\\\-5\\end{matrix}\\right]$"
      ],
      "text/plain": [
       "⎡7 ⎤\n",
       "⎢  ⎥\n",
       "⎣-5⎦"
      ]
     },
     "execution_count": 9,
     "metadata": {},
     "output_type": "execute_result"
    }
   ],
   "source": [
    "A = Matrix([[1,1],[6,2]])\n",
    "b = Matrix([[2,32]])\n",
    "A.inv()*b.T"
   ]
  },
  {
   "cell_type": "code",
   "execution_count": 10,
   "metadata": {},
   "outputs": [
    {
     "data": {
      "image/png": "[encoded data removed]",
      "text/latex": [
       "$\\displaystyle 147$"
      ],
      "text/plain": [
       "147"
      ]
     },
     "execution_count": 10,
     "metadata": {},
     "output_type": "execute_result"
    }
   ],
   "source": [
    "Matrix([[1,-2,3],[-1,3,4],[-7,-5,-7]]).det()"
   ]
  },
  {
   "cell_type": "code",
   "execution_count": 11,
   "metadata": {},
   "outputs": [
    {
     "data": {
      "image/png": "[encoded data removed]",
      "text/latex": [
       "$\\displaystyle 0$"
      ],
      "text/plain": [
       "0"
      ]
     },
     "execution_count": 11,
     "metadata": {},
     "output_type": "execute_result"
    }
   ],
   "source": [
    "Matrix([[-4,6,-5,20],[7,4,-4,5],[7,8,3,-5],[-4,2,8,-10]]).det()"
   ]
  },
  {
   "cell_type": "code",
   "execution_count": 12,
   "metadata": {},
   "outputs": [
    {
     "data": {
      "image/png": "[encoded data removed]",
      "text/latex": [
       "$\\displaystyle 0$"
      ],
      "text/plain": [
       "0"
      ]
     },
     "execution_count": 12,
     "metadata": {},
     "output_type": "execute_result"
    }
   ],
   "source": [
    "Matrix([[3,-7,3,-11,5],\n",
    "        [6,-12,8,-24,7],\n",
    "        [-6,10,-13,35,-1],\n",
    "        [9,-17,19,-55,1],\n",
    "        [6,-18,-7,9,21]]).det()"
   ]
  },
  {
   "cell_type": "code",
   "execution_count": 13,
   "metadata": {},
   "outputs": [
    {
     "data": {
      "image/png": "[encoded data removed]",
      "text/latex": [
       "$\\displaystyle \\left[\\begin{matrix}706500.0\\\\643500.0\\end{matrix}\\right]$"
      ],
      "text/plain": [
       "⎡706500.0⎤\n",
       "⎢        ⎥\n",
       "⎣643500.0⎦"
      ]
     },
     "execution_count": 13,
     "metadata": {},
     "output_type": "execute_result"
    }
   ],
   "source": [
    "Matrix([[.91,.04],[.09,.96]])**2*Matrix([800000,550000])"
   ]
  },
  {
   "cell_type": "code",
   "execution_count": 14,
   "metadata": {},
   "outputs": [
    {
     "data": {
      "image/png": "[encoded data removed]",
      "text/latex": [
       "$\\displaystyle \\left( \\left[\\begin{matrix}1 & -3 & 2\\\\-3 & 8 & -2\\\\-4 & -5 & 4\\end{matrix}\\right], \\  56\\right)$"
      ],
      "text/plain": [
       "⎛⎡1   -3  2 ⎤    ⎞\n",
       "⎜⎢          ⎥    ⎟\n",
       "⎜⎢-3  8   -2⎥, 56⎟\n",
       "⎜⎢          ⎥    ⎟\n",
       "⎝⎣-4  -5  4 ⎦    ⎠"
      ]
     },
     "execution_count": 14,
     "metadata": {},
     "output_type": "execute_result"
    }
   ],
   "source": [
    "A=Matrix([[1,-3,2],\n",
    "        [-3,8,-2],\n",
    "        [-4,-5,4]])\n",
    "A,A.det()\n"
   ]
  },
  {
   "cell_type": "code",
   "execution_count": 15,
   "metadata": {},
   "outputs": [
    {
     "data": {
      "image/png": "[encoded data removed]",
      "text/latex": [
       "$\\displaystyle \\left( \\left[\\begin{matrix}1 & 5 & -5 & -6\\\\-2 & -4 & 4 & 18\\\\-4 & -6 & 2 & 22\\end{matrix}\\right], \\  \\left( \\left[\\begin{matrix}1 & 0 & 0 & -11\\\\0 & 1 & 0 & 5\\\\0 & 0 & 1 & 4\\end{matrix}\\right], \\  \\left( 0, \\  1, \\  2\\right)\\right), \\  \\left[\\begin{matrix}-6\\\\18\\\\22\\end{matrix}\\right]\\right)$"
      ],
      "text/plain": [
       "⎛⎡1   5   -5  -6⎤  ⎛⎡1  0  0  -11⎤           ⎞  ⎡-6⎤⎞\n",
       "⎜⎢              ⎥  ⎜⎢            ⎥           ⎟  ⎢  ⎥⎟\n",
       "⎜⎢-2  -4  4   18⎥, ⎜⎢0  1  0   5 ⎥, (0, 1, 2)⎟, ⎢18⎥⎟\n",
       "⎜⎢              ⎥  ⎜⎢            ⎥           ⎟  ⎢  ⎥⎟\n",
       "⎝⎣-4  -6  2   22⎦  ⎝⎣0  0  1   4 ⎦           ⎠  ⎣22⎦⎠"
      ]
     },
     "execution_count": 15,
     "metadata": {},
     "output_type": "execute_result"
    }
   ],
   "source": [
    "# Problem 2\n",
    "A=Matrix([[1,5,-5,-6],\n",
    "        [-2,-4,4,18],\n",
    "        [-4,-6,2,22]])\n",
    "v = Matrix([-11,5,4])\n",
    "# remove last column of A\n",
    "\n",
    "\n",
    "A,A.rref(),A[:,0:3]*v"
   ]
  },
  {
   "cell_type": "code",
   "execution_count": 16,
   "metadata": {},
   "outputs": [
    {
     "data": {
      "image/png": "[encoded data removed]",
      "text/latex": [
       "$\\displaystyle \\left( \\left[\\begin{matrix}1 & -3 & 2 & -2\\\\2 & -4 & 1 & 5\\\\-3 & 1 & 6 & -4\\end{matrix}\\right], \\  \\left( \\left[\\begin{matrix}1 & 0 & - \\frac{5}{2} & 0\\\\0 & 1 & - \\frac{3}{2} & 0\\\\0 & 0 & 0 & 1\\end{matrix}\\right], \\  \\left( 0, \\  1, \\  3\\right)\\right)\\right)$"
      ],
      "text/plain": [
       "⎛⎡1   -3  2  -2⎤  ⎛⎡1  0  -5/2  0⎤           ⎞⎞\n",
       "⎜⎢             ⎥  ⎜⎢             ⎥           ⎟⎟\n",
       "⎜⎢2   -4  1  5 ⎥, ⎜⎢0  1  -3/2  0⎥, (0, 1, 3)⎟⎟\n",
       "⎜⎢             ⎥  ⎜⎢             ⎥           ⎟⎟\n",
       "⎝⎣-3  1   6  -4⎦  ⎝⎣0  0   0    1⎦           ⎠⎠"
      ]
     },
     "execution_count": 16,
     "metadata": {},
     "output_type": "execute_result"
    }
   ],
   "source": [
    "# problem 3\n",
    "A=Matrix([[1,-3,2,-2],\n",
    "        [2,-4,1,5],\n",
    "        [-3,1,6,-4]])\n",
    "A,A.rref()"
   ]
  },
  {
   "cell_type": "code",
   "execution_count": 17,
   "metadata": {},
   "outputs": [
    {
     "data": {
      "image/png": "[encoded data removed]",
      "text/latex": [
       "$\\displaystyle \\left( \\left[\\begin{matrix}1 & 3 & 4 & 9\\\\3 & 9 & 9 & 18\\end{matrix}\\right], \\  \\left( \\left[\\begin{matrix}1 & 3 & 0 & -3\\\\0 & 0 & 1 & 3\\end{matrix}\\right], \\  \\left( 0, \\  2\\right)\\right), \\  \\left[\\begin{matrix}9\\\\18\\end{matrix}\\right]\\right)$"
      ],
      "text/plain": [
       "⎛⎡1  3  4  9 ⎤  ⎛⎡1  3  0  -3⎤        ⎞  ⎡9 ⎤⎞\n",
       "⎜⎢           ⎥, ⎜⎢           ⎥, (0, 2)⎟, ⎢  ⎥⎟\n",
       "⎝⎣3  9  9  18⎦  ⎝⎣0  0  1  3 ⎦        ⎠  ⎣18⎦⎠"
      ]
     },
     "execution_count": 17,
     "metadata": {},
     "output_type": "execute_result"
    }
   ],
   "source": [
    "# probem 4\n",
    "A= Matrix([[1,3,4,9],\n",
    "        [3,9,9,18]])\n",
    "\n",
    "\n",
    "\n",
    "A,A.rref(),A[:,0:-1]*(Matrix([-3,0,3])-5*Matrix([-3,1,0]))"
   ]
  },
  {
   "cell_type": "code",
   "execution_count": 18,
   "metadata": {},
   "outputs": [
    {
     "data": {
      "image/png": "[encoded data removed]",
      "text/latex": [
       "$\\displaystyle \\left( \\left[\\begin{matrix}4 & -2 & 3 & -5\\\\-1 & 3 & -8 & 0\\\\-7 & 9 & 3 & 6\\\\5 & -3 & 8 & -6\\end{matrix}\\right], \\  \\left\\{\\left( \\frac{3 x_{4}}{2}, \\  \\frac{x_{4}}{2}, \\  0, \\  x_{4}\\right)\\right\\}, \\  \\left[\\begin{matrix}0\\\\0\\\\0\\\\0\\end{matrix}\\right]\\right)$"
      ],
      "text/plain": [
       "⎛⎡4   -2  3   -5⎤                       ⎡0⎤⎞\n",
       "⎜⎢              ⎥                       ⎢ ⎥⎟\n",
       "⎜⎢-1  3   -8  0 ⎥  ⎧⎛3⋅x₄  x₄       ⎞⎫  ⎢0⎥⎟\n",
       "⎜⎢              ⎥, ⎨⎜────, ──, 0, x₄⎟⎬, ⎢ ⎥⎟\n",
       "⎜⎢-7  9   3   6 ⎥  ⎩⎝ 2    2        ⎠⎭  ⎢0⎥⎟\n",
       "⎜⎢              ⎥                       ⎢ ⎥⎟\n",
       "⎝⎣5   -3  8   -6⎦                       ⎣0⎦⎠"
      ]
     },
     "execution_count": 18,
     "metadata": {},
     "output_type": "execute_result"
    }
   ],
   "source": [
    "# Problem 5\n",
    "A= Matrix([[4,-2,3,-5],\n",
    "        [-1,3,-8,0],\n",
    "        [-7,9,3,6],\n",
    "        [5,-3,8,-6]])\n",
    "x1, x2, x3, x4 = sp.symbols('x1 x2 x3 x4')\n",
    "\n",
    "# Define the equation Ax = 0\n",
    "eq = sp.Eq(A * Matrix([x1, x2, x3, x4]), Matrix([0, 0, 0, 0]))\n",
    "\n",
    "# Solve the equation\n",
    "from sympy.solvers.solveset import linsolve\n",
    "solution = linsolve(A * Matrix([x1, x2, x3, x4]), x1, x2, x3, x4)\n",
    "\n",
    "v = Matrix([3/2,1/2,0,1])\n",
    "A,solution,A*v"
   ]
  },
  {
   "cell_type": "code",
   "execution_count": 19,
   "metadata": {},
   "outputs": [
    {
     "data": {
      "image/png": "[encoded data removed]",
      "text/latex": [
       "$\\displaystyle \\left( \\left[\\begin{matrix}3 & -9 & 15\\\\-1 & 3 & -5\\end{matrix}\\right], \\  \\left[\\begin{matrix}0\\\\0\\end{matrix}\\right], \\  \\left[\\begin{matrix}3\\\\1\\\\0\\end{matrix}\\right], \\  \\left[\\begin{matrix}-5\\\\0\\\\1\\end{matrix}\\right]\\right)$"
      ],
      "text/plain": [
       "⎛                   ⎡3⎤  ⎡-5⎤⎞\n",
       "⎜⎡3   -9  15⎤  ⎡0⎤  ⎢ ⎥  ⎢  ⎥⎟\n",
       "⎜⎢          ⎥, ⎢ ⎥, ⎢1⎥, ⎢0 ⎥⎟\n",
       "⎜⎣-1  3   -5⎦  ⎣0⎦  ⎢ ⎥  ⎢  ⎥⎟\n",
       "⎝                   ⎣0⎦  ⎣1 ⎦⎠"
      ]
     },
     "execution_count": 19,
     "metadata": {},
     "output_type": "execute_result"
    }
   ],
   "source": [
    "# Problem 7\n",
    "A = Matrix([[3,-9,15],\n",
    "            [-1,3,-5]])\n",
    "A.rref()\n",
    "x_2 =Matrix([3,1,0])\n",
    "x_3 = Matrix([-5,0,1])\n",
    "A,A*(5*x_2+2*x_3),x_2,x_3"
   ]
  },
  {
   "cell_type": "code",
   "execution_count": 20,
   "metadata": {},
   "outputs": [
    {
     "data": {
      "image/png": "[encoded data removed]",
      "text/latex": [
       "$\\displaystyle \\left[\\begin{matrix}1 & 2 & -3\\\\4 & -8 & 4\\end{matrix}\\right]$"
      ],
      "text/plain": [
       "⎡1  2   -3⎤\n",
       "⎢         ⎥\n",
       "⎣4  -8  4 ⎦"
      ]
     },
     "execution_count": 20,
     "metadata": {},
     "output_type": "execute_result"
    }
   ],
   "source": [
    "# Problem 8\n",
    "A = Matrix([[1,2,-3],\n",
    "           [4,-8,4]])\n",
    "A"
   ]
  },
  {
   "cell_type": "code",
   "execution_count": 21,
   "metadata": {},
   "outputs": [
    {
     "data": {
      "image/png": "[encoded data removed]",
      "text/latex": [
       "$\\displaystyle \\left( \\left[\\begin{matrix}1 & -6 & -21 & -3\\\\-3 & 9 & 27 & 0\\end{matrix}\\right], \\  \\left( \\left[\\begin{matrix}1 & 0 & 3 & 3\\\\0 & 1 & 4 & 1\\end{matrix}\\right], \\  \\left( 0, \\  1\\right)\\right), \\  \\left[\\begin{matrix}-3\\\\0\\end{matrix}\\right], \\  \\left[\\begin{matrix}3\\\\1\\\\0\\end{matrix}\\right]\\right)$"
      ],
      "text/plain": [
       "⎛                                                 ⎡3⎤⎞\n",
       "⎜⎡1   -6  -21  -3⎤  ⎛⎡1  0  3  3⎤        ⎞  ⎡-3⎤  ⎢ ⎥⎟\n",
       "⎜⎢               ⎥, ⎜⎢          ⎥, (0, 1)⎟, ⎢  ⎥, ⎢1⎥⎟\n",
       "⎜⎣-3  9   27   0 ⎦  ⎝⎣0  1  4  1⎦        ⎠  ⎣0 ⎦  ⎢ ⎥⎟\n",
       "⎝                                                 ⎣0⎦⎠"
      ]
     },
     "execution_count": 21,
     "metadata": {},
     "output_type": "execute_result"
    }
   ],
   "source": [
    "# Problem 9\n",
    "A=Matrix([[1,-6,-21,-3],\n",
    "        [-3,9,27,0]])\n",
    "v = sp.Matrix([3,1,0])\n",
    "\n",
    "A,A.rref(),A[:,0:3]*v,v\n",
    "# remove the last colmumn\n",
    "\n"
   ]
  },
  {
   "cell_type": "code",
   "execution_count": 22,
   "metadata": {},
   "outputs": [
    {
     "data": {
      "image/png": "[encoded data removed]",
      "text/latex": [
       "$\\displaystyle \\left( \\left[\\begin{matrix}1 & -6 & -21\\\\-3 & 9 & 27\\end{matrix}\\right], \\  \\left[\\begin{matrix}-3\\\\0\\end{matrix}\\right]\\right)$"
      ],
      "text/plain": [
       "⎛⎡1   -6  -21⎤  ⎡-3⎤⎞\n",
       "⎜⎢           ⎥, ⎢  ⎥⎟\n",
       "⎝⎣-3  9   27 ⎦  ⎣0 ⎦⎠"
      ]
     },
     "execution_count": 22,
     "metadata": {},
     "output_type": "execute_result"
    }
   ],
   "source": [
    "A=Matrix([[1,-6,-21],\n",
    "        [-3,9,27]])\n",
    "A,A*(Matrix([3,1,0])+5*Matrix([-3,-4,1]))"
   ]
  },
  {
   "cell_type": "code",
   "execution_count": 23,
   "metadata": {},
   "outputs": [
    {
     "data": {
      "image/png": "[encoded data removed]",
      "text/latex": [
       "$\\displaystyle \\left( \\left[\\begin{matrix}1 & -2 & 3\\\\-1 & 3 & -4\\\\-9 & -2 & 2\\end{matrix}\\right], \\  9\\right)$"
      ],
      "text/plain": [
       "⎛⎡1   -2  3 ⎤   ⎞\n",
       "⎜⎢          ⎥   ⎟\n",
       "⎜⎢-1  3   -4⎥, 9⎟\n",
       "⎜⎢          ⎥   ⎟\n",
       "⎝⎣-9  -2  2 ⎦   ⎠"
      ]
     },
     "execution_count": 23,
     "metadata": {},
     "output_type": "execute_result"
    }
   ],
   "source": [
    "# Problem 12\n",
    "A=Matrix([[1,-2,3],\n",
    "        [-1,3,-4],\n",
    "        [-9,-2,2]])\n",
    "A,A.det()"
   ]
  },
  {
   "cell_type": "code",
   "execution_count": 24,
   "metadata": {},
   "outputs": [
    {
     "data": {
      "image/png": "[encoded data removed]",
      "text/latex": [
       "$\\displaystyle \\left( \\left[\\begin{matrix}7 & -4 & 2\\\\-5 & 4 & 3\\end{matrix}\\right], \\  \\left[\\begin{matrix}-7\\\\-2\\\\-3\\end{matrix}\\right], \\  \\left[\\begin{matrix}-47\\\\18\\end{matrix}\\right]\\right)$"
      ],
      "text/plain": [
       "⎛             ⎡-7⎤       ⎞\n",
       "⎜⎡7   -4  2⎤  ⎢  ⎥  ⎡-47⎤⎟\n",
       "⎜⎢         ⎥, ⎢-2⎥, ⎢   ⎥⎟\n",
       "⎜⎣-5  4   3⎦  ⎢  ⎥  ⎣18 ⎦⎟\n",
       "⎝             ⎣-3⎦       ⎠"
      ]
     },
     "execution_count": 24,
     "metadata": {},
     "output_type": "execute_result"
    }
   ],
   "source": [
    "# Problem 14\n",
    "A=Matrix([[7,-4,2],\n",
    "        [-5,4,3]])\n",
    "B = Matrix([-7,-2,-3])\n",
    "A,B,A*B\n"
   ]
  },
  {
   "cell_type": "code",
   "execution_count": 25,
   "metadata": {},
   "outputs": [
    {
     "data": {
      "image/png": "[encoded data removed]",
      "text/latex": [
       "$\\displaystyle \\left( \\left[\\begin{matrix}8 & -1 & 2\\\\1 & 2 & -1\\\\2 & 2 & -3\\end{matrix}\\right], \\  \\left[\\begin{matrix}-3\\\\-2\\\\-9\\end{matrix}\\right], \\  \\left[\\begin{matrix}-1\\\\1\\\\3\\end{matrix}\\right]\\right)$"
      ],
      "text/plain": [
       "⎛⎡8  -1  2 ⎤  ⎡-3⎤  ⎡-1⎤⎞\n",
       "⎜⎢         ⎥  ⎢  ⎥  ⎢  ⎥⎟\n",
       "⎜⎢1  2   -1⎥, ⎢-2⎥, ⎢1 ⎥⎟\n",
       "⎜⎢         ⎥  ⎢  ⎥  ⎢  ⎥⎟\n",
       "⎝⎣2  2   -3⎦  ⎣-9⎦  ⎣3 ⎦⎠"
      ]
     },
     "execution_count": 25,
     "metadata": {},
     "output_type": "execute_result"
    }
   ],
   "source": [
    "# Problem 15\n",
    "A = Matrix([[8,-1,2],\n",
    "            [1,2,-1],\n",
    "            [2,2,-3]])\n",
    "v = Matrix([-3,-2,-9])\n",
    "# add the vector to the matrix\n",
    "# A = A.col_insert(3,v)\n",
    "A.rref()\n",
    "A,A*Matrix([-1,1,3]),Matrix([-1,1,3])"
   ]
  },
  {
   "cell_type": "code",
   "execution_count": 26,
   "metadata": {},
   "outputs": [
    {
     "data": {
      "image/png": "[encoded data removed]",
      "text/latex": [
       "$\\displaystyle \\left[ \\frac{\\sqrt{3}}{2}, \\  - \\frac{1}{2}\\right]$"
      ],
      "text/plain": [
       "⎡√3      ⎤\n",
       "⎢──, -1/2⎥\n",
       "⎣2       ⎦"
      ]
     },
     "execution_count": 26,
     "metadata": {},
     "output_type": "execute_result"
    }
   ],
   "source": [
    "[sp.cos(sp.pi/6),-sp.sin(sp.pi/6)]"
   ]
  },
  {
   "cell_type": "code",
   "execution_count": 29,
   "metadata": {},
   "outputs": [
    {
     "data": {
      "image/png": "[encoded data removed]",
      "text/latex": [
       "$\\displaystyle \\left\\{ 4 : 1, \\  6 : 1\\right\\}$"
      ],
      "text/plain": [
       "{4: 1, 6: 1}"
      ]
     },
     "execution_count": 29,
     "metadata": {},
     "output_type": "execute_result"
    }
   ],
   "source": [
    "sp.Matrix([[7,-3],[1,3]]).eigenvals()   "
   ]
  },
  {
   "cell_type": "code",
   "execution_count": 30,
   "metadata": {},
   "outputs": [
    {
     "data": {
      "image/png": "[encoded data removed]",
      "text/latex": [
       "$\\displaystyle \\left[ \\left( -3, \\  1, \\  \\left[ \\left[\\begin{matrix}-2\\\\1\\end{matrix}\\right]\\right]\\right), \\  \\left( 11, \\  1, \\  \\left[ \\left[\\begin{matrix}\\frac{1}{3}\\\\1\\end{matrix}\\right]\\right]\\right)\\right]$"
      ],
      "text/plain": [
       "⎡⎛       ⎡⎡-2⎤⎤⎞  ⎛       ⎡⎡1/3⎤⎤⎞⎤\n",
       "⎢⎜-3, 1, ⎢⎢  ⎥⎥⎟, ⎜11, 1, ⎢⎢   ⎥⎥⎟⎥\n",
       "⎣⎝       ⎣⎣1 ⎦⎦⎠  ⎝       ⎣⎣ 1 ⎦⎦⎠⎦"
      ]
     },
     "execution_count": 30,
     "metadata": {},
     "output_type": "execute_result"
    }
   ],
   "source": [
    "sp.Matrix([[-1,4],[6,9]]).eigenvects()"
   ]
  },
  {
   "cell_type": "code",
   "execution_count": 31,
   "metadata": {},
   "outputs": [
    {
     "data": {
      "image/png": "[encoded data removed]",
      "text/latex": [
       "$\\displaystyle \\left[ \\left( 2, \\  1, \\  \\left[ \\left[\\begin{matrix}0\\\\1\\end{matrix}\\right]\\right]\\right), \\  \\left( 3, \\  1, \\  \\left[ \\left[\\begin{matrix}1\\\\1\\end{matrix}\\right]\\right]\\right)\\right]$"
      ],
      "text/plain": [
       "⎡⎛      ⎡⎡0⎤⎤⎞  ⎛      ⎡⎡1⎤⎤⎞⎤\n",
       "⎢⎜2, 1, ⎢⎢ ⎥⎥⎟, ⎜3, 1, ⎢⎢ ⎥⎥⎟⎥\n",
       "⎣⎝      ⎣⎣1⎦⎦⎠  ⎝      ⎣⎣1⎦⎦⎠⎦"
      ]
     },
     "execution_count": 31,
     "metadata": {},
     "output_type": "execute_result"
    }
   ],
   "source": [
    "sp.Matrix([[3,0],[1,2]]).eigenvects()"
   ]
  },
  {
   "cell_type": "code",
   "execution_count": 32,
   "metadata": {},
   "outputs": [
    {
     "data": {
      "image/png": "[encoded data removed]",
      "text/latex": [
       "$\\displaystyle \\left[ \\left( 2, \\  1, \\  \\left[ \\left[\\begin{matrix}-2\\\\1\\\\1\\end{matrix}\\right]\\right]\\right), \\  \\left( 4 - \\sqrt{11}, \\  1, \\  \\left[ \\left[\\begin{matrix}- \\frac{\\sqrt{11}}{5} - \\frac{1}{5}\\\\\\frac{3 \\sqrt{11}}{5} + \\frac{13}{5}\\\\1\\end{matrix}\\right]\\right]\\right), \\  \\left( \\sqrt{11} + 4, \\  1, \\  \\left[ \\left[\\begin{matrix}- \\frac{1}{5} + \\frac{\\sqrt{11}}{5}\\\\\\frac{13}{5} - \\frac{3 \\sqrt{11}}{5}\\\\1\\end{matrix}\\right]\\right]\\right)\\right]$"
      ],
      "text/plain": [
       "⎡                ⎛            ⎡⎡  √11   1 ⎤⎤⎞  ⎛            ⎡⎡  1   √11 ⎤⎤⎞⎤\n",
       "⎢                ⎜            ⎢⎢- ─── - ─ ⎥⎥⎟  ⎜            ⎢⎢- ─ + ─── ⎥⎥⎟⎥\n",
       "⎢⎛      ⎡⎡-2⎤⎤⎞  ⎜            ⎢⎢   5    5 ⎥⎥⎟  ⎜            ⎢⎢  5    5  ⎥⎥⎟⎥\n",
       "⎢⎜      ⎢⎢  ⎥⎥⎟  ⎜            ⎢⎢          ⎥⎥⎟  ⎜            ⎢⎢          ⎥⎥⎟⎥\n",
       "⎢⎜2, 1, ⎢⎢1 ⎥⎥⎟, ⎜4 - √11, 1, ⎢⎢3⋅√11   13⎥⎥⎟, ⎜√11 + 4, 1, ⎢⎢13   3⋅√11⎥⎥⎟⎥\n",
       "⎢⎜      ⎢⎢  ⎥⎥⎟  ⎜            ⎢⎢───── + ──⎥⎥⎟  ⎜            ⎢⎢── - ─────⎥⎥⎟⎥\n",
       "⎢⎝      ⎣⎣1 ⎦⎦⎠  ⎜            ⎢⎢  5     5 ⎥⎥⎟  ⎜            ⎢⎢5      5  ⎥⎥⎟⎥\n",
       "⎢                ⎜            ⎢⎢          ⎥⎥⎟  ⎜            ⎢⎢          ⎥⎥⎟⎥\n",
       "⎣                ⎝            ⎣⎣    1     ⎦⎦⎠  ⎝            ⎣⎣    1     ⎦⎦⎠⎦"
      ]
     },
     "execution_count": 32,
     "metadata": {},
     "output_type": "execute_result"
    }
   ],
   "source": [
    "sp.Matrix([\n",
    "    [3,0,2],\n",
    "    [1,0,4],\n",
    "    [2,-1,7]]\n",
    ").eigenvects()"
   ]
  },
  {
   "cell_type": "code",
   "execution_count": 35,
   "metadata": {},
   "outputs": [
    {
     "data": {
      "image/png": "[encoded data removed]",
      "text/latex": [
       "$\\displaystyle \\left[ \\left( 1, \\  1, \\  \\left[ \\left[\\begin{matrix}-2\\\\2\\\\1\\end{matrix}\\right]\\right]\\right), \\  \\left( 3, \\  2, \\  \\left[ \\left[\\begin{matrix}- \\frac{1}{2}\\\\1\\\\0\\end{matrix}\\right], \\  \\left[\\begin{matrix}- \\frac{1}{2}\\\\0\\\\1\\end{matrix}\\right]\\right]\\right)\\right]$"
      ],
      "text/plain": [
       "⎡⎛      ⎡⎡-2⎤⎤⎞  ⎛      ⎡⎡-1/2⎤  ⎡-1/2⎤⎤⎞⎤\n",
       "⎢⎜      ⎢⎢  ⎥⎥⎟  ⎜      ⎢⎢    ⎥  ⎢    ⎥⎥⎟⎥\n",
       "⎢⎜1, 1, ⎢⎢2 ⎥⎥⎟, ⎜3, 2, ⎢⎢ 1  ⎥, ⎢ 0  ⎥⎥⎟⎥\n",
       "⎢⎜      ⎢⎢  ⎥⎥⎟  ⎜      ⎢⎢    ⎥  ⎢    ⎥⎥⎟⎥\n",
       "⎣⎝      ⎣⎣1 ⎦⎦⎠  ⎝      ⎣⎣ 0  ⎦  ⎣ 1  ⎦⎦⎠⎦"
      ]
     },
     "execution_count": 35,
     "metadata": {},
     "output_type": "execute_result"
    }
   ],
   "source": [
    "sp.Matrix([\n",
    "    [-5,-4,-4],\n",
    "    [8,7,4],\n",
    "    [4,2,5]\n",
    "]).eigenvects()"
   ]
  },
  {
   "cell_type": "code",
   "execution_count": 36,
   "metadata": {},
   "outputs": [
    {
     "data": {
      "image/png": "[encoded data removed]",
      "text/latex": [
       "$\\displaystyle \\left[ \\left( 3, \\  2, \\  \\left[ \\left[\\begin{matrix}-1\\\\1\\\\0\\end{matrix}\\right], \\  \\left[\\begin{matrix}2\\\\0\\\\1\\end{matrix}\\right]\\right]\\right), \\  \\left( 8, \\  1, \\  \\left[ \\left[\\begin{matrix}- \\frac{1}{3}\\\\\\frac{2}{3}\\\\1\\end{matrix}\\right]\\right]\\right)\\right]$"
      ],
      "text/plain": [
       "⎡⎛      ⎡⎡-1⎤  ⎡2⎤⎤⎞  ⎛      ⎡⎡-1/3⎤⎤⎞⎤\n",
       "⎢⎜      ⎢⎢  ⎥  ⎢ ⎥⎥⎟  ⎜      ⎢⎢    ⎥⎥⎟⎥\n",
       "⎢⎜3, 2, ⎢⎢1 ⎥, ⎢0⎥⎥⎟, ⎜8, 1, ⎢⎢2/3 ⎥⎥⎟⎥\n",
       "⎢⎜      ⎢⎢  ⎥  ⎢ ⎥⎥⎟  ⎜      ⎢⎢    ⎥⎥⎟⎥\n",
       "⎣⎝      ⎣⎣0 ⎦  ⎣1⎦⎦⎠  ⎝      ⎣⎣ 1  ⎦⎦⎠⎦"
      ]
     },
     "execution_count": 36,
     "metadata": {},
     "output_type": "execute_result"
    }
   ],
   "source": [
    "sp.Matrix(\n",
    "    [[4,1,-2],\n",
    "     [-2,1,4],[\n",
    "         -3,-3,9\n",
    "     ]]).eigenvects()"
   ]
  },
  {
   "cell_type": "code",
   "execution_count": 37,
   "metadata": {},
   "outputs": [
    {
     "data": {
      "image/png": "[encoded data removed]",
      "text/latex": [
       "$\\displaystyle \\left[ \\left( 0, \\  1, \\  \\left[ \\left[\\begin{matrix}1\\\\0\\\\0\\end{matrix}\\right]\\right]\\right), \\  \\left( 2, \\  1, \\  \\left[ \\left[\\begin{matrix}0\\\\1\\\\0\\end{matrix}\\right]\\right]\\right), \\  \\left( 6, \\  1, \\  \\left[ \\left[\\begin{matrix}0\\\\- \\frac{1}{4}\\\\1\\end{matrix}\\right]\\right]\\right)\\right]$"
      ],
      "text/plain": [
       "⎡⎛      ⎡⎡1⎤⎤⎞  ⎛      ⎡⎡0⎤⎤⎞  ⎛      ⎡⎡ 0  ⎤⎤⎞⎤\n",
       "⎢⎜      ⎢⎢ ⎥⎥⎟  ⎜      ⎢⎢ ⎥⎥⎟  ⎜      ⎢⎢    ⎥⎥⎟⎥\n",
       "⎢⎜0, 1, ⎢⎢0⎥⎥⎟, ⎜2, 1, ⎢⎢1⎥⎥⎟, ⎜6, 1, ⎢⎢-1/4⎥⎥⎟⎥\n",
       "⎢⎜      ⎢⎢ ⎥⎥⎟  ⎜      ⎢⎢ ⎥⎥⎟  ⎜      ⎢⎢    ⎥⎥⎟⎥\n",
       "⎣⎝      ⎣⎣0⎦⎦⎠  ⎝      ⎣⎣0⎦⎦⎠  ⎝      ⎣⎣ 1  ⎦⎦⎠⎦"
      ]
     },
     "execution_count": 37,
     "metadata": {},
     "output_type": "execute_result"
    }
   ],
   "source": [
    "sp.Matrix([\n",
    "    [0,0,0],\n",
    "    [0,2,-1],[\n",
    "        0,0,6\n",
    "    ]\n",
    "]).eigenvects()"
   ]
  },
  {
   "cell_type": "code",
   "execution_count": 50,
   "metadata": {},
   "outputs": [
    {
     "data": {
      "image/png": "[encoded data removed]",
      "text/latex": [
       "$\\displaystyle - \\lambda^{3} + 11 \\lambda^{2} - 38 \\lambda + 40$"
      ],
      "text/plain": [
       "   3       2            \n",
       "- λ  + 11⋅λ  - 38⋅λ + 40"
      ]
     },
     "execution_count": 50,
     "metadata": {},
     "output_type": "execute_result"
    }
   ],
   "source": [
    "eigen = sp.symbols('lambda')\n",
    "A = Matrix(\n",
    "    [[5,0,0],\n",
    "     [-9,4,5],\n",
    "     [8,0,2]])\n",
    "(A-eigen*sp.eye(3)).det()"
   ]
  },
  {
   "cell_type": "code",
   "execution_count": 49,
   "metadata": {},
   "outputs": [
    {
     "data": {
      "image/png": "[encoded data removed]",
      "text/latex": [
       "$\\displaystyle \\left\\{ 1 + \\frac{19}{\\left(- \\frac{1}{2} - \\frac{\\sqrt{3} i}{2}\\right) \\sqrt[3]{\\frac{675}{2} + \\frac{3 \\sqrt{132933}}{2}}} - \\frac{\\left(- \\frac{1}{2} - \\frac{\\sqrt{3} i}{2}\\right) \\sqrt[3]{\\frac{675}{2} + \\frac{3 \\sqrt{132933}}{2}}}{3} : 1, \\  1 - \\frac{\\left(- \\frac{1}{2} + \\frac{\\sqrt{3} i}{2}\\right) \\sqrt[3]{\\frac{675}{2} + \\frac{3 \\sqrt{132933}}{2}}}{3} + \\frac{19}{\\left(- \\frac{1}{2} + \\frac{\\sqrt{3} i}{2}\\right) \\sqrt[3]{\\frac{675}{2} + \\frac{3 \\sqrt{132933}}{2}}} : 1, \\  - \\frac{\\sqrt[3]{\\frac{675}{2} + \\frac{3 \\sqrt{132933}}{2}}}{3} + 1 + \\frac{19}{\\sqrt[3]{\\frac{675}{2} + \\frac{3 \\sqrt{132933}}{2}}} : 1\\right\\}$"
      ],
      "text/plain": [
       "⎧                                                          _________________  \n",
       "⎪                                         ⎛  1   √3⋅ⅈ⎞    ╱ 675   3⋅√132933   \n",
       "⎪                                         ⎜- ─ - ────⎟⋅3 ╱  ─── + ─────────   \n",
       "⎪                    19                   ⎝  2    2  ⎠ ╲╱    2        2       \n",
       "⎨1 + ────────────────────────────────── - ──────────────────────────────────: \n",
       "⎪                     _________________                   3                   \n",
       "⎪    ⎛  1   √3⋅ⅈ⎞    ╱ 675   3⋅√132933                                        \n",
       "⎪    ⎜- ─ - ────⎟⋅3 ╱  ─── + ─────────                                        \n",
       "⎩    ⎝  2    2  ⎠ ╲╱    2        2                                            \n",
       "\n",
       "                        _________________                                     \n",
       "       ⎛  1   √3⋅ⅈ⎞    ╱ 675   3⋅√132933                                      \n",
       "       ⎜- ─ + ────⎟⋅3 ╱  ─── + ─────────                                      \n",
       "       ⎝  2    2  ⎠ ╲╱    2        2                        19                \n",
       "1, 1 - ────────────────────────────────── + ──────────────────────────────────\n",
       "                       3                                     _________________\n",
       "                                            ⎛  1   √3⋅ⅈ⎞    ╱ 675   3⋅√132933 \n",
       "                                            ⎜- ─ + ────⎟⋅3 ╱  ─── + ───────── \n",
       "                                            ⎝  2    2  ⎠ ╲╱    2        2     \n",
       "\n",
       "           _________________                               ⎫\n",
       "          ╱ 675   3⋅√132933                                ⎪\n",
       "       3 ╱  ─── + ─────────                                ⎪\n",
       "       ╲╱    2        2                      19            ⎪\n",
       ": 1, - ───────────────────── + 1 + ─────────────────────: 1⎬\n",
       "                 3                     _________________   ⎪\n",
       "                                      ╱ 675   3⋅√132933    ⎪\n",
       "                                   3 ╱  ─── + ─────────    ⎪\n",
       "                                   ╲╱    2        2        ⎭"
      ]
     },
     "execution_count": 49,
     "metadata": {},
     "output_type": "execute_result"
    }
   ],
   "source": [
    "A.eigenvals()"
   ]
  },
  {
   "cell_type": "code",
   "execution_count": 59,
   "metadata": {},
   "outputs": [
    {
     "data": {
      "image/png": "[encoded data removed]",
      "text/latex": [
       "$\\displaystyle \\left(6 - \\lambda\\right) \\left(9 - \\lambda\\right) \\left(- \\lambda - 3\\right)^{2}$"
      ],
      "text/plain": [
       "                        2\n",
       "(6 - λ)⋅(9 - λ)⋅(-λ - 3) "
      ]
     },
     "execution_count": 59,
     "metadata": {},
     "output_type": "execute_result"
    }
   ],
   "source": [
    "A = Matrix(\n",
    "    [[9,0,0,0],\n",
    "     [6,-3,0,0],\n",
    "     [0,7,6,0],\n",
    "     [-5,-9,2,-3]])\n",
    "(A-eigen*sp.eye(4)).det()"
   ]
  },
  {
   "cell_type": "code",
   "execution_count": 60,
   "metadata": {},
   "outputs": [
    {
     "data": {
      "image/png": "[encoded data removed]",
      "text/latex": [
       "$\\displaystyle \\left\\{ -3 : 2, \\  6 : 1, \\  9 : 1\\right\\}$"
      ],
      "text/plain": [
       "{-3: 2, 6: 1, 9: 1}"
      ]
     },
     "execution_count": 60,
     "metadata": {},
     "output_type": "execute_result"
    }
   ],
   "source": [
    "A.eigenvals()"
   ]
  },
  {
   "cell_type": "code",
   "execution_count": 62,
   "metadata": {},
   "outputs": [
    {
     "data": {
      "image/png": "[encoded data removed]",
      "text/latex": [
       "$\\displaystyle \\left[ \\left( -8, \\  1, \\  \\left[ \\left[\\begin{matrix}-4\\\\1\\end{matrix}\\right]\\right]\\right), \\  \\left( 5, \\  1, \\  \\left[ \\left[\\begin{matrix}9\\\\1\\end{matrix}\\right]\\right]\\right)\\right]$"
      ],
      "text/plain": [
       "⎡⎛       ⎡⎡-4⎤⎤⎞  ⎛      ⎡⎡9⎤⎤⎞⎤\n",
       "⎢⎜-8, 1, ⎢⎢  ⎥⎥⎟, ⎜5, 1, ⎢⎢ ⎥⎥⎟⎥\n",
       "⎣⎝       ⎣⎣1 ⎦⎦⎠  ⎝      ⎣⎣1⎦⎦⎠⎦"
      ]
     },
     "execution_count": 62,
     "metadata": {},
     "output_type": "execute_result"
    }
   ],
   "source": [
    "Matrix([\n",
    "    [1,36],\n",
    "    [1,-4]\n",
    "]).eigenvects()"
   ]
  },
  {
   "cell_type": "code",
   "execution_count": 63,
   "metadata": {},
   "outputs": [
    {
     "data": {
      "image/png": "[encoded data removed]",
      "text/latex": [
       "$\\displaystyle \\left[ \\left( -5, \\  1, \\  \\left[ \\left[\\begin{matrix}1\\\\-1\\\\1\\end{matrix}\\right]\\right]\\right), \\  \\left( -1, \\  2, \\  \\left[ \\left[\\begin{matrix}\\frac{1}{9}\\\\\\frac{1}{3}\\\\1\\end{matrix}\\right]\\right]\\right)\\right]$"
      ],
      "text/plain": [
       "⎡⎛       ⎡⎡1 ⎤⎤⎞  ⎛       ⎡⎡1/9⎤⎤⎞⎤\n",
       "⎢⎜       ⎢⎢  ⎥⎥⎟  ⎜       ⎢⎢   ⎥⎥⎟⎥\n",
       "⎢⎜-5, 1, ⎢⎢-1⎥⎥⎟, ⎜-1, 2, ⎢⎢1/3⎥⎥⎟⎥\n",
       "⎢⎜       ⎢⎢  ⎥⎥⎟  ⎜       ⎢⎢   ⎥⎥⎟⎥\n",
       "⎣⎝       ⎣⎣1 ⎦⎦⎠  ⎝       ⎣⎣ 1 ⎦⎦⎠⎦"
      ]
     },
     "execution_count": 63,
     "metadata": {},
     "output_type": "execute_result"
    }
   ],
   "source": [
    "A = Matrix([\n",
    "    [-4,1,0],\n",
    "    [0,-4,1],\n",
    "    [-9,-3,1]\n",
    "])\n",
    "A.eigenvects()"
   ]
  },
  {
   "cell_type": "code",
   "execution_count": 64,
   "metadata": {},
   "outputs": [
    {
     "data": {
      "image/png": "[encoded data removed]",
      "text/latex": [
       "$\\displaystyle \\left[\\begin{matrix}-399 & 160\\\\-1200 & 481\\end{matrix}\\right]$"
      ],
      "text/plain": [
       "⎡-399   160⎤\n",
       "⎢          ⎥\n",
       "⎣-1200  481⎦"
      ]
     },
     "execution_count": 64,
     "metadata": {},
     "output_type": "execute_result"
    }
   ],
   "source": [
    "D = Matrix([\n",
    "    [3,0],\n",
    "    [0,1]\n",
    "])\n",
    "P = Matrix([\n",
    "    [1,2],\n",
    "    [3,5]\n",
    "])\n",
    "P*D**4*P.inv()"
   ]
  },
  {
   "cell_type": "code",
   "execution_count": 65,
   "metadata": {},
   "outputs": [
    {
     "data": {
      "image/png": "[encoded data removed]",
      "text/latex": [
       "$\\displaystyle \\left[\\begin{matrix}6 \\cdot 2^{k} - 5 \\cdot 8^{k} & - 6 \\cdot 2^{k} + 6 \\cdot 8^{k}\\\\5 \\cdot 2^{k} - 5 \\cdot 8^{k} & - 5 \\cdot 2^{k} + 6 \\cdot 8^{k}\\end{matrix}\\right]$"
      ],
      "text/plain": [
       "⎡   k      k       k      k⎤\n",
       "⎢6⋅2  - 5⋅8   - 6⋅2  + 6⋅8 ⎥\n",
       "⎢                          ⎥\n",
       "⎢   k      k       k      k⎥\n",
       "⎣5⋅2  - 5⋅8   - 5⋅2  + 6⋅8 ⎦"
      ]
     },
     "execution_count": 65,
     "metadata": {},
     "output_type": "execute_result"
    }
   ],
   "source": [
    "D = Matrix([\n",
    "    [2,0],\n",
    "    [0,8]\n",
    "])\n",
    "P = Matrix([\n",
    "    [6,1],\n",
    "    [5,1]\n",
    "])\n",
    "k = sp.symbols('k')\n",
    "P * D**k * P.inv()"
   ]
  },
  {
   "cell_type": "code",
   "execution_count": 73,
   "metadata": {},
   "outputs": [
    {
     "data": {
      "image/png": "[encoded data removed]",
      "text/latex": [
       "$\\displaystyle \\left[ \\left( -7, \\  1, \\  \\left[ \\left[\\begin{matrix}0\\\\1\\end{matrix}\\right]\\right]\\right), \\  \\left( 7, \\  1, \\  \\left[ \\left[\\begin{matrix}\\frac{7}{3}\\\\1\\end{matrix}\\right]\\right]\\right)\\right]$"
      ],
      "text/plain": [
       "⎡⎛       ⎡⎡0⎤⎤⎞  ⎛      ⎡⎡7/3⎤⎤⎞⎤\n",
       "⎢⎜-7, 1, ⎢⎢ ⎥⎥⎟, ⎜7, 1, ⎢⎢   ⎥⎥⎟⎥\n",
       "⎣⎝       ⎣⎣1⎦⎦⎠  ⎝      ⎣⎣ 1 ⎦⎦⎠⎦"
      ]
     },
     "execution_count": 73,
     "metadata": {},
     "output_type": "execute_result"
    }
   ],
   "source": [
    "A = Matrix([[7,0],[6,-7]])\n",
    "v1 = A.eigenvects()[0][2][0]\n",
    "v2 = A.eigenvects()[1][2][0]\n",
    "A.eigenvects()"
   ]
  },
  {
   "cell_type": "code",
   "execution_count": 76,
   "metadata": {},
   "outputs": [
    {
     "data": {
      "image/png": "[encoded data removed]",
      "text/latex": [
       "$\\displaystyle \\left[ \\left( -1, \\  2, \\  \\left[ \\left[\\begin{matrix}-1\\\\1\\\\0\\end{matrix}\\right], \\  \\left[\\begin{matrix}1\\\\0\\\\1\\end{matrix}\\right]\\right]\\right), \\  \\left( 5, \\  1, \\  \\left[ \\left[\\begin{matrix}\\frac{1}{4}\\\\\\frac{1}{2}\\\\1\\end{matrix}\\right]\\right]\\right)\\right]$"
      ],
      "text/plain": [
       "⎡⎛       ⎡⎡-1⎤  ⎡1⎤⎤⎞  ⎛      ⎡⎡1/4⎤⎤⎞⎤\n",
       "⎢⎜       ⎢⎢  ⎥  ⎢ ⎥⎥⎟  ⎜      ⎢⎢   ⎥⎥⎟⎥\n",
       "⎢⎜-1, 2, ⎢⎢1 ⎥, ⎢0⎥⎥⎟, ⎜5, 1, ⎢⎢1/2⎥⎥⎟⎥\n",
       "⎢⎜       ⎢⎢  ⎥  ⎢ ⎥⎥⎟  ⎜      ⎢⎢   ⎥⎥⎟⎥\n",
       "⎣⎝       ⎣⎣0 ⎦  ⎣1⎦⎦⎠  ⎝      ⎣⎣ 1 ⎦⎦⎠⎦"
      ]
     },
     "execution_count": 76,
     "metadata": {},
     "output_type": "execute_result"
    }
   ],
   "source": [
    "Matrix([\n",
    "    [-7,-6,6],\n",
    "    [-12,-13,12],\n",
    "    [-24,-24,23]\n",
    "]).eigenvects()"
   ]
  },
  {
   "cell_type": "code",
   "execution_count": 77,
   "metadata": {},
   "outputs": [
    {
     "data": {
      "image/png": "[encoded data removed]",
      "text/latex": [
       "$\\displaystyle \\left[ \\left( 1, \\  2, \\  \\left[ \\left[\\begin{matrix}0\\\\1\\\\0\\end{matrix}\\right]\\right]\\right), \\  \\left( 3, \\  1, \\  \\left[ \\left[\\begin{matrix}0\\\\0\\\\1\\end{matrix}\\right]\\right]\\right)\\right]$"
      ],
      "text/plain": [
       "⎡⎛      ⎡⎡0⎤⎤⎞  ⎛      ⎡⎡0⎤⎤⎞⎤\n",
       "⎢⎜      ⎢⎢ ⎥⎥⎟  ⎜      ⎢⎢ ⎥⎥⎟⎥\n",
       "⎢⎜1, 2, ⎢⎢1⎥⎥⎟, ⎜3, 1, ⎢⎢0⎥⎥⎟⎥\n",
       "⎢⎜      ⎢⎢ ⎥⎥⎟  ⎜      ⎢⎢ ⎥⎥⎟⎥\n",
       "⎣⎝      ⎣⎣0⎦⎦⎠  ⎝      ⎣⎣1⎦⎦⎠⎦"
      ]
     },
     "execution_count": 77,
     "metadata": {},
     "output_type": "execute_result"
    }
   ],
   "source": [
    "Matrix([\n",
    "    [1,0,0],\n",
    "    [2,1,0],\n",
    "    [0,0,3]\n",
    "]).eigenvects()"
   ]
  },
  {
   "cell_type": "code",
   "execution_count": 78,
   "metadata": {},
   "outputs": [
    {
     "data": {
      "image/png": "[encoded data removed]",
      "text/latex": [
       "$\\displaystyle \\left[ \\left( -47, \\  1, \\  \\left[ \\left[\\begin{matrix}\\frac{1}{5}\\\\1\\end{matrix}\\right]\\right]\\right), \\  \\left( 1, \\  1, \\  \\left[ \\left[\\begin{matrix}5\\\\1\\end{matrix}\\right]\\right]\\right)\\right]$"
      ],
      "text/plain": [
       "⎡⎛        ⎡⎡1/5⎤⎤⎞  ⎛      ⎡⎡5⎤⎤⎞⎤\n",
       "⎢⎜-47, 1, ⎢⎢   ⎥⎥⎟, ⎜1, 1, ⎢⎢ ⎥⎥⎟⎥\n",
       "⎣⎝        ⎣⎣ 1 ⎦⎦⎠  ⎝      ⎣⎣1⎦⎦⎠⎦"
      ]
     },
     "execution_count": 78,
     "metadata": {},
     "output_type": "execute_result"
    }
   ],
   "source": [
    "Matrix([\n",
    "    [3,-10],\n",
    "    [10,-49]\n",
    "]).eigenvects()"
   ]
  },
  {
   "cell_type": "code",
   "execution_count": 82,
   "metadata": {},
   "outputs": [
    {
     "data": {
      "image/png": "[encoded data removed]",
      "text/latex": [
       "$\\displaystyle \\left[\\begin{matrix}\\frac{5}{2}\\\\- \\frac{7}{2}\\end{matrix}\\right]$"
      ],
      "text/plain": [
       "⎡5/2 ⎤\n",
       "⎢    ⎥\n",
       "⎣-7/2⎦"
      ]
     },
     "execution_count": 82,
     "metadata": {},
     "output_type": "execute_result"
    }
   ],
   "source": [
    "Matrix([\n",
    "    [-3,7],\n",
    "    [1,1]\n",
    "])**-1*Matrix([-32,-1])\n",
    "\n"
   ]
  },
  {
   "cell_type": "code",
   "execution_count": 84,
   "metadata": {},
   "outputs": [
    {
     "data": {
      "image/png": "[encoded data removed]",
      "text/latex": [
       "$\\displaystyle \\left[ \\left( -4, \\  1, \\  \\left[ \\left[\\begin{matrix}\\frac{3}{5}\\\\1\\end{matrix}\\right]\\right]\\right), \\  \\left( -2, \\  1, \\  \\left[ \\left[\\begin{matrix}1\\\\1\\end{matrix}\\right]\\right]\\right)\\right]$"
      ],
      "text/plain": [
       "⎡⎛       ⎡⎡3/5⎤⎤⎞  ⎛       ⎡⎡1⎤⎤⎞⎤\n",
       "⎢⎜-4, 1, ⎢⎢   ⎥⎥⎟, ⎜-2, 1, ⎢⎢ ⎥⎥⎟⎥\n",
       "⎣⎝       ⎣⎣ 1 ⎦⎦⎠  ⎝       ⎣⎣1⎦⎦⎠⎦"
      ]
     },
     "execution_count": 84,
     "metadata": {},
     "output_type": "execute_result"
    }
   ],
   "source": [
    "A = Matrix([\n",
    "    [1,-3],\n",
    "    [5,-7]\n",
    "])\n",
    "A.eigenvects()\n"
   ]
  },
  {
   "cell_type": "markdown",
   "metadata": {},
   "source": [
    "# Test 3"
   ]
  },
  {
   "cell_type": "code",
   "execution_count": 85,
   "metadata": {},
   "outputs": [
    {
     "data": {
      "image/png": "[encoded data removed]",
      "text/latex": [
       "$\\displaystyle \\left[ \\left( 4, \\  2, \\  \\left[ \\left[\\begin{matrix}4\\\\1\\\\0\\end{matrix}\\right], \\  \\left[\\begin{matrix}-2\\\\0\\\\1\\end{matrix}\\right]\\right]\\right), \\  \\left( 7, \\  1, \\  \\left[ \\left[\\begin{matrix}1\\\\1\\\\1\\end{matrix}\\right]\\right]\\right)\\right]$"
      ],
      "text/plain": [
       "⎡⎛      ⎡⎡4⎤  ⎡-2⎤⎤⎞  ⎛      ⎡⎡1⎤⎤⎞⎤\n",
       "⎢⎜      ⎢⎢ ⎥  ⎢  ⎥⎥⎟  ⎜      ⎢⎢ ⎥⎥⎟⎥\n",
       "⎢⎜4, 2, ⎢⎢1⎥, ⎢0 ⎥⎥⎟, ⎜7, 1, ⎢⎢1⎥⎥⎟⎥\n",
       "⎢⎜      ⎢⎢ ⎥  ⎢  ⎥⎥⎟  ⎜      ⎢⎢ ⎥⎥⎟⎥\n",
       "⎣⎝      ⎣⎣0⎦  ⎣1 ⎦⎦⎠  ⎝      ⎣⎣1⎦⎦⎠⎦"
      ]
     },
     "execution_count": 85,
     "metadata": {},
     "output_type": "execute_result"
    }
   ],
   "source": [
    "# Problem 1\n",
    "Matrix([[1,12,-6],\n",
    "        [-3,16,-6],\n",
    "        [-3,12,-2]]).eigenvects()"
   ]
  },
  {
   "cell_type": "code",
   "execution_count": 86,
   "metadata": {},
   "outputs": [
    {
     "data": {
      "image/png": "[encoded data removed]",
      "text/latex": [
       "$\\displaystyle \\left[ \\left( 2, \\  1, \\  \\left[ \\left[\\begin{matrix}1\\\\0\\end{matrix}\\right]\\right]\\right), \\  \\left( 3, \\  1, \\  \\left[ \\left[\\begin{matrix}1\\\\1\\end{matrix}\\right]\\right]\\right)\\right]$"
      ],
      "text/plain": [
       "⎡⎛      ⎡⎡1⎤⎤⎞  ⎛      ⎡⎡1⎤⎤⎞⎤\n",
       "⎢⎜2, 1, ⎢⎢ ⎥⎥⎟, ⎜3, 1, ⎢⎢ ⎥⎥⎟⎥\n",
       "⎣⎝      ⎣⎣0⎦⎦⎠  ⎝      ⎣⎣1⎦⎦⎠⎦"
      ]
     },
     "execution_count": 86,
     "metadata": {},
     "output_type": "execute_result"
    }
   ],
   "source": [
    "# Problem 2\n",
    "Matrix([\n",
    "    [2,1],\n",
    "    [0,3]\n",
    "]).eigenvects()"
   ]
  },
  {
   "cell_type": "code",
   "execution_count": 87,
   "metadata": {},
   "outputs": [
    {
     "data": {
      "image/png": "[encoded data removed]",
      "text/latex": [
       "$\\displaystyle \\left[ \\left( -15, \\  1, \\  \\left[ \\left[\\begin{matrix}\\frac{1}{3}\\\\1\\end{matrix}\\right]\\right]\\right), \\  \\left( 1, \\  1, \\  \\left[ \\left[\\begin{matrix}3\\\\1\\end{matrix}\\right]\\right]\\right)\\right]$"
      ],
      "text/plain": [
       "⎡⎛        ⎡⎡1/3⎤⎤⎞  ⎛      ⎡⎡3⎤⎤⎞⎤\n",
       "⎢⎜-15, 1, ⎢⎢   ⎥⎥⎟, ⎜1, 1, ⎢⎢ ⎥⎥⎟⎥\n",
       "⎣⎝        ⎣⎣ 1 ⎦⎦⎠  ⎝      ⎣⎣1⎦⎦⎠⎦"
      ]
     },
     "execution_count": 87,
     "metadata": {},
     "output_type": "execute_result"
    }
   ],
   "source": [
    "#Problem 3\n",
    "A = Matrix([\n",
    "    [3,-6],\n",
    "    [6,-17]])\n",
    "A.eigenvects()"
   ]
  },
  {
   "cell_type": "code",
   "execution_count": 129,
   "metadata": {},
   "outputs": [
    {
     "data": {
      "image/png": "[encoded data removed]",
      "text/latex": [
       "$\\displaystyle \\left( \\left[\\begin{matrix}1 & 0 & 0\\\\0 & 1 & 0\\\\0 & 0 & 1\\\\0 & 0 & 0\\\\0 & 0 & 0\\end{matrix}\\right], \\  \\left( 0, \\  1, \\  2\\right)\\right)$"
      ],
      "text/plain": [
       "⎛⎡1  0  0⎤           ⎞\n",
       "⎜⎢       ⎥           ⎟\n",
       "⎜⎢0  1  0⎥           ⎟\n",
       "⎜⎢       ⎥           ⎟\n",
       "⎜⎢0  0  1⎥, (0, 1, 2)⎟\n",
       "⎜⎢       ⎥           ⎟\n",
       "⎜⎢0  0  0⎥           ⎟\n",
       "⎜⎢       ⎥           ⎟\n",
       "⎝⎣0  0  0⎦           ⎠"
      ]
     },
     "execution_count": 129,
     "metadata": {},
     "output_type": "execute_result"
    }
   ],
   "source": [
    "#Question 4\n",
    "A = Matrix([\n",
    "    [9,8,-2],\n",
    "    [-2,-6,8],\n",
    "    [5,-1,-7],\n",
    "    [4,-1,2],\n",
    "    [4,8,-3]\n",
    "])\n",
    "A.rref()"
   ]
  },
  {
   "cell_type": "code",
   "execution_count": 88,
   "metadata": {},
   "outputs": [
    {
     "data": {
      "image/png": "[encoded data removed]",
      "text/latex": [
       "$\\displaystyle \\left( \\left[\\begin{matrix}1 & 0 & -7 & 2\\\\0 & 1 & -5 & 3\\\\0 & 0 & 0 & 0\\end{matrix}\\right], \\  \\left( 0, \\  1\\right)\\right)$"
      ],
      "text/plain": [
       "⎛⎡1  0  -7  2⎤        ⎞\n",
       "⎜⎢           ⎥        ⎟\n",
       "⎜⎢0  1  -5  3⎥, (0, 1)⎟\n",
       "⎜⎢           ⎥        ⎟\n",
       "⎝⎣0  0  0   0⎦        ⎠"
      ]
     },
     "execution_count": 88,
     "metadata": {},
     "output_type": "execute_result"
    }
   ],
   "source": [
    "# Problem 5\n",
    "A = Matrix([\n",
    "    [1,0,-7,2],\n",
    "    [0,1,-5,3],\n",
    "    [7,-10,1,-16]\n",
    "])\n",
    "A.rref()"
   ]
  },
  {
   "cell_type": "code",
   "execution_count": 151,
   "metadata": {},
   "outputs": [
    {
     "data": {
      "image/png": "[encoded data removed]",
      "text/latex": [
       "$\\displaystyle \\left[\\begin{matrix}1\\\\4\\end{matrix}\\right]$"
      ],
      "text/plain": [
       "⎡1⎤\n",
       "⎢ ⎥\n",
       "⎣4⎦"
      ]
     },
     "execution_count": 151,
     "metadata": {},
     "output_type": "execute_result"
    }
   ],
   "source": [
    "# Question 6\n",
    "b = Matrix([\n",
    "    [-1,3],\n",
    "    [1,-2]\n",
    "]).transpose()\n",
    "c = Matrix([\n",
    "    [1,4],\n",
    "    [1,3]\n",
    "]).transpose()\n",
    "P_bc = c*(b**-1)\n",
    "P_bc*b[:,0]\n"
   ]
  },
  {
   "cell_type": "code",
   "execution_count": 153,
   "metadata": {},
   "outputs": [
    {
     "data": {
      "image/png": "[encoded data removed]",
      "text/latex": [
       "$\\displaystyle \\left( \\left[\\begin{matrix}1 & 0 & 6 & 5\\\\0 & 1 & 7 & 6\\end{matrix}\\right], \\  \\left( 0, \\  1\\right)\\right)$"
      ],
      "text/plain": [
       "⎛⎡1  0  6  5⎤        ⎞\n",
       "⎜⎢          ⎥, (0, 1)⎟\n",
       "⎝⎣0  1  7  6⎦        ⎠"
      ]
     },
     "execution_count": 153,
     "metadata": {},
     "output_type": "execute_result"
    }
   ],
   "source": [
    "# bc is the two matricies side by side\n",
    "bc = b.row_join(c)\n",
    "bc.rref()"
   ]
  },
  {
   "cell_type": "code",
   "execution_count": 111,
   "metadata": {},
   "outputs": [
    {
     "data": {
      "image/png": "[encoded data removed]",
      "text/latex": [
       "$\\displaystyle \\left[\\begin{matrix}1\\\\4\\end{matrix}\\right]$"
      ],
      "text/plain": [
       "⎡1⎤\n",
       "⎢ ⎥\n",
       "⎣4⎦"
      ]
     },
     "execution_count": 111,
     "metadata": {},
     "output_type": "execute_result"
    }
   ],
   "source": [
    "P_bc*b[:,0]"
   ]
  },
  {
   "cell_type": "code",
   "execution_count": 135,
   "metadata": {},
   "outputs": [
    {
     "data": {
      "image/png": "[encoded data removed]",
      "text/latex": [
       "$\\displaystyle \\left[\\begin{matrix}7 & -2\\\\-17 & 5\\end{matrix}\\right]$"
      ],
      "text/plain": [
       "⎡ 7   -2⎤\n",
       "⎢       ⎥\n",
       "⎣-17  5 ⎦"
      ]
     },
     "execution_count": 135,
     "metadata": {},
     "output_type": "execute_result"
    }
   ],
   "source": [
    "P_cb = P_bc**-1\n",
    "P_cb"
   ]
  },
  {
   "cell_type": "code",
   "execution_count": 115,
   "metadata": {},
   "outputs": [
    {
     "data": {
      "image/png": "[encoded data removed]",
      "text/latex": [
       "$\\displaystyle \\left[ \\left( -64, \\  1, \\  \\left[ \\left[\\begin{matrix}-9\\\\1\\end{matrix}\\right]\\right]\\right), \\  \\left( 0, \\  1, \\  \\left[ \\left[\\begin{matrix}\\frac{1}{7}\\\\1\\end{matrix}\\right]\\right]\\right)\\right]$"
      ],
      "text/plain": [
       "⎡⎛        ⎡⎡-9⎤⎤⎞  ⎛      ⎡⎡1/7⎤⎤⎞⎤\n",
       "⎢⎜-64, 1, ⎢⎢  ⎥⎥⎟, ⎜0, 1, ⎢⎢   ⎥⎥⎟⎥\n",
       "⎣⎝        ⎣⎣1 ⎦⎦⎠  ⎝      ⎣⎣ 1 ⎦⎦⎠⎦"
      ]
     },
     "execution_count": 115,
     "metadata": {},
     "output_type": "execute_result"
    }
   ],
   "source": [
    "#Question 7\n",
    "A = Matrix([\n",
    "    [-63,9],\n",
    "    [7,-1]\n",
    "])\n",
    "A.eigenvects()"
   ]
  },
  {
   "cell_type": "code",
   "execution_count": 118,
   "metadata": {},
   "outputs": [
    {
     "data": {
      "image/png": "[encoded data removed]",
      "text/latex": [
       "$\\displaystyle \\left( \\left[\\begin{matrix}1 & 0 & 0 & - \\frac{16}{5} & 2\\\\0 & 1 & 0 & 1 & 3\\\\0 & 0 & 1 & - \\frac{3}{5} & -1\\\\0 & 0 & 0 & 0 & 0\\end{matrix}\\right], \\  \\left( 0, \\  1, \\  2\\right)\\right)$"
      ],
      "text/plain": [
       "⎛⎡1  0  0  -16/5  2 ⎤           ⎞\n",
       "⎜⎢                  ⎥           ⎟\n",
       "⎜⎢0  1  0    1    3 ⎥           ⎟\n",
       "⎜⎢                  ⎥, (0, 1, 2)⎟\n",
       "⎜⎢0  0  1  -3/5   -1⎥           ⎟\n",
       "⎜⎢                  ⎥           ⎟\n",
       "⎝⎣0  0  0    0    0 ⎦           ⎠"
      ]
     },
     "execution_count": 118,
     "metadata": {},
     "output_type": "execute_result"
    }
   ],
   "source": [
    "#Question 8\n",
    "A = Matrix([\n",
    "    [-1,3,7,2,0],\n",
    "    [1,-2,-7,-1,3],\n",
    "    [2,-4,-9,-5,1],\n",
    "    [3,-6,-11,-9,-1]\n",
    "])\n",
    "A.rref()\n",
    "# find the column space of A\n"
   ]
  },
  {
   "cell_type": "code",
   "execution_count": 119,
   "metadata": {},
   "outputs": [
    {
     "data": {
      "image/png": "[encoded data removed]",
      "text/latex": [
       "$\\displaystyle \\left[ \\left( -6, \\  1, \\  \\left[ \\left[\\begin{matrix}0\\\\- \\frac{7}{8}\\\\1\\end{matrix}\\right]\\right]\\right), \\  \\left( 0, \\  1, \\  \\left[ \\left[\\begin{matrix}1\\\\0\\\\0\\end{matrix}\\right]\\right]\\right), \\  \\left( 2, \\  1, \\  \\left[ \\left[\\begin{matrix}0\\\\1\\\\0\\end{matrix}\\right]\\right]\\right)\\right]$"
      ],
      "text/plain": [
       "⎡⎛       ⎡⎡ 0  ⎤⎤⎞  ⎛      ⎡⎡1⎤⎤⎞  ⎛      ⎡⎡0⎤⎤⎞⎤\n",
       "⎢⎜       ⎢⎢    ⎥⎥⎟  ⎜      ⎢⎢ ⎥⎥⎟  ⎜      ⎢⎢ ⎥⎥⎟⎥\n",
       "⎢⎜-6, 1, ⎢⎢-7/8⎥⎥⎟, ⎜0, 1, ⎢⎢0⎥⎥⎟, ⎜2, 1, ⎢⎢1⎥⎥⎟⎥\n",
       "⎢⎜       ⎢⎢    ⎥⎥⎟  ⎜      ⎢⎢ ⎥⎥⎟  ⎜      ⎢⎢ ⎥⎥⎟⎥\n",
       "⎣⎝       ⎣⎣ 1  ⎦⎦⎠  ⎝      ⎣⎣0⎦⎦⎠  ⎝      ⎣⎣0⎦⎦⎠⎦"
      ]
     },
     "execution_count": 119,
     "metadata": {},
     "output_type": "execute_result"
    }
   ],
   "source": [
    "# Question 9\n",
    "A = Matrix([\n",
    "    [0,0,0],\n",
    "    [0,2,7],\n",
    "    [0,0,-6]\n",
    "])\n",
    "A.eigenvects()"
   ]
  },
  {
   "cell_type": "code",
   "execution_count": 121,
   "metadata": {},
   "outputs": [
    {
     "ename": "MatrixError",
     "evalue": "Matrix is not diagonalizable",
     "output_type": "error",
     "traceback": [
      "\u001b[0;31m---------------------------------------------------------------------------\u001b[0m",
      "\u001b[0;31mMatrixError\u001b[0m                               Traceback (most recent call last)",
      "Cell \u001b[0;32mIn[121], line 6\u001b[0m\n\u001b[1;32m      1\u001b[0m A \u001b[38;5;241m=\u001b[39m Matrix([\n\u001b[1;32m      2\u001b[0m     [\u001b[38;5;241m18\u001b[39m,\u001b[38;5;241m1\u001b[39m],\n\u001b[1;32m      3\u001b[0m     [\u001b[38;5;241m0\u001b[39m,\u001b[38;5;241m18\u001b[39m]\n\u001b[1;32m      4\u001b[0m ])\n\u001b[1;32m      5\u001b[0m A\u001b[38;5;241m.\u001b[39meigenvects()\n\u001b[0;32m----> 6\u001b[0m \u001b[43mA\u001b[49m\u001b[38;5;241;43m.\u001b[39;49m\u001b[43mdiagonalize\u001b[49m\u001b[43m(\u001b[49m\u001b[43m)\u001b[49m\n",
      "File \u001b[0;32m/Library/Frameworks/Python.framework/Versions/3.10/lib/python3.10/site-packages/sympy/matrices/matrices.py:386\u001b[0m, in \u001b[0;36mMatrixEigen.diagonalize\u001b[0;34m(self, reals_only, sort, normalize)\u001b[0m\n\u001b[1;32m    385\u001b[0m \u001b[38;5;28;01mdef\u001b[39;00m \u001b[38;5;21mdiagonalize\u001b[39m(\u001b[38;5;28mself\u001b[39m, reals_only\u001b[38;5;241m=\u001b[39m\u001b[38;5;28;01mFalse\u001b[39;00m, sort\u001b[38;5;241m=\u001b[39m\u001b[38;5;28;01mFalse\u001b[39;00m, normalize\u001b[38;5;241m=\u001b[39m\u001b[38;5;28;01mFalse\u001b[39;00m):\n\u001b[0;32m--> 386\u001b[0m     \u001b[38;5;28;01mreturn\u001b[39;00m \u001b[43m_diagonalize\u001b[49m\u001b[43m(\u001b[49m\u001b[38;5;28;43mself\u001b[39;49m\u001b[43m,\u001b[49m\u001b[43m \u001b[49m\u001b[43mreals_only\u001b[49m\u001b[38;5;241;43m=\u001b[39;49m\u001b[43mreals_only\u001b[49m\u001b[43m,\u001b[49m\u001b[43m \u001b[49m\u001b[43msort\u001b[49m\u001b[38;5;241;43m=\u001b[39;49m\u001b[43msort\u001b[49m\u001b[43m,\u001b[49m\n\u001b[1;32m    387\u001b[0m \u001b[43m            \u001b[49m\u001b[43mnormalize\u001b[49m\u001b[38;5;241;43m=\u001b[39;49m\u001b[43mnormalize\u001b[49m\u001b[43m)\u001b[49m\n",
      "File \u001b[0;32m/Library/Frameworks/Python.framework/Versions/3.10/lib/python3.10/site-packages/sympy/matrices/eigen.py:697\u001b[0m, in \u001b[0;36m_diagonalize\u001b[0;34m(M, reals_only, sort, normalize)\u001b[0m\n\u001b[1;32m    693\u001b[0m is_diagonalizable, eigenvecs \u001b[38;5;241m=\u001b[39m _is_diagonalizable_with_eigen(M,\n\u001b[1;32m    694\u001b[0m             reals_only\u001b[38;5;241m=\u001b[39mreals_only)\n\u001b[1;32m    696\u001b[0m \u001b[38;5;28;01mif\u001b[39;00m \u001b[38;5;129;01mnot\u001b[39;00m is_diagonalizable:\n\u001b[0;32m--> 697\u001b[0m     \u001b[38;5;28;01mraise\u001b[39;00m MatrixError(\u001b[38;5;124m\"\u001b[39m\u001b[38;5;124mMatrix is not diagonalizable\u001b[39m\u001b[38;5;124m\"\u001b[39m)\n\u001b[1;32m    699\u001b[0m \u001b[38;5;28;01mif\u001b[39;00m sort:\n\u001b[1;32m    700\u001b[0m     eigenvecs \u001b[38;5;241m=\u001b[39m \u001b[38;5;28msorted\u001b[39m(eigenvecs, key\u001b[38;5;241m=\u001b[39mdefault_sort_key)\n",
      "\u001b[0;31mMatrixError\u001b[0m: Matrix is not diagonalizable"
     ]
    }
   ],
   "source": [
    "#Question 10\n",
    "A = Matrix([\n",
    "    [18,1],\n",
    "    [0,18]\n",
    "])\n",
    "A.eigenvects()\n",
    "A.diagonalize()"
   ]
  },
  {
   "cell_type": "code",
   "execution_count": 138,
   "metadata": {},
   "outputs": [
    {
     "data": {
      "image/png": "[encoded data removed]",
      "text/latex": [
       "$\\displaystyle \\left[\\begin{matrix}121 & -60\\\\210 & -104\\end{matrix}\\right]$"
      ],
      "text/plain": [
       "⎡121  -60 ⎤\n",
       "⎢         ⎥\n",
       "⎣210  -104⎦"
      ]
     },
     "execution_count": 138,
     "metadata": {},
     "output_type": "execute_result"
    }
   ],
   "source": [
    "# Question 11\n",
    "P = Matrix([\n",
    "    [1,4],\n",
    "    [2,7]\n",
    "])\n",
    "D = Matrix([\n",
    "    [1,0],\n",
    "    [0,2]\n",
    "])\n",
    "P*(D**4)*(P**-1)\n",
    "A = P*D**4*P.inv()\n",
    "A"
   ]
  },
  {
   "cell_type": "code",
   "execution_count": 123,
   "metadata": {},
   "outputs": [
    {
     "data": {
      "image/png": "[encoded data removed]",
      "text/latex": [
       "$\\displaystyle \\left[ \\left( -5, \\  1, \\  \\left[ \\left[\\begin{matrix}1\\\\-1\\\\1\\end{matrix}\\right]\\right]\\right), \\  \\left( -3, \\  2, \\  \\left[ \\left[\\begin{matrix}1\\\\1\\\\1\\end{matrix}\\right]\\right]\\right)\\right]$"
      ],
      "text/plain": [
       "⎡⎛       ⎡⎡1 ⎤⎤⎞  ⎛       ⎡⎡1⎤⎤⎞⎤\n",
       "⎢⎜       ⎢⎢  ⎥⎥⎟  ⎜       ⎢⎢ ⎥⎥⎟⎥\n",
       "⎢⎜-5, 1, ⎢⎢-1⎥⎥⎟, ⎜-3, 2, ⎢⎢1⎥⎥⎟⎥\n",
       "⎢⎜       ⎢⎢  ⎥⎥⎟  ⎜       ⎢⎢ ⎥⎥⎟⎥\n",
       "⎣⎝       ⎣⎣1 ⎦⎦⎠  ⎝       ⎣⎣1⎦⎦⎠⎦"
      ]
     },
     "execution_count": 123,
     "metadata": {},
     "output_type": "execute_result"
    }
   ],
   "source": [
    "#Question 12\n",
    "A = Matrix([\n",
    "    [-4,1,0],\n",
    "    [0,-4,1],\n",
    "    [-1,1,-3]\n",
    "])\n",
    "A.eigenvects()"
   ]
  },
  {
   "cell_type": "code",
   "execution_count": 141,
   "metadata": {},
   "outputs": [
    {
     "data": {
      "image/png": "[encoded data removed]",
      "text/latex": [
       "$\\displaystyle \\left[\\begin{matrix}1\\\\-1\\\\-2\\end{matrix}\\right]$"
      ],
      "text/plain": [
       "⎡1 ⎤\n",
       "⎢  ⎥\n",
       "⎢-1⎥\n",
       "⎢  ⎥\n",
       "⎣-2⎦"
      ]
     },
     "execution_count": 141,
     "metadata": {},
     "output_type": "execute_result"
    }
   ],
   "source": [
    "#Question 13\n",
    "b = Matrix([\n",
    "    [1,-1,2],\n",
    "    [-1,2,-2],\n",
    "    [-2,2,6]\n",
    "])\n",
    "x = Matrix([-2,1,-16])\n",
    "x_b= b**-1*x\n",
    "x_b"
   ]
  },
  {
   "cell_type": "code",
   "execution_count": 125,
   "metadata": {},
   "outputs": [
    {
     "data": {
      "image/png": "[encoded data removed]",
      "text/latex": [
       "$\\displaystyle \\left[ \\left( 3, \\  2, \\  \\left[ \\left[\\begin{matrix}3\\\\1\\\\0\\end{matrix}\\right], \\  \\left[\\begin{matrix}3\\\\0\\\\1\\end{matrix}\\right]\\right]\\right), \\  \\left( 13, \\  1, \\  \\left[ \\left[\\begin{matrix}-1\\\\2\\\\1\\end{matrix}\\right]\\right]\\right)\\right]$"
      ],
      "text/plain": [
       "⎡⎛      ⎡⎡3⎤  ⎡3⎤⎤⎞  ⎛       ⎡⎡-1⎤⎤⎞⎤\n",
       "⎢⎜      ⎢⎢ ⎥  ⎢ ⎥⎥⎟  ⎜       ⎢⎢  ⎥⎥⎟⎥\n",
       "⎢⎜3, 2, ⎢⎢1⎥, ⎢0⎥⎥⎟, ⎜13, 1, ⎢⎢2 ⎥⎥⎟⎥\n",
       "⎢⎜      ⎢⎢ ⎥  ⎢ ⎥⎥⎟  ⎜       ⎢⎢  ⎥⎥⎟⎥\n",
       "⎣⎝      ⎣⎣0⎦  ⎣1⎦⎦⎠  ⎝       ⎣⎣1 ⎦⎦⎠⎦"
      ]
     },
     "execution_count": 125,
     "metadata": {},
     "output_type": "execute_result"
    }
   ],
   "source": [
    "#Question 14\n",
    "A = Matrix([\n",
    "    [4,-3,-3],\n",
    "    [-2,9,6],\n",
    "    [-1,3,6]\n",
    "])\n",
    "A.eigenvects()"
   ]
  },
  {
   "cell_type": "code",
   "execution_count": 128,
   "metadata": {},
   "outputs": [
    {
     "data": {
      "image/png": "[encoded data removed]",
      "text/latex": [
       "$\\displaystyle \\left( \\left[\\begin{matrix}1 & 0 & 0 & 0 & -68\\\\0 & 1 & 0 & 0 & 25\\\\0 & 0 & 0 & 1 & 5\\end{matrix}\\right], \\  \\left( 0, \\  1, \\  3\\right)\\right)$"
      ],
      "text/plain": [
       "⎛⎡1  0  0  0  -68⎤           ⎞\n",
       "⎜⎢               ⎥           ⎟\n",
       "⎜⎢0  1  0  0  25 ⎥, (0, 1, 3)⎟\n",
       "⎜⎢               ⎥           ⎟\n",
       "⎝⎣0  0  0  1   5 ⎦           ⎠"
      ]
     },
     "execution_count": 128,
     "metadata": {},
     "output_type": "execute_result"
    }
   ],
   "source": [
    "# Question 15\n",
    "A = Matrix([\n",
    "    [1,2,0,4,2],\n",
    "    [0,1,0,-4,5],\n",
    "    [0,0,0,1,5]\n",
    "])\n",
    "A.rref()"
   ]
  },
  {
   "cell_type": "code",
   "execution_count": 127,
   "metadata": {},
   "outputs": [
    {
     "data": {
      "image/png": "[encoded data removed]",
      "text/latex": [
       "$\\displaystyle \\left[ \\left( -7, \\  1, \\  \\left[ \\left[\\begin{matrix}\\frac{1}{5}\\\\1\\end{matrix}\\right]\\right]\\right), \\  \\left( 4, \\  1, \\  \\left[ \\left[\\begin{matrix}\\frac{1}{4}\\\\1\\end{matrix}\\right]\\right]\\right)\\right]$"
      ],
      "text/plain": [
       "⎡⎛       ⎡⎡1/5⎤⎤⎞  ⎛      ⎡⎡1/4⎤⎤⎞⎤\n",
       "⎢⎜-7, 1, ⎢⎢   ⎥⎥⎟, ⎜4, 1, ⎢⎢   ⎥⎥⎟⎥\n",
       "⎣⎝       ⎣⎣ 1 ⎦⎦⎠  ⎝      ⎣⎣ 1 ⎦⎦⎠⎦"
      ]
     },
     "execution_count": 127,
     "metadata": {},
     "output_type": "execute_result"
    }
   ],
   "source": [
    "# Question 16\n",
    "A = Matrix([\n",
    "    [48,-11],\n",
    "    [220,-51]\n",
    "])\n",
    "A.eigenvects()"
   ]
  },
  {
   "cell_type": "code",
   "execution_count": null,
   "metadata": {},
   "outputs": [],
   "source": []
  }
 ],
 "metadata": {
  "kernelspec": {
   "display_name": "Python 3",
   "language": "python",
   "name": "python3"
  },
  "language_info": {
   "codemirror_mode": {
    "name": "ipython",
    "version": 3
   },
   "file_extension": ".py",
   "mimetype": "text/x-python",
   "name": "python",
   "nbconvert_exporter": "python",
   "pygments_lexer": "ipython3",
   "version": "3.10.0"
  }
 },
 "nbformat": 4,
 "nbformat_minor": 2
}
