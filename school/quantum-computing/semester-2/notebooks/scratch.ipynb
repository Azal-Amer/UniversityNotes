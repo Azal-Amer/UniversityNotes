{
 "cells": [
  {
   "cell_type": "code",
   "execution_count": 2,
   "metadata": {},
   "outputs": [
    {
     "data": {
      "text/plain": [
       "True"
      ]
     },
     "execution_count": 2,
     "metadata": {},
     "output_type": "execute_result"
    }
   ],
   "source": [
    "import sympy as sp \n",
    "from sympy import Matrix\n",
    "def unitaryCheck(M):\n",
    "    return M*M.H == sp.eye(M.shape[0])\n",
    "unitaryCheck(Matrix([[1,0],[0,sp.I]]))"
   ]
  },
  {
   "cell_type": "code",
   "execution_count": 3,
   "metadata": {},
   "outputs": [
    {
     "data": {
      "text/latex": [
       "$\\displaystyle 2 a^{2} + 2 b^{2}$"
      ],
      "text/plain": [
       "2*a**2 + 2*b**2"
      ]
     },
     "execution_count": 3,
     "metadata": {},
     "output_type": "execute_result"
    }
   ],
   "source": [
    "a = sp.Symbol('a')\n",
    "b = sp.Symbol('b')\n",
    "sp.expand((a-b)**2+(a+b)**2)"
   ]
  },
  {
   "cell_type": "code",
   "execution_count": 4,
   "metadata": {},
   "outputs": [],
   "source": [
    "theta = sp.Symbol('theta',real=True)\n",
    "norm = sp.Rational(4)\n",
    "\n",
    "rotationMatrix = Matrix([\n",
    "    [sp.cos(theta)**sp.sqrt(norm), -sp.sin(theta)**sp.sqrt(norm)],\n",
    "    [sp.sin(theta)**sp.sqrt(norm), sp.cos(theta)**sp.sqrt(norm)]\n",
    "])\n",
    "vector = Matrix([a,b])\n"
   ]
  },
  {
   "cell_type": "code",
   "execution_count": 5,
   "metadata": {},
   "outputs": [],
   "source": [
    "x = sp.Symbol('x')\n",
    "y = sp.Symbol('y')\n",
    "r = sp.Symbol('r',real=True,positive=True)\n",
    "equation = sp.Eq(((x**4+y**4-x**2-y**2).subs(x,r*sp.cos(theta)).subs(y,r*sp.sin(theta))).simplify(),0)\n",
    "solution = sp.solve(equation,r)[1]\n",
    "rotationMatrix   = rotationMatrix+sp.eye(2)*solution\n",
    "transformation = rotationMatrix*vector\n"
   ]
  },
  {
   "cell_type": "code",
   "execution_count": 6,
   "metadata": {},
   "outputs": [
    {
     "data": {
      "text/latex": [
       "$\\displaystyle \\frac{4 \\sqrt{\\frac{1}{2 \\sin^{4}{\\left(\\theta \\right)} - 2 \\sin^{2}{\\left(\\theta \\right)} + 1}} \\sin^{4}{\\left(\\theta \\right)} \\cos^{2}{\\left(\\theta \\right)} - 4 \\sqrt{\\frac{1}{2 \\sin^{4}{\\left(\\theta \\right)} - 2 \\sin^{2}{\\left(\\theta \\right)} + 1}} \\sin^{2}{\\left(\\theta \\right)} \\cos^{2}{\\left(\\theta \\right)} + 2 \\sqrt{\\frac{1}{2 \\sin^{4}{\\left(\\theta \\right)} - 2 \\sin^{2}{\\left(\\theta \\right)} + 1}} \\cos^{2}{\\left(\\theta \\right)} + 2 \\sin^{8}{\\left(\\theta \\right)} - 2 \\sin^{6}{\\left(\\theta \\right)} + 2 \\sin^{4}{\\left(\\theta \\right)} \\cos^{4}{\\left(\\theta \\right)} + \\sin^{4}{\\left(\\theta \\right)} - 2 \\sin^{2}{\\left(\\theta \\right)} \\cos^{4}{\\left(\\theta \\right)} + \\cos^{4}{\\left(\\theta \\right)} + 1}{2 \\sin^{4}{\\left(\\theta \\right)} - 2 \\sin^{2}{\\left(\\theta \\right)} + 1}$"
      ],
      "text/plain": [
       "(4*sqrt(1/(2*sin(theta)**4 - 2*sin(theta)**2 + 1))*sin(theta)**4*cos(theta)**2 - 4*sqrt(1/(2*sin(theta)**4 - 2*sin(theta)**2 + 1))*sin(theta)**2*cos(theta)**2 + 2*sqrt(1/(2*sin(theta)**4 - 2*sin(theta)**2 + 1))*cos(theta)**2 + 2*sin(theta)**8 - 2*sin(theta)**6 + 2*sin(theta)**4*cos(theta)**4 + sin(theta)**4 - 2*sin(theta)**2*cos(theta)**4 + cos(theta)**4 + 1)/(2*sin(theta)**4 - 2*sin(theta)**2 + 1)"
      ]
     },
     "execution_count": 6,
     "metadata": {},
     "output_type": "execute_result"
    }
   ],
   "source": [
    "rotationMatrix.expand().det()"
   ]
  },
  {
   "cell_type": "code",
   "execution_count": 7,
   "metadata": {},
   "outputs": [],
   "source": [
    "expression = (transformation[0]**norm + transformation[1]**norm ).expand()\n",
    "\n"
   ]
  },
  {
   "cell_type": "code",
   "execution_count": 8,
   "metadata": {},
   "outputs": [
    {
     "data": {
      "text/latex": [
       "$\\displaystyle 2 a^{4} + 12 a^{2} b^{2} + 2 b^{4}$"
      ],
      "text/plain": [
       "2*a**4 + 12*a**2*b**2 + 2*b**4"
      ]
     },
     "execution_count": 8,
     "metadata": {},
     "output_type": "execute_result"
    }
   ],
   "source": [
    "angle = sp.pi/2\n",
    "expression.simplify().subs(theta,angle)"
   ]
  },
  {
   "cell_type": "code",
   "execution_count": 9,
   "metadata": {},
   "outputs": [
    {
     "data": {
      "text/latex": [
       "$\\displaystyle \\left[\\begin{matrix}1 & -1\\\\1 & 1\\end{matrix}\\right]$"
      ],
      "text/plain": [
       "Matrix([\n",
       "[1, -1],\n",
       "[1,  1]])"
      ]
     },
     "execution_count": 9,
     "metadata": {},
     "output_type": "execute_result"
    }
   ],
   "source": [
    "rotationMatrix.subs(theta, angle)"
   ]
  },
  {
   "cell_type": "code",
   "execution_count": 10,
   "metadata": {},
   "outputs": [
    {
     "data": {
      "text/latex": [
       "$\\displaystyle 2 a^{4} + 12 a^{2} b^{2} + 2 b^{4} + 1$"
      ],
      "text/plain": [
       "2*a**4 + 12*a**2*b**2 + 2*b**4 + 1"
      ]
     },
     "execution_count": 10,
     "metadata": {},
     "output_type": "execute_result"
    }
   ],
   "source": [
    "(expression+solution).subs(theta,angle).simplify()"
   ]
  },
  {
   "cell_type": "code",
   "execution_count": 22,
   "metadata": {},
   "outputs": [
    {
     "name": "stdout",
     "output_type": "stream",
     "text": [
      "\\left[\\begin{matrix}\\cos{\\left(\\theta \\right)} & - i \\sin{\\left(\\phi \\right)} \\sin{\\left(\\theta \\right)} + \\sin{\\left(\\theta \\right)} \\cos{\\left(\\phi \\right)}\\\\i \\sin{\\left(\\phi \\right)} \\sin{\\left(\\theta \\right)} + \\sin{\\left(\\theta \\right)} \\cos{\\left(\\phi \\right)} & - \\cos{\\left(\\theta \\right)}\\end{matrix}\\right]\n"
     ]
    }
   ],
   "source": [
    "theta = sp.symbols('theta',real=True)\n",
    "phi =sp.symbols('phi',real=True)\n",
    "X = sp.Matrix([\n",
    "    [0,1],\n",
    "    [1,0]\n",
    "])\n",
    "Y = sp.Matrix([\n",
    "    [0,-sp.I],\n",
    "    [sp.I,0]\n",
    "])\n",
    "Z = sp.Matrix([\n",
    "    [1,0],\n",
    "    [0,-1]\n",
    "])\n",
    "r = sp.Matrix([sp.sin(theta)*sp.cos(phi),sp.sin(theta)*sp.sin(phi),sp.cos(theta)])\n",
    "newbie = r[0]*X+r[1]*Y+r[2]*Z\n",
    "# latex mode\n",
    "sp.init_printing()\n",
    "# get latex of newbie\n",
    "print(sp.latex(newbie))"
   ]
  },
  {
   "cell_type": "code",
   "execution_count": 12,
   "metadata": {},
   "outputs": [
    {
     "data": {
      "image/png": "[encoded data removed]",
      "text/latex": [
       "$\\displaystyle \\left[\\begin{matrix}\\sin^{2}{\\left(\\phi \\right)} \\sin^{2}{\\left(\\theta \\right)} + \\sin^{2}{\\left(\\theta \\right)} \\cos^{2}{\\left(\\phi \\right)} + \\cos^{2}{\\left(\\theta \\right)}\\end{matrix}\\right]$"
      ],
      "text/plain": [
       "⎡   2       2         2       2         2   ⎤\n",
       "⎣sin (φ)⋅sin (θ) + sin (θ)⋅cos (φ) + cos (θ)⎦"
      ]
     },
     "execution_count": 12,
     "metadata": {},
     "output_type": "execute_result"
    }
   ],
   "source": [
    "r.T*r"
   ]
  },
  {
   "cell_type": "code",
   "execution_count": 13,
   "metadata": {},
   "outputs": [
    {
     "data": {
      "image/png": "[encoded data removed]",
      "text/latex": [
       "$\\displaystyle - \\sin^{2}{\\left(\\phi \\right)} \\sin^{2}{\\left(\\theta \\right)} - \\sin^{2}{\\left(\\theta \\right)} \\cos^{2}{\\left(\\phi \\right)} - \\cos^{2}{\\left(\\theta \\right)}$"
      ],
      "text/plain": [
       "     2       2         2       2         2   \n",
       "- sin (φ)⋅sin (θ) - sin (θ)⋅cos (φ) - cos (θ)"
      ]
     },
     "execution_count": 13,
     "metadata": {},
     "output_type": "execute_result"
    }
   ],
   "source": [
    "newbie.det()"
   ]
  },
  {
   "cell_type": "code",
   "execution_count": 14,
   "metadata": {},
   "outputs": [
    {
     "data": {
      "image/png": "[encoded data removed]",
      "text/latex": [
       "$\\displaystyle \\left[\\begin{matrix}i \\sin{\\left(\\phi \\right)} \\sin{\\left(\\theta \\right)} - \\sin{\\left(\\theta \\right)} \\cos{\\left(\\phi \\right)}\\\\\\cos{\\left(\\theta \\right)} + 1\\end{matrix}\\right]$"
      ],
      "text/plain": [
       "⎡ⅈ⋅sin(φ)⋅sin(θ) - sin(θ)⋅cos(φ)⎤\n",
       "⎢                               ⎥\n",
       "⎣          cos(θ) + 1           ⎦"
      ]
     },
     "execution_count": 14,
     "metadata": {},
     "output_type": "execute_result"
    }
   ],
   "source": [
    "newbie.eigenvects()\n",
    "niceVec = newbie.eigenvects()[0][2][0]\n",
    "niceVec = niceVec*(sp.cos(theta)+1)\n",
    "niceVec"
   ]
  },
  {
   "cell_type": "code",
   "execution_count": 23,
   "metadata": {},
   "outputs": [
    {
     "data": {
      "image/png": "[encoded data removed]",
      "text/latex": [
       "$\\displaystyle \\left[\\begin{matrix}i \\sin{\\left(\\phi \\right)} \\sin{\\left(\\theta \\right)} - \\sin{\\left(\\theta \\right)} \\cos{\\left(\\phi \\right)}\\\\\\cos{\\left(\\theta \\right)} + 1\\end{matrix}\\right]$"
      ],
      "text/plain": [
       "⎡ⅈ⋅sin(φ)⋅sin(θ) - sin(θ)⋅cos(φ)⎤\n",
       "⎢                               ⎥\n",
       "⎣          cos(θ) + 1           ⎦"
      ]
     },
     "execution_count": 23,
     "metadata": {},
     "output_type": "execute_result"
    }
   ],
   "source": [
    "niceVec"
   ]
  },
  {
   "cell_type": "code",
   "execution_count": 15,
   "metadata": {},
   "outputs": [],
   "source": [
    "answer =niceVec.subs({theta:sp.pi/2,phi:sp.pi/2})"
   ]
  },
  {
   "cell_type": "code",
   "execution_count": 16,
   "metadata": {},
   "outputs": [
    {
     "data": {
      "image/png": "[encoded data removed]",
      "text/latex": [
       "$\\displaystyle \\left[\\begin{matrix}i\\\\1\\end{matrix}\\right]$"
      ],
      "text/plain": [
       "⎡ⅈ⎤\n",
       "⎢ ⎥\n",
       "⎣1⎦"
      ]
     },
     "execution_count": 16,
     "metadata": {},
     "output_type": "execute_result"
    }
   ],
   "source": [
    "answer"
   ]
  },
  {
   "cell_type": "code",
   "execution_count": 17,
   "metadata": {},
   "outputs": [],
   "source": [
    "M=sp.Matrix([sp.exp(-sp.I*phi),sp.cos(theta)-1])"
   ]
  },
  {
   "cell_type": "code",
   "execution_count": 27,
   "metadata": {},
   "outputs": [
    {
     "name": "stdout",
     "output_type": "stream",
     "text": [
      "\\frac{1}{\\sqrt{\\cos^{2}{\\left(\\theta \\right)} - 2 \\cos{\\left(\\theta \\right)} + 2}}\n"
     ]
    }
   ],
   "source": [
    "scalingDude = sp.Rational(1)/sp.sqrt(((M.H*M)[0]))\n",
    "print(sp.latex(scalingDude.expand()))"
   ]
  },
  {
   "cell_type": "code",
   "execution_count": 19,
   "metadata": {},
   "outputs": [
    {
     "data": {
      "image/png": "[encoded data removed]",
      "text/latex": [
       "$\\displaystyle \\left[\\begin{matrix}e^{- i \\phi}\\\\\\cos{\\left(\\theta \\right)} - 1\\end{matrix}\\right]$"
      ],
      "text/plain": [
       "⎡   -ⅈ⋅φ   ⎤\n",
       "⎢  ℯ       ⎥\n",
       "⎢          ⎥\n",
       "⎣cos(θ) - 1⎦"
      ]
     },
     "execution_count": 19,
     "metadata": {},
     "output_type": "execute_result"
    }
   ],
   "source": [
    "M"
   ]
  },
  {
   "cell_type": "code",
   "execution_count": 20,
   "metadata": {},
   "outputs": [
    {
     "data": {
      "image/png": "[encoded data removed]",
      "text/latex": [
       "$\\displaystyle \\left[\\begin{matrix}2\\end{matrix}\\right]$"
      ],
      "text/plain": [
       "[2]"
      ]
     },
     "execution_count": 20,
     "metadata": {},
     "output_type": "execute_result"
    }
   ],
   "source": [
    "Matrix = sp.Matrix([\n",
    "    [1,(1-sp.cos(theta))/(sp.sin(theta)*sp.exp(-sp.I*phi))]\n",
    "])\n",
    "(Matrix*Matrix.H).subs({theta:sp.pi/2})"
   ]
  },
  {
   "cell_type": "code",
   "execution_count": 21,
   "metadata": {},
   "outputs": [
    {
     "data": {
      "image/png": "[encoded data removed]",
      "text/latex": [
       "$\\displaystyle \\left[\\begin{matrix}- i\\end{matrix}\\right]$"
      ],
      "text/plain": [
       "[-ⅈ]"
      ]
     },
     "execution_count": 21,
     "metadata": {},
     "output_type": "execute_result"
    }
   ],
   "source": [
    "sp.Matrix([sp.I]).H"
   ]
  },
  {
   "cell_type": "code",
   "execution_count": null,
   "metadata": {},
   "outputs": [],
   "source": []
  }
 ],
 "metadata": {
  "kernelspec": {
   "display_name": "Python 3",
   "language": "python",
   "name": "python3"
  },
  "language_info": {
   "codemirror_mode": {
    "name": "ipython",
    "version": 3
   },
   "file_extension": ".py",
   "mimetype": "text/x-python",
   "name": "python",
   "nbconvert_exporter": "python",
   "pygments_lexer": "ipython3",
   "version": "3.10.0"
  }
 },
 "nbformat": 4,
 "nbformat_minor": 2
}
